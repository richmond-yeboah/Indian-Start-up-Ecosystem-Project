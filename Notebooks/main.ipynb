{
 "cells": [
  {
   "cell_type": "markdown",
   "metadata": {},
   "source": [
    "# INDIAN START-UP ECOSYSTEM PROJECT\n",
    "\n",
    "\n",
    "## Project Overview\n",
    "\n",
    "My team is looking to venture into the Indian start-up ecosystem and so I, as a data expert has been tasked with investigating this start-up ecosystem in India, to recommend the best course of action for the team. My research is going to focus on the details of funding for these start-ups in India, where I will dive deep into a data containing all the details about fundings received by the start-ups and communicate my findings and recommendations to the team in the best way possible.\n",
    "\n",
    "I will be leveraging the widely used CRISP-DM Framework for this project.\n",
    "\n",
    "The CRISP-DM (Cross-Industry Standard Process for Data Mining) framework is a widely used methodology for data mining and data analysis projects. It provides a structured approach for planning and executing data projects. The process is cyclic and iterative, consisting of six phases:\n",
    "\n",
    "1. Business Understanding\n",
    "2. Data Understanding\n",
    "3. Data Preparation\n",
    "4. Modeling\n",
    "5. Evaluation\n",
    "6. Deployment\n",
    "\n",
    "Though in this project, steps 4 and 5 won't be implemented."
   ]
  },
  {
   "cell_type": "markdown",
   "metadata": {},
   "source": [
    "## Business Understanding\n",
    "\n",
    "In this project, I am going to focus on the details of funding for these start-ups in India, where I will dive deep into a data containing all the details about fundings received by the start-ups, from 2018 to 2021 and communicate my findings and recommendations to the team in the best way possible.\n",
    "\n",
    "Some hypotheses I will be testing for this project are as follows;\n",
    "I will be getting deep into Hypothesis testing later in the project (Outlining the Null and Alternate Hypotheses)\n",
    "\n",
    "\n",
    "1. Startups headquartered in major metropolitan areas of India likely to receive higher funding amounts than other areas.\n",
    "\n",
    "2. Startups with multiple investors are likely to receive higher amounts of funding in India.\n",
    "\n",
    "3. Funding amounts vary across sectors.\n",
    "\n",
    "\n",
    "\n",
    "\n",
    "I will be focusing on answering the following  business questions:\n",
    "\n",
    "1. what is the overall trend in funding amounts over the specified time period? \n",
    "   - Total and average funding amounts over the years?\n",
    "\n",
    "2. Which year had the most investors?\n",
    "\n",
    "3. Which startups received the highest funding amount for each year?\n",
    "   - Which sectors are those companies from?\n",
    "   - What does these companies do?\n",
    "\n",
    "4. What are the top 5 and bottom 5 start-ups according to funding amount and Which sectors are they from?\n",
    "\n",
    "5. What are the top 5 and bottom 5 sectors by Total Funding amount received?\n",
    "\n",
    "6. Top 10 HQ locations by average funding amounts.\n",
    "   \n",
    "7. What is the number of funding deals per HQ locations?\n",
    "\n",
    "8. What is the average amount of funds received by startups at different stages?\n",
    "\n",
    "9. What is the average number of founders per startup?\n",
    "    - Show a distribution plot of the number of founders."
   ]
  },
  {
   "cell_type": "markdown",
   "metadata": {},
   "source": [
    "### Installing the needed libraries\n",
    "\n",
    "Fisrt I go ahead to install all the required libraries"
   ]
  },
  {
   "cell_type": "code",
   "execution_count": 323,
   "metadata": {},
   "outputs": [],
   "source": [
    "import pyodbc #just installed with pip\n",
    "from dotenv import dotenv_values #import the dotenv_values function from the dotenv package\n",
    "import pandas as pd\n",
    "import warnings\n",
    "from scipy import stats\n",
    "import statistics as stat\n",
    "import numpy as np\n",
    "import seaborn as sns\n",
    "import matplotlib.pyplot as plt\n",
    "\n",
    "warnings.filterwarnings('ignore')"
   ]
  },
  {
   "cell_type": "markdown",
   "metadata": {},
   "source": [
    "### Initializing environment variables\n",
    "\n",
    "To connect to one of the data sources(a database) I'll be working with, I need some credentials (username, password etc.) which cannot be shared or cannot be shown to the public, therefore I need to create a .env file which is going to house the environment variables. This environment variable will be used in creating a connection string to help connect to the database."
   ]
  },
  {
   "cell_type": "code",
   "execution_count": 324,
   "metadata": {},
   "outputs": [],
   "source": [
    "# Load environment variables from .env file into a dictionary\n",
    "environment_variables = dotenv_values('.env')\n",
    "\n",
    "# Get the values for the credentials you set in the '.env' file\n",
    "database=environment_variables.get(\"DATABASE\")\n",
    "server=environment_variables.get(\"SERVER\")\n",
    "login=environment_variables.get(\"LOGIN\")\n",
    "password=environment_variables.get(\"PASSWORD\")\n",
    "\n",
    "# creating connection to database\n",
    "connection_string=f\"DRIVER={{SQL Server}};SERVER={server};DATABASE={database};UID={login};PWD={password}\""
   ]
  },
  {
   "cell_type": "code",
   "execution_count": 325,
   "metadata": {},
   "outputs": [],
   "source": [
    "# Using the connect method of the pyodbc library, I go ahead to pass in the connection string.\n",
    "# This will connect to the server\n",
    "\n",
    "connection=pyodbc.connect(connection_string)"
   ]
  },
  {
   "cell_type": "markdown",
   "metadata": {},
   "source": [
    "## Data Understanding\n",
    "\n",
    "The data for this project will be extracted from 3 different sources, as funding data for 2020 and 2021 are hosted on an SQL Server database, funding data for 2018 is hosted in a Github repository and 2019's funding data is hosted on a OneDrive.\n",
    "\n",
    "First, I connect to the database to see the tables contained in it. I then go ahead to extract the data for 2020 and 2021 by assigning them appropriate variable names.\n",
    "\n",
    "Data hosted on Github and OneDrive were downloaded to my local storage and then read in from there. 2018's data as a CSV file while data for 2019 is an excel file.\n",
    "\n",
    "below are the common fields/columns for 2019, 2020 and 2021 and their descriptions\n",
    "\n",
    "| Field           | Description                                                     |\n",
    "|-----------------|-----------------------------------------------------------------|\n",
    "| Company_Brand   | Name of start-up company                                        |\n",
    "| Founded         | Year it was founded                                             |\n",
    "| HeadQuarter     | Headquarters or location of the company                         |\n",
    "| Sector          | Sector of the company                                           |\n",
    "| What_it_does    | A brief description of what the company does                    |\n",
    "| Founders        | Name(s) of the founder(s) of the company                        |\n",
    "| Investor        | Name(s) of the investor(s) of the company                       |\n",
    "| Amount          | Amount invested into the company by investor(s)                 |\n",
    "| Stage           | Current stage of the startup (e.g. Pre-seed, Pre-series, Series A, Series D) |\n",
    "\n",
    "\n",
    "2018 had different column names but most had the same meaning as the columns for 2019, 2020 and 2021\n",
    "\n",
    "| Field           | Description                                                     |\n",
    "|-----------------|-----------------------------------------------------------------|\n",
    "| Company Name    | Name of start-up company                                        |\n",
    "| Industry        | Sector of the company                                           |\n",
    "| Round/Series    | Current stage of the startup                                    |\n",
    "| Amount          | Amount invested into the company by investor(s)                 |\n",
    "| Location        | Headquarters or location of the company                         |\n",
    "| About Company   | A brief description of what the company does                    |            \n",
    "\n",
    "\n",
    "\n",
    "A year column will be later added to data during data preparation. Now Because 2019,2020 and 2020 have similar or the same columns, columns for 2018 will changed to look just like the other 3 so as to make concatenation easy. The columns for the other 3 might also be tweaked to meet the requirements.\n",
    "\n"
   ]
  },
  {
   "cell_type": "code",
   "execution_count": 326,
   "metadata": {},
   "outputs": [
    {
     "name": "stdout",
     "output_type": "stream",
     "text": [
      "  TABLE_CATALOG TABLE_SCHEMA               TABLE_NAME  TABLE_TYPE\n",
      "0         dapDB          dbo  LP1_startup_funding2021  BASE TABLE\n",
      "1         dapDB          dbo  LP1_startup_funding2020  BASE TABLE\n"
     ]
    }
   ],
   "source": [
    "# Let's see have a look at the tables in the database\n",
    "query = ''' SELECT *\n",
    "            FROM INFORMATION_SCHEMA.TABLES\n",
    "            WHERE TABLE_TYPE = 'BASE TABLE' '''\n",
    "\n",
    "tables=pd.read_sql(query,connection)\n",
    "print(tables)\n"
   ]
  },
  {
   "cell_type": "markdown",
   "metadata": {},
   "source": [
    "\n",
    "\n",
    "\n",
    "\n",
    "As seen above, the database contains two tables namely LP1_startup_funding2020 which contains data for 2020 and then LP1_startup_funding2021 which contains data for 2021.\n",
    "\n",
    "Now I will go ahead to read the data into pandas dataframe separately and assign them to variable names which are self-descriptive"
   ]
  },
  {
   "cell_type": "markdown",
   "metadata": {},
   "source": [
    "#### Reading data for all years into pandas dataframe separately"
   ]
  },
  {
   "cell_type": "code",
   "execution_count": 327,
   "metadata": {},
   "outputs": [
    {
     "data": {
      "text/html": [
       "<div>\n",
       "<style scoped>\n",
       "    .dataframe tbody tr th:only-of-type {\n",
       "        vertical-align: middle;\n",
       "    }\n",
       "\n",
       "    .dataframe tbody tr th {\n",
       "        vertical-align: top;\n",
       "    }\n",
       "\n",
       "    .dataframe thead th {\n",
       "        text-align: right;\n",
       "    }\n",
       "</style>\n",
       "<table border=\"1\" class=\"dataframe\">\n",
       "  <thead>\n",
       "    <tr style=\"text-align: right;\">\n",
       "      <th></th>\n",
       "      <th>Company_Brand</th>\n",
       "      <th>Founded</th>\n",
       "      <th>HeadQuarter</th>\n",
       "      <th>Sector</th>\n",
       "      <th>What_it_does</th>\n",
       "      <th>Founders</th>\n",
       "      <th>Investor</th>\n",
       "      <th>Amount</th>\n",
       "      <th>Stage</th>\n",
       "      <th>column10</th>\n",
       "    </tr>\n",
       "  </thead>\n",
       "  <tbody>\n",
       "    <tr>\n",
       "      <th>0</th>\n",
       "      <td>Aqgromalin</td>\n",
       "      <td>2019.00</td>\n",
       "      <td>Chennai</td>\n",
       "      <td>AgriTech</td>\n",
       "      <td>Cultivating Ideas for Profit</td>\n",
       "      <td>Prasanna Manogaran, Bharani C L</td>\n",
       "      <td>Angel investors</td>\n",
       "      <td>200000.00</td>\n",
       "      <td>None</td>\n",
       "      <td>None</td>\n",
       "    </tr>\n",
       "    <tr>\n",
       "      <th>1</th>\n",
       "      <td>Krayonnz</td>\n",
       "      <td>2019.00</td>\n",
       "      <td>Bangalore</td>\n",
       "      <td>EdTech</td>\n",
       "      <td>An academy-guardian-scholar centric ecosystem which provides state of the art technological solutions.</td>\n",
       "      <td>Saurabh Dixit, Gurudutt Upadhyay</td>\n",
       "      <td>GSF Accelerator</td>\n",
       "      <td>100000.00</td>\n",
       "      <td>Pre-seed</td>\n",
       "      <td>None</td>\n",
       "    </tr>\n",
       "    <tr>\n",
       "      <th>2</th>\n",
       "      <td>PadCare Labs</td>\n",
       "      <td>2018.00</td>\n",
       "      <td>Pune</td>\n",
       "      <td>Hygiene management</td>\n",
       "      <td>Converting bio-hazardous waste to harmless waste</td>\n",
       "      <td>Ajinkya Dhariya</td>\n",
       "      <td>Venture Center</td>\n",
       "      <td>NaN</td>\n",
       "      <td>Pre-seed</td>\n",
       "      <td>None</td>\n",
       "    </tr>\n",
       "    <tr>\n",
       "      <th>3</th>\n",
       "      <td>NCOME</td>\n",
       "      <td>2020.00</td>\n",
       "      <td>New Delhi</td>\n",
       "      <td>Escrow</td>\n",
       "      <td>Escrow-as-a-service platform</td>\n",
       "      <td>Ritesh Tiwari</td>\n",
       "      <td>Venture Catalysts, PointOne Capital</td>\n",
       "      <td>400000.00</td>\n",
       "      <td>None</td>\n",
       "      <td>None</td>\n",
       "    </tr>\n",
       "    <tr>\n",
       "      <th>4</th>\n",
       "      <td>Gramophone</td>\n",
       "      <td>2016.00</td>\n",
       "      <td>Indore</td>\n",
       "      <td>AgriTech</td>\n",
       "      <td>Gramophone is an AgTech platform enabling access to agri inputs and powering efficient farm management.</td>\n",
       "      <td>Ashish Rajan Singh, Harshit Gupta, Nishant Mahatre, Tauseef Khan</td>\n",
       "      <td>Siana Capital Management, Info Edge</td>\n",
       "      <td>340000.00</td>\n",
       "      <td>None</td>\n",
       "      <td>None</td>\n",
       "    </tr>\n",
       "  </tbody>\n",
       "</table>\n",
       "</div>"
      ],
      "text/plain": [
       "  Company_Brand  Founded HeadQuarter              Sector  \\\n",
       "0    Aqgromalin  2019.00     Chennai            AgriTech   \n",
       "1      Krayonnz  2019.00   Bangalore              EdTech   \n",
       "2  PadCare Labs  2018.00        Pune  Hygiene management   \n",
       "3         NCOME  2020.00   New Delhi              Escrow   \n",
       "4    Gramophone  2016.00      Indore            AgriTech   \n",
       "\n",
       "                                                                                              What_it_does  \\\n",
       "0                                                                             Cultivating Ideas for Profit   \n",
       "1   An academy-guardian-scholar centric ecosystem which provides state of the art technological solutions.   \n",
       "2                                                         Converting bio-hazardous waste to harmless waste   \n",
       "3                                                                             Escrow-as-a-service platform   \n",
       "4  Gramophone is an AgTech platform enabling access to agri inputs and powering efficient farm management.   \n",
       "\n",
       "                                                           Founders  \\\n",
       "0                                   Prasanna Manogaran, Bharani C L   \n",
       "1                                  Saurabh Dixit, Gurudutt Upadhyay   \n",
       "2                                                   Ajinkya Dhariya   \n",
       "3                                                     Ritesh Tiwari   \n",
       "4  Ashish Rajan Singh, Harshit Gupta, Nishant Mahatre, Tauseef Khan   \n",
       "\n",
       "                              Investor    Amount     Stage column10  \n",
       "0                      Angel investors 200000.00      None     None  \n",
       "1                      GSF Accelerator 100000.00  Pre-seed     None  \n",
       "2                       Venture Center       NaN  Pre-seed     None  \n",
       "3  Venture Catalysts, PointOne Capital 400000.00      None     None  \n",
       "4  Siana Capital Management, Info Edge 340000.00      None     None  "
      ]
     },
     "execution_count": 327,
     "metadata": {},
     "output_type": "execute_result"
    }
   ],
   "source": [
    "\n",
    "#first we assign the data for 2020 to a variable 'data_2020'\n",
    "\n",
    "query=\"Select * from dbo.LP1_startup_funding2020\"\n",
    "data_2020=pd.read_sql(query,connection)\n",
    "\n",
    "data_2020.head()"
   ]
  },
  {
   "cell_type": "code",
   "execution_count": 328,
   "metadata": {},
   "outputs": [
    {
     "data": {
      "text/html": [
       "<div>\n",
       "<style scoped>\n",
       "    .dataframe tbody tr th:only-of-type {\n",
       "        vertical-align: middle;\n",
       "    }\n",
       "\n",
       "    .dataframe tbody tr th {\n",
       "        vertical-align: top;\n",
       "    }\n",
       "\n",
       "    .dataframe thead th {\n",
       "        text-align: right;\n",
       "    }\n",
       "</style>\n",
       "<table border=\"1\" class=\"dataframe\">\n",
       "  <thead>\n",
       "    <tr style=\"text-align: right;\">\n",
       "      <th></th>\n",
       "      <th>Company_Brand</th>\n",
       "      <th>Founded</th>\n",
       "      <th>HeadQuarter</th>\n",
       "      <th>Sector</th>\n",
       "      <th>What_it_does</th>\n",
       "      <th>Founders</th>\n",
       "      <th>Investor</th>\n",
       "      <th>Amount</th>\n",
       "      <th>Stage</th>\n",
       "    </tr>\n",
       "  </thead>\n",
       "  <tbody>\n",
       "    <tr>\n",
       "      <th>0</th>\n",
       "      <td>Unbox Robotics</td>\n",
       "      <td>2019.00</td>\n",
       "      <td>Bangalore</td>\n",
       "      <td>AI startup</td>\n",
       "      <td>Unbox Robotics builds on-demand AI-driven warehouse robotics solutions, which can be deployed using limited foot-print, time, and capital.</td>\n",
       "      <td>Pramod Ghadge, Shahid Memon</td>\n",
       "      <td>BEENEXT, Entrepreneur First</td>\n",
       "      <td>$1,200,000</td>\n",
       "      <td>Pre-series A</td>\n",
       "    </tr>\n",
       "    <tr>\n",
       "      <th>1</th>\n",
       "      <td>upGrad</td>\n",
       "      <td>2015.00</td>\n",
       "      <td>Mumbai</td>\n",
       "      <td>EdTech</td>\n",
       "      <td>UpGrad is an online higher education platform.</td>\n",
       "      <td>Mayank Kumar, Phalgun Kompalli, Ravijot Chugh, Ronnie Screwvala</td>\n",
       "      <td>Unilazer Ventures, IIFL Asset Management</td>\n",
       "      <td>$120,000,000</td>\n",
       "      <td>None</td>\n",
       "    </tr>\n",
       "    <tr>\n",
       "      <th>2</th>\n",
       "      <td>Lead School</td>\n",
       "      <td>2012.00</td>\n",
       "      <td>Mumbai</td>\n",
       "      <td>EdTech</td>\n",
       "      <td>LEAD School offers technology based school transformation system that assures excellent learning for every child.</td>\n",
       "      <td>Smita Deorah, Sumeet Mehta</td>\n",
       "      <td>GSV Ventures, Westbridge Capital</td>\n",
       "      <td>$30,000,000</td>\n",
       "      <td>Series D</td>\n",
       "    </tr>\n",
       "    <tr>\n",
       "      <th>3</th>\n",
       "      <td>Bizongo</td>\n",
       "      <td>2015.00</td>\n",
       "      <td>Mumbai</td>\n",
       "      <td>B2B E-commerce</td>\n",
       "      <td>Bizongo is a business-to-business online marketplace for packaging products.</td>\n",
       "      <td>Aniket Deb, Ankit Tomar, Sachin Agrawal</td>\n",
       "      <td>CDC Group, IDG Capital</td>\n",
       "      <td>$51,000,000</td>\n",
       "      <td>Series C</td>\n",
       "    </tr>\n",
       "    <tr>\n",
       "      <th>4</th>\n",
       "      <td>FypMoney</td>\n",
       "      <td>2021.00</td>\n",
       "      <td>Gurugram</td>\n",
       "      <td>FinTech</td>\n",
       "      <td>FypMoney is Digital NEO Bank for Teenagers, empowering them with financial literacy and ease of secured financial transactions.</td>\n",
       "      <td>Kapil Banwari</td>\n",
       "      <td>Liberatha Kallat, Mukesh Yadav, Dinesh Nagpal</td>\n",
       "      <td>$2,000,000</td>\n",
       "      <td>Seed</td>\n",
       "    </tr>\n",
       "  </tbody>\n",
       "</table>\n",
       "</div>"
      ],
      "text/plain": [
       "    Company_Brand  Founded HeadQuarter          Sector  \\\n",
       "0  Unbox Robotics  2019.00   Bangalore      AI startup   \n",
       "1          upGrad  2015.00      Mumbai          EdTech   \n",
       "2     Lead School  2012.00      Mumbai          EdTech   \n",
       "3         Bizongo  2015.00      Mumbai  B2B E-commerce   \n",
       "4        FypMoney  2021.00    Gurugram         FinTech   \n",
       "\n",
       "                                                                                                                                 What_it_does  \\\n",
       "0  Unbox Robotics builds on-demand AI-driven warehouse robotics solutions, which can be deployed using limited foot-print, time, and capital.   \n",
       "1                                                                                              UpGrad is an online higher education platform.   \n",
       "2                           LEAD School offers technology based school transformation system that assures excellent learning for every child.   \n",
       "3                                                                Bizongo is a business-to-business online marketplace for packaging products.   \n",
       "4             FypMoney is Digital NEO Bank for Teenagers, empowering them with financial literacy and ease of secured financial transactions.   \n",
       "\n",
       "                                                          Founders  \\\n",
       "0                                      Pramod Ghadge, Shahid Memon   \n",
       "1  Mayank Kumar, Phalgun Kompalli, Ravijot Chugh, Ronnie Screwvala   \n",
       "2                                       Smita Deorah, Sumeet Mehta   \n",
       "3                          Aniket Deb, Ankit Tomar, Sachin Agrawal   \n",
       "4                                                    Kapil Banwari   \n",
       "\n",
       "                                        Investor        Amount         Stage  \n",
       "0                    BEENEXT, Entrepreneur First    $1,200,000  Pre-series A  \n",
       "1       Unilazer Ventures, IIFL Asset Management  $120,000,000          None  \n",
       "2               GSV Ventures, Westbridge Capital   $30,000,000      Series D  \n",
       "3                         CDC Group, IDG Capital   $51,000,000      Series C  \n",
       "4  Liberatha Kallat, Mukesh Yadav, Dinesh Nagpal    $2,000,000          Seed  "
      ]
     },
     "execution_count": 328,
     "metadata": {},
     "output_type": "execute_result"
    }
   ],
   "source": [
    "#then assign the data for 2021 to a variable 'data_2021'\n",
    "\n",
    "query=\"Select * from dbo.LP1_startup_funding2021\"\n",
    "data_2021=pd.read_sql(query,connection)\n",
    "\n",
    "data_2021.head()"
   ]
  },
  {
   "cell_type": "markdown",
   "metadata": {},
   "source": [
    "Since, data for 2020 and 2021 has almost the same columns, I will focus on making changes to them and merging them for the mean time."
   ]
  },
  {
   "cell_type": "code",
   "execution_count": 329,
   "metadata": {},
   "outputs": [],
   "source": [
    "# first add the year for both dataframes\n",
    "data_2020['Year']=2020\n",
    "data_2021['Year']=2021\n",
    "\n",
    "df_20_21=pd.concat([data_2020, data_2021], ignore_index=True)"
   ]
  },
  {
   "cell_type": "markdown",
   "metadata": {},
   "source": [
    "Now since I have concatenated the data for 2020 and 2021, I will go ahead to make sure the column names for both 2018 and 2019 are the same so theyt can also be concatenated to the data"
   ]
  },
  {
   "cell_type": "code",
   "execution_count": 330,
   "metadata": {},
   "outputs": [
    {
     "data": {
      "text/html": [
       "<div>\n",
       "<style scoped>\n",
       "    .dataframe tbody tr th:only-of-type {\n",
       "        vertical-align: middle;\n",
       "    }\n",
       "\n",
       "    .dataframe tbody tr th {\n",
       "        vertical-align: top;\n",
       "    }\n",
       "\n",
       "    .dataframe thead th {\n",
       "        text-align: right;\n",
       "    }\n",
       "</style>\n",
       "<table border=\"1\" class=\"dataframe\">\n",
       "  <thead>\n",
       "    <tr style=\"text-align: right;\">\n",
       "      <th></th>\n",
       "      <th>Company Name</th>\n",
       "      <th>Industry</th>\n",
       "      <th>Round/Series</th>\n",
       "      <th>Amount</th>\n",
       "      <th>Location</th>\n",
       "      <th>About Company</th>\n",
       "    </tr>\n",
       "  </thead>\n",
       "  <tbody>\n",
       "    <tr>\n",
       "      <th>0</th>\n",
       "      <td>TheCollegeFever</td>\n",
       "      <td>Brand Marketing, Event Promotion, Marketing, Sponsorship, Ticketing</td>\n",
       "      <td>Seed</td>\n",
       "      <td>250000</td>\n",
       "      <td>Bangalore, Karnataka, India</td>\n",
       "      <td>TheCollegeFever is a hub for fun, fiesta and frolic of Colleges.</td>\n",
       "    </tr>\n",
       "    <tr>\n",
       "      <th>1</th>\n",
       "      <td>Happy Cow Dairy</td>\n",
       "      <td>Agriculture, Farming</td>\n",
       "      <td>Seed</td>\n",
       "      <td>₹40,000,000</td>\n",
       "      <td>Mumbai, Maharashtra, India</td>\n",
       "      <td>A startup which aggregates milk from dairy farmers in rural Maharashtra.</td>\n",
       "    </tr>\n",
       "    <tr>\n",
       "      <th>2</th>\n",
       "      <td>MyLoanCare</td>\n",
       "      <td>Credit, Financial Services, Lending, Marketplace</td>\n",
       "      <td>Series A</td>\n",
       "      <td>₹65,000,000</td>\n",
       "      <td>Gurgaon, Haryana, India</td>\n",
       "      <td>Leading Online Loans Marketplace in India</td>\n",
       "    </tr>\n",
       "    <tr>\n",
       "      <th>3</th>\n",
       "      <td>PayMe India</td>\n",
       "      <td>Financial Services, FinTech</td>\n",
       "      <td>Angel</td>\n",
       "      <td>2000000</td>\n",
       "      <td>Noida, Uttar Pradesh, India</td>\n",
       "      <td>PayMe India is an innovative FinTech organization which offers short term financial suport to corporate employees.</td>\n",
       "    </tr>\n",
       "    <tr>\n",
       "      <th>4</th>\n",
       "      <td>Eunimart</td>\n",
       "      <td>E-Commerce Platforms, Retail, SaaS</td>\n",
       "      <td>Seed</td>\n",
       "      <td>—</td>\n",
       "      <td>Hyderabad, Andhra Pradesh, India</td>\n",
       "      <td>Eunimart is a one stop solution for merchants to create a difference by selling globally.</td>\n",
       "    </tr>\n",
       "  </tbody>\n",
       "</table>\n",
       "</div>"
      ],
      "text/plain": [
       "      Company Name  \\\n",
       "0  TheCollegeFever   \n",
       "1  Happy Cow Dairy   \n",
       "2       MyLoanCare   \n",
       "3      PayMe India   \n",
       "4         Eunimart   \n",
       "\n",
       "                                                              Industry  \\\n",
       "0  Brand Marketing, Event Promotion, Marketing, Sponsorship, Ticketing   \n",
       "1                                                 Agriculture, Farming   \n",
       "2                     Credit, Financial Services, Lending, Marketplace   \n",
       "3                                          Financial Services, FinTech   \n",
       "4                                   E-Commerce Platforms, Retail, SaaS   \n",
       "\n",
       "  Round/Series       Amount                          Location  \\\n",
       "0         Seed       250000       Bangalore, Karnataka, India   \n",
       "1         Seed  ₹40,000,000        Mumbai, Maharashtra, India   \n",
       "2     Series A  ₹65,000,000           Gurgaon, Haryana, India   \n",
       "3        Angel      2000000       Noida, Uttar Pradesh, India   \n",
       "4         Seed            —  Hyderabad, Andhra Pradesh, India   \n",
       "\n",
       "                                                                                                        About Company  \n",
       "0                                                    TheCollegeFever is a hub for fun, fiesta and frolic of Colleges.  \n",
       "1                                            A startup which aggregates milk from dairy farmers in rural Maharashtra.  \n",
       "2                                                                           Leading Online Loans Marketplace in India  \n",
       "3  PayMe India is an innovative FinTech organization which offers short term financial suport to corporate employees.  \n",
       "4                           Eunimart is a one stop solution for merchants to create a difference by selling globally.  "
      ]
     },
     "execution_count": 330,
     "metadata": {},
     "output_type": "execute_result"
    }
   ],
   "source": [
    "# reading in data for 2018\n",
    "url = 'https://raw.githubusercontent.com/Azubi-Africa/Career_Accelerator_LP1-Data_Analysis/main/startup_funding2018.csv'\n",
    "data_2018 = pd.read_csv(url, on_bad_lines='skip')\n",
    "data_2018.head()"
   ]
  },
  {
   "cell_type": "code",
   "execution_count": 331,
   "metadata": {},
   "outputs": [
    {
     "data": {
      "text/html": [
       "<div>\n",
       "<style scoped>\n",
       "    .dataframe tbody tr th:only-of-type {\n",
       "        vertical-align: middle;\n",
       "    }\n",
       "\n",
       "    .dataframe tbody tr th {\n",
       "        vertical-align: top;\n",
       "    }\n",
       "\n",
       "    .dataframe thead th {\n",
       "        text-align: right;\n",
       "    }\n",
       "</style>\n",
       "<table border=\"1\" class=\"dataframe\">\n",
       "  <thead>\n",
       "    <tr style=\"text-align: right;\">\n",
       "      <th></th>\n",
       "      <th>Company/Brand</th>\n",
       "      <th>Founded</th>\n",
       "      <th>HeadQuarter</th>\n",
       "      <th>Sector</th>\n",
       "      <th>What it does</th>\n",
       "      <th>Founders</th>\n",
       "      <th>Investor</th>\n",
       "      <th>Amount($)</th>\n",
       "      <th>Stage</th>\n",
       "    </tr>\n",
       "  </thead>\n",
       "  <tbody>\n",
       "    <tr>\n",
       "      <th>0</th>\n",
       "      <td>Bombay Shaving</td>\n",
       "      <td>NaN</td>\n",
       "      <td>NaN</td>\n",
       "      <td>Ecommerce</td>\n",
       "      <td>Provides a range of male grooming products</td>\n",
       "      <td>Shantanu Deshpande</td>\n",
       "      <td>Sixth Sense Ventures</td>\n",
       "      <td>$6,300,000</td>\n",
       "      <td>NaN</td>\n",
       "    </tr>\n",
       "    <tr>\n",
       "      <th>1</th>\n",
       "      <td>Ruangguru</td>\n",
       "      <td>2014.00</td>\n",
       "      <td>Mumbai</td>\n",
       "      <td>Edtech</td>\n",
       "      <td>A learning platform that provides topic-based journey, animated videos, quizzes, infographic and mock tests to students</td>\n",
       "      <td>Adamas Belva Syah Devara, Iman Usman.</td>\n",
       "      <td>General Atlantic</td>\n",
       "      <td>$150,000,000</td>\n",
       "      <td>Series C</td>\n",
       "    </tr>\n",
       "    <tr>\n",
       "      <th>2</th>\n",
       "      <td>Eduisfun</td>\n",
       "      <td>NaN</td>\n",
       "      <td>Mumbai</td>\n",
       "      <td>Edtech</td>\n",
       "      <td>It aims to make learning fun via games.</td>\n",
       "      <td>Jatin Solanki</td>\n",
       "      <td>Deepak Parekh, Amitabh Bachchan, Piyush Pandey</td>\n",
       "      <td>$28,000,000</td>\n",
       "      <td>Fresh funding</td>\n",
       "    </tr>\n",
       "    <tr>\n",
       "      <th>3</th>\n",
       "      <td>HomeLane</td>\n",
       "      <td>2014.00</td>\n",
       "      <td>Chennai</td>\n",
       "      <td>Interior design</td>\n",
       "      <td>Provides interior designing solutions</td>\n",
       "      <td>Srikanth Iyer, Rama Harinath</td>\n",
       "      <td>Evolvence India Fund (EIF), Pidilite Group, FJ Labs</td>\n",
       "      <td>$30,000,000</td>\n",
       "      <td>Series D</td>\n",
       "    </tr>\n",
       "    <tr>\n",
       "      <th>4</th>\n",
       "      <td>Nu Genes</td>\n",
       "      <td>2004.00</td>\n",
       "      <td>Telangana</td>\n",
       "      <td>AgriTech</td>\n",
       "      <td>It is a seed company engaged in production, processing and marketing of seeds</td>\n",
       "      <td>Narayana Reddy Punyala</td>\n",
       "      <td>Innovation in Food and Agriculture (IFA)</td>\n",
       "      <td>$6,000,000</td>\n",
       "      <td>NaN</td>\n",
       "    </tr>\n",
       "  </tbody>\n",
       "</table>\n",
       "</div>"
      ],
      "text/plain": [
       "    Company/Brand  Founded HeadQuarter           Sector  \\\n",
       "0  Bombay Shaving      NaN         NaN        Ecommerce   \n",
       "1       Ruangguru  2014.00      Mumbai           Edtech   \n",
       "2        Eduisfun      NaN      Mumbai           Edtech   \n",
       "3        HomeLane  2014.00     Chennai  Interior design   \n",
       "4        Nu Genes  2004.00   Telangana         AgriTech   \n",
       "\n",
       "                                                                                                              What it does  \\\n",
       "0                                                                               Provides a range of male grooming products   \n",
       "1  A learning platform that provides topic-based journey, animated videos, quizzes, infographic and mock tests to students   \n",
       "2                                                                                  It aims to make learning fun via games.   \n",
       "3                                                                                    Provides interior designing solutions   \n",
       "4                                            It is a seed company engaged in production, processing and marketing of seeds   \n",
       "\n",
       "                                Founders  \\\n",
       "0                     Shantanu Deshpande   \n",
       "1  Adamas Belva Syah Devara, Iman Usman.   \n",
       "2                          Jatin Solanki   \n",
       "3           Srikanth Iyer, Rama Harinath   \n",
       "4                 Narayana Reddy Punyala   \n",
       "\n",
       "                                              Investor      Amount($)  \\\n",
       "0                                 Sixth Sense Ventures    $6,300,000    \n",
       "1                                     General Atlantic  $150,000,000    \n",
       "2       Deepak Parekh, Amitabh Bachchan, Piyush Pandey   $28,000,000    \n",
       "3  Evolvence India Fund (EIF), Pidilite Group, FJ Labs   $30,000,000    \n",
       "4             Innovation in Food and Agriculture (IFA)    $6,000,000    \n",
       "\n",
       "           Stage  \n",
       "0            NaN  \n",
       "1       Series C  \n",
       "2  Fresh funding  \n",
       "3       Series D  \n",
       "4            NaN  "
      ]
     },
     "execution_count": 331,
     "metadata": {},
     "output_type": "execute_result"
    }
   ],
   "source": [
    "# reading in data for 2019\n",
    "\n",
    "# URL for the raw CSV file\n",
    "url = 'https://raw.githubusercontent.com/richmond-yeboah/Indian-Start-up-Ecosystem-Project/main/Data/startup_funding2019.csv'\n",
    "data_2019 = pd.read_csv(url, encoding='latin1', on_bad_lines='skip')\n",
    "data_2019.head()\n"
   ]
  },
  {
   "cell_type": "markdown",
   "metadata": {},
   "source": [
    "## Data Preparation\n",
    "\n",
    "In this section, a lot processes will be run of the data like;\n",
    "\n",
    "- Data Cleaning\n",
    "- Feature Engineering\n",
    "- Exploratory Data Analysis\n"
   ]
  },
  {
   "cell_type": "code",
   "execution_count": 332,
   "metadata": {},
   "outputs": [
    {
     "data": {
      "text/html": [
       "<div>\n",
       "<style scoped>\n",
       "    .dataframe tbody tr th:only-of-type {\n",
       "        vertical-align: middle;\n",
       "    }\n",
       "\n",
       "    .dataframe tbody tr th {\n",
       "        vertical-align: top;\n",
       "    }\n",
       "\n",
       "    .dataframe thead th {\n",
       "        text-align: right;\n",
       "    }\n",
       "</style>\n",
       "<table border=\"1\" class=\"dataframe\">\n",
       "  <thead>\n",
       "    <tr style=\"text-align: right;\">\n",
       "      <th></th>\n",
       "      <th>Company_Brand</th>\n",
       "      <th>Founded</th>\n",
       "      <th>HeadQuarter</th>\n",
       "      <th>Sector</th>\n",
       "      <th>What_it_does</th>\n",
       "      <th>Founders</th>\n",
       "      <th>Investor</th>\n",
       "      <th>Amount</th>\n",
       "      <th>Stage</th>\n",
       "      <th>column10</th>\n",
       "      <th>Year</th>\n",
       "    </tr>\n",
       "  </thead>\n",
       "  <tbody>\n",
       "    <tr>\n",
       "      <th>0</th>\n",
       "      <td>Aqgromalin</td>\n",
       "      <td>2019.00</td>\n",
       "      <td>Chennai</td>\n",
       "      <td>AgriTech</td>\n",
       "      <td>Cultivating Ideas for Profit</td>\n",
       "      <td>Prasanna Manogaran, Bharani C L</td>\n",
       "      <td>Angel investors</td>\n",
       "      <td>200000.00</td>\n",
       "      <td>None</td>\n",
       "      <td>None</td>\n",
       "      <td>2020</td>\n",
       "    </tr>\n",
       "    <tr>\n",
       "      <th>1</th>\n",
       "      <td>Krayonnz</td>\n",
       "      <td>2019.00</td>\n",
       "      <td>Bangalore</td>\n",
       "      <td>EdTech</td>\n",
       "      <td>An academy-guardian-scholar centric ecosystem which provides state of the art technological solutions.</td>\n",
       "      <td>Saurabh Dixit, Gurudutt Upadhyay</td>\n",
       "      <td>GSF Accelerator</td>\n",
       "      <td>100000.00</td>\n",
       "      <td>Pre-seed</td>\n",
       "      <td>None</td>\n",
       "      <td>2020</td>\n",
       "    </tr>\n",
       "    <tr>\n",
       "      <th>2</th>\n",
       "      <td>PadCare Labs</td>\n",
       "      <td>2018.00</td>\n",
       "      <td>Pune</td>\n",
       "      <td>Hygiene management</td>\n",
       "      <td>Converting bio-hazardous waste to harmless waste</td>\n",
       "      <td>Ajinkya Dhariya</td>\n",
       "      <td>Venture Center</td>\n",
       "      <td>NaN</td>\n",
       "      <td>Pre-seed</td>\n",
       "      <td>None</td>\n",
       "      <td>2020</td>\n",
       "    </tr>\n",
       "    <tr>\n",
       "      <th>3</th>\n",
       "      <td>NCOME</td>\n",
       "      <td>2020.00</td>\n",
       "      <td>New Delhi</td>\n",
       "      <td>Escrow</td>\n",
       "      <td>Escrow-as-a-service platform</td>\n",
       "      <td>Ritesh Tiwari</td>\n",
       "      <td>Venture Catalysts, PointOne Capital</td>\n",
       "      <td>400000.00</td>\n",
       "      <td>None</td>\n",
       "      <td>None</td>\n",
       "      <td>2020</td>\n",
       "    </tr>\n",
       "    <tr>\n",
       "      <th>4</th>\n",
       "      <td>Gramophone</td>\n",
       "      <td>2016.00</td>\n",
       "      <td>Indore</td>\n",
       "      <td>AgriTech</td>\n",
       "      <td>Gramophone is an AgTech platform enabling access to agri inputs and powering efficient farm management.</td>\n",
       "      <td>Ashish Rajan Singh, Harshit Gupta, Nishant Mahatre, Tauseef Khan</td>\n",
       "      <td>Siana Capital Management, Info Edge</td>\n",
       "      <td>340000.00</td>\n",
       "      <td>None</td>\n",
       "      <td>None</td>\n",
       "      <td>2020</td>\n",
       "    </tr>\n",
       "    <tr>\n",
       "      <th>...</th>\n",
       "      <td>...</td>\n",
       "      <td>...</td>\n",
       "      <td>...</td>\n",
       "      <td>...</td>\n",
       "      <td>...</td>\n",
       "      <td>...</td>\n",
       "      <td>...</td>\n",
       "      <td>...</td>\n",
       "      <td>...</td>\n",
       "      <td>...</td>\n",
       "      <td>...</td>\n",
       "    </tr>\n",
       "    <tr>\n",
       "      <th>2874</th>\n",
       "      <td>Infra.Market</td>\n",
       "      <td>NaN</td>\n",
       "      <td>Mumbai</td>\n",
       "      <td>Infratech</td>\n",
       "      <td>It connects client requirements to their supply chain infrastructure for ease of ordering, tracking and manufacturing</td>\n",
       "      <td>Aaditya Sharda, Souvik Sengupta</td>\n",
       "      <td>Tiger Global, Nexus Venture Partners, Accel Partners, Dhruv Agarwala</td>\n",
       "      <td>$20,000,000</td>\n",
       "      <td>Series A</td>\n",
       "      <td>NaN</td>\n",
       "      <td>2019</td>\n",
       "    </tr>\n",
       "    <tr>\n",
       "      <th>2875</th>\n",
       "      <td>Oyo</td>\n",
       "      <td>2013.00</td>\n",
       "      <td>Gurugram</td>\n",
       "      <td>Hospitality</td>\n",
       "      <td>Provides rooms for comfortable stay</td>\n",
       "      <td>Ritesh Agarwal</td>\n",
       "      <td>MyPreferred Transformation, Avendus Finance, SoftBank</td>\n",
       "      <td>$693,000,000</td>\n",
       "      <td>NaN</td>\n",
       "      <td>NaN</td>\n",
       "      <td>2019</td>\n",
       "    </tr>\n",
       "    <tr>\n",
       "      <th>2876</th>\n",
       "      <td>GoMechanic</td>\n",
       "      <td>2016.00</td>\n",
       "      <td>Delhi</td>\n",
       "      <td>Automobile &amp; Technology</td>\n",
       "      <td>Find automobile repair and maintenance service providers</td>\n",
       "      <td>Amit Bhasin, Kushal Karwa, Nitin Rana, Rishabh Karwa</td>\n",
       "      <td>Sequoia Capital</td>\n",
       "      <td>$5,000,000</td>\n",
       "      <td>Series B</td>\n",
       "      <td>NaN</td>\n",
       "      <td>2019</td>\n",
       "    </tr>\n",
       "    <tr>\n",
       "      <th>2877</th>\n",
       "      <td>Spinny</td>\n",
       "      <td>2015.00</td>\n",
       "      <td>Delhi</td>\n",
       "      <td>Automobile</td>\n",
       "      <td>Online car retailer</td>\n",
       "      <td>Niraj Singh, Ramanshu Mahaur, Ganesh Pawar, Mohit Gupta</td>\n",
       "      <td>Norwest Venture Partners, General Catalyst, Fundamentum, Accel Partners</td>\n",
       "      <td>$50,000,000</td>\n",
       "      <td>NaN</td>\n",
       "      <td>NaN</td>\n",
       "      <td>2019</td>\n",
       "    </tr>\n",
       "    <tr>\n",
       "      <th>2878</th>\n",
       "      <td>Ess Kay Fincorp</td>\n",
       "      <td>NaN</td>\n",
       "      <td>Rajasthan</td>\n",
       "      <td>Banking</td>\n",
       "      <td>Organised Non-Banking Finance Company</td>\n",
       "      <td>Rajendra Setia</td>\n",
       "      <td>TPG, Norwest Venture Partners, Evolvence India</td>\n",
       "      <td>$33,000,000</td>\n",
       "      <td>NaN</td>\n",
       "      <td>NaN</td>\n",
       "      <td>2019</td>\n",
       "    </tr>\n",
       "  </tbody>\n",
       "</table>\n",
       "<p>2879 rows × 11 columns</p>\n",
       "</div>"
      ],
      "text/plain": [
       "        Company_Brand  Founded HeadQuarter                   Sector  \\\n",
       "0          Aqgromalin  2019.00     Chennai                 AgriTech   \n",
       "1            Krayonnz  2019.00   Bangalore                   EdTech   \n",
       "2        PadCare Labs  2018.00        Pune       Hygiene management   \n",
       "3               NCOME  2020.00   New Delhi                   Escrow   \n",
       "4          Gramophone  2016.00      Indore                 AgriTech   \n",
       "...               ...      ...         ...                      ...   \n",
       "2874     Infra.Market      NaN      Mumbai                Infratech   \n",
       "2875              Oyo  2013.00    Gurugram              Hospitality   \n",
       "2876       GoMechanic  2016.00       Delhi  Automobile & Technology   \n",
       "2877           Spinny  2015.00       Delhi               Automobile   \n",
       "2878  Ess Kay Fincorp      NaN   Rajasthan                  Banking   \n",
       "\n",
       "                                                                                                               What_it_does  \\\n",
       "0                                                                                              Cultivating Ideas for Profit   \n",
       "1                    An academy-guardian-scholar centric ecosystem which provides state of the art technological solutions.   \n",
       "2                                                                          Converting bio-hazardous waste to harmless waste   \n",
       "3                                                                                              Escrow-as-a-service platform   \n",
       "4                   Gramophone is an AgTech platform enabling access to agri inputs and powering efficient farm management.   \n",
       "...                                                                                                                     ...   \n",
       "2874  It connects client requirements to their supply chain infrastructure for ease of ordering, tracking and manufacturing   \n",
       "2875                                                                                    Provides rooms for comfortable stay   \n",
       "2876                                                               Find automobile repair and maintenance service providers   \n",
       "2877                                                                                                    Online car retailer   \n",
       "2878                                                                                  Organised Non-Banking Finance Company   \n",
       "\n",
       "                                                              Founders  \\\n",
       "0                                      Prasanna Manogaran, Bharani C L   \n",
       "1                                     Saurabh Dixit, Gurudutt Upadhyay   \n",
       "2                                                      Ajinkya Dhariya   \n",
       "3                                                        Ritesh Tiwari   \n",
       "4     Ashish Rajan Singh, Harshit Gupta, Nishant Mahatre, Tauseef Khan   \n",
       "...                                                                ...   \n",
       "2874                                   Aaditya Sharda, Souvik Sengupta   \n",
       "2875                                                    Ritesh Agarwal   \n",
       "2876              Amit Bhasin, Kushal Karwa, Nitin Rana, Rishabh Karwa   \n",
       "2877           Niraj Singh, Ramanshu Mahaur, Ganesh Pawar, Mohit Gupta   \n",
       "2878                                                    Rajendra Setia   \n",
       "\n",
       "                                                                     Investor  \\\n",
       "0                                                             Angel investors   \n",
       "1                                                             GSF Accelerator   \n",
       "2                                                              Venture Center   \n",
       "3                                         Venture Catalysts, PointOne Capital   \n",
       "4                                         Siana Capital Management, Info Edge   \n",
       "...                                                                       ...   \n",
       "2874     Tiger Global, Nexus Venture Partners, Accel Partners, Dhruv Agarwala   \n",
       "2875                    MyPreferred Transformation, Avendus Finance, SoftBank   \n",
       "2876                                                          Sequoia Capital   \n",
       "2877  Norwest Venture Partners, General Catalyst, Fundamentum, Accel Partners   \n",
       "2878                           TPG, Norwest Venture Partners, Evolvence India   \n",
       "\n",
       "             Amount     Stage column10  Year  \n",
       "0         200000.00      None     None  2020  \n",
       "1         100000.00  Pre-seed     None  2020  \n",
       "2               NaN  Pre-seed     None  2020  \n",
       "3         400000.00      None     None  2020  \n",
       "4         340000.00      None     None  2020  \n",
       "...             ...       ...      ...   ...  \n",
       "2874   $20,000,000   Series A      NaN  2019  \n",
       "2875  $693,000,000        NaN      NaN  2019  \n",
       "2876    $5,000,000   Series B      NaN  2019  \n",
       "2877   $50,000,000        NaN      NaN  2019  \n",
       "2878   $33,000,000        NaN      NaN  2019  \n",
       "\n",
       "[2879 rows x 11 columns]"
      ]
     },
     "execution_count": 332,
     "metadata": {},
     "output_type": "execute_result"
    }
   ],
   "source": [
    "# creating a 'Founded', 'Founders', and 'Year' column for 2018\n",
    "data_2018['Founded']= np.nan \n",
    "data_2018['Founders']= np.nan \n",
    "data_2018['Year']=2018\n",
    "\n",
    "# Renaming 2018 column names\n",
    "data_2018= data_2018.rename(columns={'Company Name': 'Company_Brand'})\n",
    "data_2018= data_2018.rename(columns={'Industry': 'Sector'})\n",
    "data_2018= data_2018.rename(columns={'Location': 'HeadQuarter'})\n",
    "data_2018= data_2018.rename(columns={'Round/Series': 'Stage'})\n",
    "data_2018= data_2018.rename(columns={'About Company': 'What_it_does'})\n",
    "\n",
    "# Add a year column for 2018\n",
    "data_2019['Year']=2019\n",
    "\n",
    "# Renaming 2018 column names\n",
    "data_2019= data_2019.rename(columns={'Company/Brand': 'Company_Brand'})\n",
    "data_2019= data_2019.rename(columns={'What it does': 'What_it_does'})\n",
    "data_2019= data_2019.rename(columns={'Amount($)': 'Amount'})\n",
    "\n",
    "df = pd.concat([df_20_21, data_2018, data_2019], ignore_index=True)\n",
    "df"
   ]
  },
  {
   "cell_type": "markdown",
   "metadata": {},
   "source": [
    "### Exploratory Data Analysis\n",
    "\n",
    "Now since all  4 dataset has been concatenated, I will go ahead to explore the data, check the data quality and make sure to clean it before I dive into my analysis."
   ]
  },
  {
   "cell_type": "markdown",
   "metadata": {},
   "source": [
    "#### Summary Statistics"
   ]
  },
  {
   "cell_type": "code",
   "execution_count": 333,
   "metadata": {},
   "outputs": [
    {
     "data": {
      "text/html": [
       "<div>\n",
       "<style scoped>\n",
       "    .dataframe tbody tr th:only-of-type {\n",
       "        vertical-align: middle;\n",
       "    }\n",
       "\n",
       "    .dataframe tbody tr th {\n",
       "        vertical-align: top;\n",
       "    }\n",
       "\n",
       "    .dataframe thead th {\n",
       "        text-align: right;\n",
       "    }\n",
       "</style>\n",
       "<table border=\"1\" class=\"dataframe\">\n",
       "  <thead>\n",
       "    <tr style=\"text-align: right;\">\n",
       "      <th></th>\n",
       "      <th>Founded</th>\n",
       "      <th>Year</th>\n",
       "    </tr>\n",
       "  </thead>\n",
       "  <tbody>\n",
       "    <tr>\n",
       "      <th>count</th>\n",
       "      <td>2110.00</td>\n",
       "      <td>2879.00</td>\n",
       "    </tr>\n",
       "    <tr>\n",
       "      <th>mean</th>\n",
       "      <td>2016.08</td>\n",
       "      <td>2020.02</td>\n",
       "    </tr>\n",
       "    <tr>\n",
       "      <th>std</th>\n",
       "      <td>4.37</td>\n",
       "      <td>1.09</td>\n",
       "    </tr>\n",
       "    <tr>\n",
       "      <th>min</th>\n",
       "      <td>1963.00</td>\n",
       "      <td>2018.00</td>\n",
       "    </tr>\n",
       "    <tr>\n",
       "      <th>25%</th>\n",
       "      <td>2015.00</td>\n",
       "      <td>2020.00</td>\n",
       "    </tr>\n",
       "    <tr>\n",
       "      <th>50%</th>\n",
       "      <td>2017.00</td>\n",
       "      <td>2020.00</td>\n",
       "    </tr>\n",
       "    <tr>\n",
       "      <th>75%</th>\n",
       "      <td>2019.00</td>\n",
       "      <td>2021.00</td>\n",
       "    </tr>\n",
       "    <tr>\n",
       "      <th>max</th>\n",
       "      <td>2021.00</td>\n",
       "      <td>2021.00</td>\n",
       "    </tr>\n",
       "  </tbody>\n",
       "</table>\n",
       "</div>"
      ],
      "text/plain": [
       "       Founded    Year\n",
       "count  2110.00 2879.00\n",
       "mean   2016.08 2020.02\n",
       "std       4.37    1.09\n",
       "min    1963.00 2018.00\n",
       "25%    2015.00 2020.00\n",
       "50%    2017.00 2020.00\n",
       "75%    2019.00 2021.00\n",
       "max    2021.00 2021.00"
      ]
     },
     "execution_count": 333,
     "metadata": {},
     "output_type": "execute_result"
    }
   ],
   "source": [
    "df.describe()"
   ]
  },
  {
   "cell_type": "markdown",
   "metadata": {},
   "source": [
    "### Overview of the dataframe and missing values"
   ]
  },
  {
   "cell_type": "code",
   "execution_count": 334,
   "metadata": {},
   "outputs": [
    {
     "name": "stdout",
     "output_type": "stream",
     "text": [
      "<class 'pandas.core.frame.DataFrame'>\n",
      "RangeIndex: 2879 entries, 0 to 2878\n",
      "Data columns (total 11 columns):\n",
      " #   Column         Non-Null Count  Dtype  \n",
      "---  ------         --------------  -----  \n",
      " 0   Company_Brand  2879 non-null   object \n",
      " 1   Founded        2110 non-null   float64\n",
      " 2   HeadQuarter    2765 non-null   object \n",
      " 3   Sector         2861 non-null   object \n",
      " 4   What_it_does   2879 non-null   object \n",
      " 5   Founders       2334 non-null   object \n",
      " 6   Investor       2253 non-null   object \n",
      " 7   Amount         2622 non-null   object \n",
      " 8   Stage          1941 non-null   object \n",
      " 9   column10       2 non-null      object \n",
      " 10  Year           2879 non-null   int64  \n",
      "dtypes: float64(1), int64(1), object(9)\n",
      "memory usage: 247.5+ KB\n",
      "None\n",
      "\n",
      "missing values\n",
      "------------------------------\n",
      "Company_Brand       0\n",
      "Founded           769\n",
      "HeadQuarter       114\n",
      "Sector             18\n",
      "What_it_does        0\n",
      "Founders          545\n",
      "Investor          626\n",
      "Amount            257\n",
      "Stage             938\n",
      "column10         2877\n",
      "Year                0\n",
      "dtype: int64\n"
     ]
    }
   ],
   "source": [
    "\n",
    "print(f'{df.info()}\\n\\nmissing values\\n------------------------------\\n{df.isna().sum()}')"
   ]
  },
  {
   "cell_type": "code",
   "execution_count": 335,
   "metadata": {},
   "outputs": [
    {
     "data": {
      "text/plain": [
       "Index(['Company_Brand', 'Founded', 'HeadQuarter', 'Sector', 'What_it_does',\n",
       "       'Founders', 'Investor', 'Amount', 'Stage', 'Year'],\n",
       "      dtype='object')"
      ]
     },
     "execution_count": 335,
     "metadata": {},
     "output_type": "execute_result"
    }
   ],
   "source": [
    "# before I dive deep into exploring and cleaning the data, I will drop the 'column10' column\n",
    "df.drop(columns=['column10'], inplace=True)\n",
    "df.columns"
   ]
  },
  {
   "cell_type": "markdown",
   "metadata": {},
   "source": [
    "### Checking for Duplicates and dropping them"
   ]
  },
  {
   "cell_type": "code",
   "execution_count": 336,
   "metadata": {},
   "outputs": [
    {
     "data": {
      "text/plain": [
       "23"
      ]
     },
     "execution_count": 336,
     "metadata": {},
     "output_type": "execute_result"
    }
   ],
   "source": [
    "# checking for duplicates\n",
    "df.duplicated().sum()"
   ]
  },
  {
   "cell_type": "code",
   "execution_count": 337,
   "metadata": {},
   "outputs": [
    {
     "data": {
      "text/plain": [
       "0"
      ]
     },
     "execution_count": 337,
     "metadata": {},
     "output_type": "execute_result"
    }
   ],
   "source": [
    "# dropping duplicates\n",
    "df.drop_duplicates(inplace=True)\n",
    "\n",
    "# check if duplicates were dropped\n",
    "df.duplicated().sum()"
   ]
  },
  {
   "cell_type": "markdown",
   "metadata": {},
   "source": [
    "### Feature Engineering"
   ]
  },
  {
   "cell_type": "markdown",
   "metadata": {},
   "source": [
    "In this section, I will be dropping some columns since I won't be focusing on them, but before I drop them I will add my new columns first since I might need them to create my new columns. Since my interest lies in the number of investors and the number of founders rather than their names, I will add two columns containing how many they are and drop them."
   ]
  },
  {
   "cell_type": "code",
   "execution_count": 338,
   "metadata": {},
   "outputs": [],
   "source": [
    "def how_many(x):\n",
    "    # if x is an empty value return 'NaN'\n",
    "    if pd.isna(x)==True:\n",
    "        return np.nan\n",
    "    #else if x is not empty and there's no comma in x (meaning a single value) return 1\n",
    "    elif (pd.isna(x)==False) & (',' not in x):\n",
    "        return 1\n",
    "    # Otherwise, count the number of investors by splitting on commas\n",
    "    else:\n",
    "        return len(x.split(',')) if x else 0"
   ]
  },
  {
   "cell_type": "code",
   "execution_count": 339,
   "metadata": {},
   "outputs": [
    {
     "data": {
      "text/html": [
       "<div>\n",
       "<style scoped>\n",
       "    .dataframe tbody tr th:only-of-type {\n",
       "        vertical-align: middle;\n",
       "    }\n",
       "\n",
       "    .dataframe tbody tr th {\n",
       "        vertical-align: top;\n",
       "    }\n",
       "\n",
       "    .dataframe thead th {\n",
       "        text-align: right;\n",
       "    }\n",
       "</style>\n",
       "<table border=\"1\" class=\"dataframe\">\n",
       "  <thead>\n",
       "    <tr style=\"text-align: right;\">\n",
       "      <th></th>\n",
       "      <th>Investor</th>\n",
       "      <th>Num_of_Investors</th>\n",
       "      <th>Founders</th>\n",
       "      <th>Num_of_Founders</th>\n",
       "    </tr>\n",
       "  </thead>\n",
       "  <tbody>\n",
       "    <tr>\n",
       "      <th>0</th>\n",
       "      <td>Angel investors</td>\n",
       "      <td>1.00</td>\n",
       "      <td>Prasanna Manogaran, Bharani C L</td>\n",
       "      <td>2.00</td>\n",
       "    </tr>\n",
       "    <tr>\n",
       "      <th>1</th>\n",
       "      <td>GSF Accelerator</td>\n",
       "      <td>1.00</td>\n",
       "      <td>Saurabh Dixit, Gurudutt Upadhyay</td>\n",
       "      <td>2.00</td>\n",
       "    </tr>\n",
       "    <tr>\n",
       "      <th>2</th>\n",
       "      <td>Venture Center</td>\n",
       "      <td>1.00</td>\n",
       "      <td>Ajinkya Dhariya</td>\n",
       "      <td>1.00</td>\n",
       "    </tr>\n",
       "    <tr>\n",
       "      <th>3</th>\n",
       "      <td>Venture Catalysts, PointOne Capital</td>\n",
       "      <td>2.00</td>\n",
       "      <td>Ritesh Tiwari</td>\n",
       "      <td>1.00</td>\n",
       "    </tr>\n",
       "    <tr>\n",
       "      <th>4</th>\n",
       "      <td>Siana Capital Management, Info Edge</td>\n",
       "      <td>2.00</td>\n",
       "      <td>Ashish Rajan Singh, Harshit Gupta, Nishant Mahatre, Tauseef Khan</td>\n",
       "      <td>4.00</td>\n",
       "    </tr>\n",
       "    <tr>\n",
       "      <th>...</th>\n",
       "      <td>...</td>\n",
       "      <td>...</td>\n",
       "      <td>...</td>\n",
       "      <td>...</td>\n",
       "    </tr>\n",
       "    <tr>\n",
       "      <th>2874</th>\n",
       "      <td>Tiger Global, Nexus Venture Partners, Accel Partners, Dhruv Agarwala</td>\n",
       "      <td>4.00</td>\n",
       "      <td>Aaditya Sharda, Souvik Sengupta</td>\n",
       "      <td>2.00</td>\n",
       "    </tr>\n",
       "    <tr>\n",
       "      <th>2875</th>\n",
       "      <td>MyPreferred Transformation, Avendus Finance, SoftBank</td>\n",
       "      <td>3.00</td>\n",
       "      <td>Ritesh Agarwal</td>\n",
       "      <td>1.00</td>\n",
       "    </tr>\n",
       "    <tr>\n",
       "      <th>2876</th>\n",
       "      <td>Sequoia Capital</td>\n",
       "      <td>1.00</td>\n",
       "      <td>Amit Bhasin, Kushal Karwa, Nitin Rana, Rishabh Karwa</td>\n",
       "      <td>4.00</td>\n",
       "    </tr>\n",
       "    <tr>\n",
       "      <th>2877</th>\n",
       "      <td>Norwest Venture Partners, General Catalyst, Fundamentum, Accel Partners</td>\n",
       "      <td>4.00</td>\n",
       "      <td>Niraj Singh, Ramanshu Mahaur, Ganesh Pawar, Mohit Gupta</td>\n",
       "      <td>4.00</td>\n",
       "    </tr>\n",
       "    <tr>\n",
       "      <th>2878</th>\n",
       "      <td>TPG, Norwest Venture Partners, Evolvence India</td>\n",
       "      <td>3.00</td>\n",
       "      <td>Rajendra Setia</td>\n",
       "      <td>1.00</td>\n",
       "    </tr>\n",
       "  </tbody>\n",
       "</table>\n",
       "<p>2856 rows × 4 columns</p>\n",
       "</div>"
      ],
      "text/plain": [
       "                                                                     Investor  \\\n",
       "0                                                             Angel investors   \n",
       "1                                                             GSF Accelerator   \n",
       "2                                                              Venture Center   \n",
       "3                                         Venture Catalysts, PointOne Capital   \n",
       "4                                         Siana Capital Management, Info Edge   \n",
       "...                                                                       ...   \n",
       "2874     Tiger Global, Nexus Venture Partners, Accel Partners, Dhruv Agarwala   \n",
       "2875                    MyPreferred Transformation, Avendus Finance, SoftBank   \n",
       "2876                                                          Sequoia Capital   \n",
       "2877  Norwest Venture Partners, General Catalyst, Fundamentum, Accel Partners   \n",
       "2878                           TPG, Norwest Venture Partners, Evolvence India   \n",
       "\n",
       "      Num_of_Investors  \\\n",
       "0                 1.00   \n",
       "1                 1.00   \n",
       "2                 1.00   \n",
       "3                 2.00   \n",
       "4                 2.00   \n",
       "...                ...   \n",
       "2874              4.00   \n",
       "2875              3.00   \n",
       "2876              1.00   \n",
       "2877              4.00   \n",
       "2878              3.00   \n",
       "\n",
       "                                                              Founders  \\\n",
       "0                                      Prasanna Manogaran, Bharani C L   \n",
       "1                                     Saurabh Dixit, Gurudutt Upadhyay   \n",
       "2                                                      Ajinkya Dhariya   \n",
       "3                                                        Ritesh Tiwari   \n",
       "4     Ashish Rajan Singh, Harshit Gupta, Nishant Mahatre, Tauseef Khan   \n",
       "...                                                                ...   \n",
       "2874                                   Aaditya Sharda, Souvik Sengupta   \n",
       "2875                                                    Ritesh Agarwal   \n",
       "2876              Amit Bhasin, Kushal Karwa, Nitin Rana, Rishabh Karwa   \n",
       "2877           Niraj Singh, Ramanshu Mahaur, Ganesh Pawar, Mohit Gupta   \n",
       "2878                                                    Rajendra Setia   \n",
       "\n",
       "      Num_of_Founders  \n",
       "0                2.00  \n",
       "1                2.00  \n",
       "2                1.00  \n",
       "3                1.00  \n",
       "4                4.00  \n",
       "...               ...  \n",
       "2874             2.00  \n",
       "2875             1.00  \n",
       "2876             4.00  \n",
       "2877             4.00  \n",
       "2878             1.00  \n",
       "\n",
       "[2856 rows x 4 columns]"
      ]
     },
     "execution_count": 339,
     "metadata": {},
     "output_type": "execute_result"
    }
   ],
   "source": [
    "# Add the new columns\n",
    "df['Num_of_Investors'] = df['Investor'].apply(how_many)\n",
    "df['Num_of_Founders'] = df['Founders'].apply(how_many)\n",
    "\n",
    "df[['Investor','Num_of_Investors', 'Founders', 'Num_of_Founders']]"
   ]
  },
  {
   "cell_type": "code",
   "execution_count": 340,
   "metadata": {},
   "outputs": [],
   "source": [
    "# Now drop 'Founders'\n",
    "df.drop(columns=['Founders'], inplace=True)\n",
    "\n",
    "# Fill missing values in the 'Investor' column with 'Not Specified'\n",
    "df['Investor'].fillna('Not Specified', inplace=True)"
   ]
  },
  {
   "cell_type": "code",
   "execution_count": 341,
   "metadata": {},
   "outputs": [
    {
     "data": {
      "text/plain": [
       "Company_Brand         0\n",
       "Founded             768\n",
       "HeadQuarter         114\n",
       "Sector               18\n",
       "What_it_does          0\n",
       "Investor              0\n",
       "Amount              256\n",
       "Stage               929\n",
       "Year                  0\n",
       "Num_of_Investors    624\n",
       "Num_of_Founders     544\n",
       "dtype: int64"
      ]
     },
     "execution_count": 341,
     "metadata": {},
     "output_type": "execute_result"
    }
   ],
   "source": [
    "df.isna().sum()"
   ]
  },
  {
   "cell_type": "markdown",
   "metadata": {},
   "source": [
    "### Dealing with missing values, inconsistencies and invalid entries\n",
    "\n",
    "Now in this section, I am going to get rid of missing values by using the appropriate central tendency value(mean, median, mode) to fill in or by dropping. Also, I will go further into looking at them closely before taking any actions and this going to be done, column by column."
   ]
  },
  {
   "cell_type": "markdown",
   "metadata": {},
   "source": [
    "#### Cleaning the 'HeadQuarter' Column"
   ]
  },
  {
   "cell_type": "code",
   "execution_count": 342,
   "metadata": {},
   "outputs": [
    {
     "data": {
      "text/plain": [
       "0      Chennai\n",
       "1    Bangalore\n",
       "2         Pune\n",
       "3    New Delhi\n",
       "4       Indore\n",
       "5    Bangalore\n",
       "6    Hyderabad\n",
       "7      Gurgaon\n",
       "8    Bangalore\n",
       "9         Pune\n",
       "Name: HeadQuarter, dtype: object"
      ]
     },
     "execution_count": 342,
     "metadata": {},
     "output_type": "execute_result"
    }
   ],
   "source": [
    "df['HeadQuarter'].head(10)"
   ]
  },
  {
   "cell_type": "code",
   "execution_count": 343,
   "metadata": {},
   "outputs": [
    {
     "data": {
      "text/html": [
       "<div>\n",
       "<style scoped>\n",
       "    .dataframe tbody tr th:only-of-type {\n",
       "        vertical-align: middle;\n",
       "    }\n",
       "\n",
       "    .dataframe tbody tr th {\n",
       "        vertical-align: top;\n",
       "    }\n",
       "\n",
       "    .dataframe thead th {\n",
       "        text-align: right;\n",
       "    }\n",
       "</style>\n",
       "<table border=\"1\" class=\"dataframe\">\n",
       "  <thead>\n",
       "    <tr style=\"text-align: right;\">\n",
       "      <th></th>\n",
       "      <th>0</th>\n",
       "    </tr>\n",
       "  </thead>\n",
       "  <tbody>\n",
       "    <tr>\n",
       "      <th>0</th>\n",
       "      <td>Chennai</td>\n",
       "    </tr>\n",
       "    <tr>\n",
       "      <th>1</th>\n",
       "      <td>Bangalore</td>\n",
       "    </tr>\n",
       "    <tr>\n",
       "      <th>2</th>\n",
       "      <td>Pune</td>\n",
       "    </tr>\n",
       "    <tr>\n",
       "      <th>3</th>\n",
       "      <td>New Delhi</td>\n",
       "    </tr>\n",
       "    <tr>\n",
       "      <th>4</th>\n",
       "      <td>Indore</td>\n",
       "    </tr>\n",
       "    <tr>\n",
       "      <th>5</th>\n",
       "      <td>Hyderabad</td>\n",
       "    </tr>\n",
       "    <tr>\n",
       "      <th>6</th>\n",
       "      <td>Gurgaon</td>\n",
       "    </tr>\n",
       "    <tr>\n",
       "      <th>7</th>\n",
       "      <td>Belgaum</td>\n",
       "    </tr>\n",
       "    <tr>\n",
       "      <th>8</th>\n",
       "      <td>Noida</td>\n",
       "    </tr>\n",
       "    <tr>\n",
       "      <th>9</th>\n",
       "      <td>Mumbai</td>\n",
       "    </tr>\n",
       "    <tr>\n",
       "      <th>10</th>\n",
       "      <td>Andheri</td>\n",
       "    </tr>\n",
       "    <tr>\n",
       "      <th>11</th>\n",
       "      <td>Jaipur</td>\n",
       "    </tr>\n",
       "    <tr>\n",
       "      <th>12</th>\n",
       "      <td>Ahmedabad</td>\n",
       "    </tr>\n",
       "    <tr>\n",
       "      <th>13</th>\n",
       "      <td>Kolkata</td>\n",
       "    </tr>\n",
       "    <tr>\n",
       "      <th>14</th>\n",
       "      <td>Tirunelveli, Tamilnadu</td>\n",
       "    </tr>\n",
       "    <tr>\n",
       "      <th>15</th>\n",
       "      <td>Thane</td>\n",
       "    </tr>\n",
       "    <tr>\n",
       "      <th>16</th>\n",
       "      <td>None</td>\n",
       "    </tr>\n",
       "    <tr>\n",
       "      <th>17</th>\n",
       "      <td>Singapore</td>\n",
       "    </tr>\n",
       "    <tr>\n",
       "      <th>18</th>\n",
       "      <td>Gurugram</td>\n",
       "    </tr>\n",
       "    <tr>\n",
       "      <th>19</th>\n",
       "      <td>Gujarat</td>\n",
       "    </tr>\n",
       "    <tr>\n",
       "      <th>20</th>\n",
       "      <td>Haryana</td>\n",
       "    </tr>\n",
       "    <tr>\n",
       "      <th>21</th>\n",
       "      <td>Kerala</td>\n",
       "    </tr>\n",
       "    <tr>\n",
       "      <th>22</th>\n",
       "      <td>Jodhpur</td>\n",
       "    </tr>\n",
       "    <tr>\n",
       "      <th>23</th>\n",
       "      <td>Jaipur, Rajastan</td>\n",
       "    </tr>\n",
       "    <tr>\n",
       "      <th>24</th>\n",
       "      <td>Delhi</td>\n",
       "    </tr>\n",
       "    <tr>\n",
       "      <th>25</th>\n",
       "      <td>Frisco, Texas, United States</td>\n",
       "    </tr>\n",
       "    <tr>\n",
       "      <th>26</th>\n",
       "      <td>California</td>\n",
       "    </tr>\n",
       "    <tr>\n",
       "      <th>27</th>\n",
       "      <td>Dhingsara, Haryana</td>\n",
       "    </tr>\n",
       "    <tr>\n",
       "      <th>28</th>\n",
       "      <td>New York, United States</td>\n",
       "    </tr>\n",
       "    <tr>\n",
       "      <th>29</th>\n",
       "      <td>Patna</td>\n",
       "    </tr>\n",
       "    <tr>\n",
       "      <th>30</th>\n",
       "      <td>San Francisco, California, United States</td>\n",
       "    </tr>\n",
       "    <tr>\n",
       "      <th>31</th>\n",
       "      <td>San Francisco, United States</td>\n",
       "    </tr>\n",
       "    <tr>\n",
       "      <th>32</th>\n",
       "      <td>San Ramon, California</td>\n",
       "    </tr>\n",
       "    <tr>\n",
       "      <th>33</th>\n",
       "      <td>Paris, Ile-de-France, France</td>\n",
       "    </tr>\n",
       "    <tr>\n",
       "      <th>34</th>\n",
       "      <td>Plano, Texas, United States</td>\n",
       "    </tr>\n",
       "    <tr>\n",
       "      <th>35</th>\n",
       "      <td>Sydney</td>\n",
       "    </tr>\n",
       "    <tr>\n",
       "      <th>36</th>\n",
       "      <td>San Francisco Bay Area, Silicon Valley, West Coast</td>\n",
       "    </tr>\n",
       "    <tr>\n",
       "      <th>37</th>\n",
       "      <td>Bangaldesh</td>\n",
       "    </tr>\n",
       "    <tr>\n",
       "      <th>38</th>\n",
       "      <td>London, England, United Kingdom</td>\n",
       "    </tr>\n",
       "    <tr>\n",
       "      <th>39</th>\n",
       "      <td>Sydney, New South Wales, Australia</td>\n",
       "    </tr>\n",
       "    <tr>\n",
       "      <th>40</th>\n",
       "      <td>Milano, Lombardia, Italy</td>\n",
       "    </tr>\n",
       "    <tr>\n",
       "      <th>41</th>\n",
       "      <td>Palmwoods, Queensland, Australia</td>\n",
       "    </tr>\n",
       "    <tr>\n",
       "      <th>42</th>\n",
       "      <td>France</td>\n",
       "    </tr>\n",
       "    <tr>\n",
       "      <th>43</th>\n",
       "      <td>San Francisco Bay Area, West Coast, Western US</td>\n",
       "    </tr>\n",
       "    <tr>\n",
       "      <th>44</th>\n",
       "      <td>Trivandrum, Kerala, India</td>\n",
       "    </tr>\n",
       "    <tr>\n",
       "      <th>45</th>\n",
       "      <td>Cochin</td>\n",
       "    </tr>\n",
       "    <tr>\n",
       "      <th>46</th>\n",
       "      <td>Samastipur, Bihar</td>\n",
       "    </tr>\n",
       "    <tr>\n",
       "      <th>47</th>\n",
       "      <td>Irvine, California, United States</td>\n",
       "    </tr>\n",
       "    <tr>\n",
       "      <th>48</th>\n",
       "      <td>Tumkur, Karnataka</td>\n",
       "    </tr>\n",
       "    <tr>\n",
       "      <th>49</th>\n",
       "      <td>Newcastle Upon Tyne, Newcastle upon Tyne, United Kingdom</td>\n",
       "    </tr>\n",
       "  </tbody>\n",
       "</table>\n",
       "</div>"
      ],
      "text/plain": [
       "                                                           0\n",
       "0                                                    Chennai\n",
       "1                                                  Bangalore\n",
       "2                                                       Pune\n",
       "3                                                  New Delhi\n",
       "4                                                     Indore\n",
       "5                                                  Hyderabad\n",
       "6                                                    Gurgaon\n",
       "7                                                    Belgaum\n",
       "8                                                      Noida\n",
       "9                                                     Mumbai\n",
       "10                                                   Andheri\n",
       "11                                                    Jaipur\n",
       "12                                                 Ahmedabad\n",
       "13                                                   Kolkata\n",
       "14                                    Tirunelveli, Tamilnadu\n",
       "15                                                     Thane\n",
       "16                                                      None\n",
       "17                                                 Singapore\n",
       "18                                                  Gurugram\n",
       "19                                                   Gujarat\n",
       "20                                                   Haryana\n",
       "21                                                    Kerala\n",
       "22                                                   Jodhpur\n",
       "23                                          Jaipur, Rajastan\n",
       "24                                                     Delhi\n",
       "25                              Frisco, Texas, United States\n",
       "26                                                California\n",
       "27                                        Dhingsara, Haryana\n",
       "28                                   New York, United States\n",
       "29                                                     Patna\n",
       "30                  San Francisco, California, United States\n",
       "31                              San Francisco, United States\n",
       "32                                     San Ramon, California\n",
       "33                              Paris, Ile-de-France, France\n",
       "34                               Plano, Texas, United States\n",
       "35                                                    Sydney\n",
       "36        San Francisco Bay Area, Silicon Valley, West Coast\n",
       "37                                                Bangaldesh\n",
       "38                           London, England, United Kingdom\n",
       "39                        Sydney, New South Wales, Australia\n",
       "40                                  Milano, Lombardia, Italy\n",
       "41                          Palmwoods, Queensland, Australia\n",
       "42                                                    France\n",
       "43            San Francisco Bay Area, West Coast, Western US\n",
       "44                                 Trivandrum, Kerala, India\n",
       "45                                                    Cochin\n",
       "46                                         Samastipur, Bihar\n",
       "47                         Irvine, California, United States\n",
       "48                                         Tumkur, Karnataka\n",
       "49  Newcastle Upon Tyne, Newcastle upon Tyne, United Kingdom"
      ]
     },
     "execution_count": 343,
     "metadata": {},
     "output_type": "execute_result"
    }
   ],
   "source": [
    "pd.DataFrame(df['HeadQuarter'].unique()).head(50)"
   ]
  },
  {
   "cell_type": "markdown",
   "metadata": {},
   "source": [
    "This column contains a lot of inconsistencies, some examples are\n",
    "- Incorrect city names (wrong spellings)\n",
    "- Having the country attached to it (Trivandrum, Kerala, India)\n",
    "- Missing values"
   ]
  },
  {
   "cell_type": "code",
   "execution_count": 344,
   "metadata": {},
   "outputs": [],
   "source": [
    "# replace \"Bengaluru\" with \"Bangalore\" in the \"headquarter\" column\n",
    "df['HeadQuarter'] = df['HeadQuarter'].str.replace('Bengaluru', 'Bangalore')\n",
    "df['HeadQuarter'] = df['HeadQuarter'].str.replace('Bangalore City', 'Bangalore')\n",
    "df['HeadQuarter'] = df['HeadQuarter'].str.replace('New Delhi', 'Delhi')\n",
    "df['HeadQuarter'] = df['HeadQuarter'].str.replace('Gurgaon', 'Gurugram')"
   ]
  },
  {
   "cell_type": "code",
   "execution_count": 345,
   "metadata": {},
   "outputs": [],
   "source": [
    "# list of some values in the 'HeadQuarter' column that will be replaced\n",
    "cities_to_replace = [\"Tirunelveli, Tamilnadu\", \"Frisco, Texas, United States\", \"Dhingsara, Haryana\", \"New York, United States\",\n",
    "\"Jaipur, Rajastan\", \"Jaipur, Rajastan\", \"San Francisco, California, United States\", \"San Francisco, United States\", \n",
    " \"San Ramon, California\", \"Paris, Ile-de-France, France\", \"Plano, Texas, United States\",\n",
    "\"San Francisco Bay Area, Silicon Valley,West Coast\", \"London, England, United Kingdom\", \"Sydney, New South Wales, Australia\", \n",
    "\"Milano, Lombardia, Italy\", \"New York, United States\", \"Palmwoods, Queensland, Australia\", \"London, England, United Kingdom\", \n",
    "\"San Francisco Bay Area, West Coast, Western US\", \"Trivandrum, Kerala, India\", \"Samastipur, Bihar\",\n",
    "\"Irvine, California, United States\", \"Tumkur, Karnataka\", \"San Francisco Bay Area, Silicon Valley, West Coast\", \n",
    "\"San Francisco, California, United States\", \"Newcastle Upon Tyne, Newcastle upon Tyne, United Kingdom\", \"Shanghai, China\", \n",
    "\"Jiaxing, Zhejiang, China\", \"Tangerang, Jawa Barat, Indonesia\"]\n",
    "\n",
    "\n",
    "# list of city names they will be replaced with\n",
    "new_cities = ['Tamilnadu', 'Texas', 'Haryana', 'New York', 'Rajastan', 'Rajastan', 'San Francisco', 'San Francisco', \n",
    "'San Ramon', 'Paris', 'Texas', 'San Francisco', 'London', 'Sydney', 'Milano', 'New York', 'Queensland', 'London', \n",
    "'San Francisco', 'Kerala', 'Biphar', 'California', 'Karnataka', 'San Francisco', 'San Francisco', 'Newcastle', 'Shanghai', \n",
    "'Jiaxing', 'Jawa Barat']\n",
    "\n",
    "for city, new_city in zip(cities_to_replace, new_cities):\n",
    "    df['HeadQuarter'] = df['HeadQuarter'].apply(lambda x: new_city if city in str(x) else x)"
   ]
  },
  {
   "cell_type": "code",
   "execution_count": 346,
   "metadata": {},
   "outputs": [
    {
     "data": {
      "text/plain": [
       "array(['Chennai', 'Bangalore', 'Pune', 'Delhi', 'Indore', 'Hyderabad',\n",
       "       'Gurugram', 'Belgaum', 'Noida', 'Mumbai', 'Andheri', 'Jaipur',\n",
       "       'Ahmedabad', 'Kolkata', 'Tamilnadu', 'Thane', None, 'Singapore',\n",
       "       'Gujarat', 'Haryana', 'Kerala', 'Jodhpur', 'Rajastan', 'Texas',\n",
       "       'California', 'New York', 'Patna', 'San Francisco', 'San Ramon',\n",
       "       'Paris', 'Sydney', 'Bangaldesh', 'London', 'Milano', 'Queensland',\n",
       "       'France', 'Cochin', 'Biphar', 'Karnataka', 'Newcastle', 'Shanghai',\n",
       "       'Jiaxing', 'Kochi', 'Ludhiana', 'Dehradun', 'San Franciscao',\n",
       "       'Jawa Barat', 'Berlin', 'Seattle', 'Riyadh', 'Seoul', 'Bangkok',\n",
       "       'Kanpur', 'Chandigarh', 'Warangal', 'Hyderebad', 'Odisha', 'Bihar',\n",
       "       'Goa', 'Tamil Nadu', 'Uttar Pradesh', 'Bhopal', 'Banglore',\n",
       "       'Coimbatore', 'Ahmadabad', 'Small Towns, Andhra Pradesh',\n",
       "       'Rajsamand', 'Ranchi', 'Faridabad, Haryana', 'Computer Games',\n",
       "       'Vadodara', 'Food & Beverages', 'Pharmaceuticals\\t#REF!',\n",
       "       'Gurugram\\t#REF!', 'Mohali', 'Powai', 'Ghaziabad', 'Nagpur',\n",
       "       'West Bengal', 'Samsitpur', 'Lucknow', 'Telangana', 'Silvassa',\n",
       "       'Thiruvananthapuram', 'Faridabad', 'Roorkee', 'Ambernath',\n",
       "       'Panchkula', 'Surat', 'Mangalore', 'Telugana', 'Bhubaneswar',\n",
       "       'Kottayam', 'Beijing', 'Panaji', 'Satara', 'Orissia', 'Santra',\n",
       "       'Mountain View, CA', 'Trivandrum', 'Jharkhand', 'Bhilwara',\n",
       "       'Guwahati', 'Online Media\\t#REF!',\n",
       "       'Information Technology & Services', 'The Nilgiris', 'Gandhinagar',\n",
       "       'Bangalore, Karnataka, India', 'Mumbai, Maharashtra, India',\n",
       "       'Gurugram, Haryana, India', 'Noida, Uttar Pradesh, India',\n",
       "       'Hyderabad, Andhra Pradesh, India', 'Kalkaji, Delhi, India',\n",
       "       'Delhi, Delhi, India', 'India, Asia', 'Hubli, Karnataka, India',\n",
       "       'Chennai, Tamil Nadu, India', 'Mohali, Punjab, India',\n",
       "       'Kolkata, West Bengal, India', 'Pune, Maharashtra, India',\n",
       "       'Jodhpur, Rajasthan, India', 'Kanpur, Uttar Pradesh, India',\n",
       "       'Ahmedabad, Gujarat, India', 'Azadpur, Delhi, India',\n",
       "       'Haryana, Haryana, India', 'Cochin, Kerala, India',\n",
       "       'Faridabad, Haryana, India', 'Jaipur, Rajasthan, India',\n",
       "       'Kota, Rajasthan, India', 'Anand, Gujarat, India',\n",
       "       'Belgaum, Karnataka, India', 'Thane, Maharashtra, India',\n",
       "       'Margão, Goa, India', 'Indore, Madhya Pradesh, India',\n",
       "       'Alwar, Rajasthan, India', 'Kannur, Kerala, India',\n",
       "       'Ernakulam, Kerala, India', 'Kormangala, Karnataka, India',\n",
       "       'Uttar Pradesh, India, Asia', 'Andheri, Maharashtra, India',\n",
       "       'Mylapore, Tamil Nadu, India', 'Ghaziabad, Uttar Pradesh, India',\n",
       "       'Kochi, Kerala, India', 'Powai, Assam, India',\n",
       "       'Guntur, Andhra Pradesh, India', 'Kalpakkam, Tamil Nadu, India',\n",
       "       'Bhopal, Madhya Pradesh, India', 'Coimbatore, Tamil Nadu, India',\n",
       "       'Worli, Maharashtra, India', 'Alleppey, Kerala, India',\n",
       "       'Chandigarh, Chandigarh, India', 'Guindy, Tamil Nadu, India',\n",
       "       'Lucknow, Uttar Pradesh, India', nan, 'Uttar pradesh', 'Rajasthan'],\n",
       "      dtype=object)"
      ]
     },
     "execution_count": 346,
     "metadata": {},
     "output_type": "execute_result"
    }
   ],
   "source": [
    "# check the unique values again\n",
    "df['HeadQuarter'].unique()"
   ]
  },
  {
   "cell_type": "markdown",
   "metadata": {},
   "source": [
    "Still contain values that are not supposed to be there"
   ]
  },
  {
   "cell_type": "code",
   "execution_count": 347,
   "metadata": {},
   "outputs": [],
   "source": [
    "# replacing invalid values\n",
    "df['HeadQuarter'] = df['HeadQuarter'].replace('Food & Beverages', np.nan)\n",
    "df['HeadQuarter'] = df['HeadQuarter'].replace('Pharmaceuticals\\t#REF!', np.nan)\n",
    "df['HeadQuarter'] = df['HeadQuarter'].replace('Online Media#REF!', np.nan)\n",
    "df['HeadQuarter'] = df['HeadQuarter'].replace('Gurugram\\t#REF!', 'Gurugram')\n",
    "df['HeadQuarter'] = df['HeadQuarter'].replace('Information Technology & Services', 'Manchester')\n",
    "df['HeadQuarter'] = df['HeadQuarter'].replace('Mountain View, CA', 'California')\n",
    "df['HeadQuarter'] = df['HeadQuarter'].replace('Faridabad, Haryana', 'Haryana')\n",
    "df['HeadQuarter'] = df['HeadQuarter'].replace('Small Towns, Andhra Pradesh', 'Andhra Pradesh')"
   ]
  },
  {
   "cell_type": "code",
   "execution_count": 348,
   "metadata": {},
   "outputs": [
    {
     "data": {
      "text/plain": [
       "array(['Chennai', 'Bangalore', 'Pune', 'Delhi', 'Indore', 'Hyderabad',\n",
       "       'Gurugram', 'Belgaum', 'Noida', 'Mumbai', 'Andheri', 'Jaipur',\n",
       "       'Ahmedabad', 'Kolkata', 'Tamilnadu', 'Thane', None, 'Singapore',\n",
       "       'Gujarat', 'Haryana', 'Kerala', 'Jodhpur', 'Rajastan', 'Texas',\n",
       "       'California', 'New York', 'Patna', 'San Francisco', 'San Ramon',\n",
       "       'Paris', 'Sydney', 'Bangaldesh', 'London', 'Milano', 'Queensland',\n",
       "       'France', 'Cochin', 'Biphar', 'Karnataka', 'Newcastle', 'Shanghai',\n",
       "       'Jiaxing', 'Kochi', 'Ludhiana', 'Dehradun', 'San Franciscao',\n",
       "       'Jawa Barat', 'Berlin', 'Seattle', 'Riyadh', 'Seoul', 'Bangkok',\n",
       "       'Kanpur', 'Chandigarh', 'Warangal', 'Hyderebad', 'Odisha', 'Bihar',\n",
       "       'Goa', 'Tamil Nadu', 'Uttar Pradesh', 'Bhopal', 'Banglore',\n",
       "       'Coimbatore', 'Ahmadabad', 'Andhra Pradesh', 'Rajsamand', 'Ranchi',\n",
       "       'Computer Games', 'Vadodara', nan, 'Mohali', 'Powai', 'Ghaziabad',\n",
       "       'Nagpur', 'West Bengal', 'Samsitpur', 'Lucknow', 'Telangana',\n",
       "       'Silvassa', 'Thiruvananthapuram', 'Faridabad', 'Roorkee',\n",
       "       'Ambernath', 'Panchkula', 'Surat', 'Mangalore', 'Telugana',\n",
       "       'Bhubaneswar', 'Kottayam', 'Beijing', 'Panaji', 'Satara',\n",
       "       'Orissia', 'Santra', 'Trivandrum', 'Jharkhand', 'Bhilwara',\n",
       "       'Guwahati', 'Online Media\\t#REF!', 'Manchester', 'The Nilgiris',\n",
       "       'Gandhinagar', 'Bangalore, Karnataka, India',\n",
       "       'Mumbai, Maharashtra, India', 'Gurugram, Haryana, India',\n",
       "       'Noida, Uttar Pradesh, India', 'Hyderabad, Andhra Pradesh, India',\n",
       "       'Kalkaji, Delhi, India', 'Delhi, Delhi, India', 'India, Asia',\n",
       "       'Hubli, Karnataka, India', 'Chennai, Tamil Nadu, India',\n",
       "       'Mohali, Punjab, India', 'Kolkata, West Bengal, India',\n",
       "       'Pune, Maharashtra, India', 'Jodhpur, Rajasthan, India',\n",
       "       'Kanpur, Uttar Pradesh, India', 'Ahmedabad, Gujarat, India',\n",
       "       'Azadpur, Delhi, India', 'Haryana, Haryana, India',\n",
       "       'Cochin, Kerala, India', 'Faridabad, Haryana, India',\n",
       "       'Jaipur, Rajasthan, India', 'Kota, Rajasthan, India',\n",
       "       'Anand, Gujarat, India', 'Belgaum, Karnataka, India',\n",
       "       'Thane, Maharashtra, India', 'Margão, Goa, India',\n",
       "       'Indore, Madhya Pradesh, India', 'Alwar, Rajasthan, India',\n",
       "       'Kannur, Kerala, India', 'Ernakulam, Kerala, India',\n",
       "       'Kormangala, Karnataka, India', 'Uttar Pradesh, India, Asia',\n",
       "       'Andheri, Maharashtra, India', 'Mylapore, Tamil Nadu, India',\n",
       "       'Ghaziabad, Uttar Pradesh, India', 'Kochi, Kerala, India',\n",
       "       'Powai, Assam, India', 'Guntur, Andhra Pradesh, India',\n",
       "       'Kalpakkam, Tamil Nadu, India', 'Bhopal, Madhya Pradesh, India',\n",
       "       'Coimbatore, Tamil Nadu, India', 'Worli, Maharashtra, India',\n",
       "       'Alleppey, Kerala, India', 'Chandigarh, Chandigarh, India',\n",
       "       'Guindy, Tamil Nadu, India', 'Lucknow, Uttar Pradesh, India',\n",
       "       'Uttar pradesh', 'Rajasthan'], dtype=object)"
      ]
     },
     "execution_count": 348,
     "metadata": {},
     "output_type": "execute_result"
    }
   ],
   "source": [
    "df['HeadQuarter'].unique()"
   ]
  },
  {
   "cell_type": "markdown",
   "metadata": {},
   "source": [
    "There are values like 'Lucknow, Uttar Pradesh, India' that need to be changed, and I am going to do this by only taking the first value after splitting"
   ]
  },
  {
   "cell_type": "code",
   "execution_count": 349,
   "metadata": {},
   "outputs": [],
   "source": [
    "# a function to split it if there's a comma in the row and pick just the first value after splitting\n",
    "# Define the function to pick the first part before the comma\n",
    "def pick_first(x):\n",
    "    if (isinstance(x, str)) and (',' in x):\n",
    "        return x.split(',')[0]\n",
    "    elif isinstance(x, float):\n",
    "        return np.nan\n",
    "    else:\n",
    "        return x"
   ]
  },
  {
   "cell_type": "code",
   "execution_count": 350,
   "metadata": {},
   "outputs": [
    {
     "data": {
      "text/plain": [
       "0       Chennai\n",
       "1     Bangalore\n",
       "2          Pune\n",
       "3         Delhi\n",
       "4        Indore\n",
       "5     Bangalore\n",
       "6     Hyderabad\n",
       "7      Gurugram\n",
       "8     Bangalore\n",
       "9          Pune\n",
       "10     Gurugram\n",
       "11    Bangalore\n",
       "12        Delhi\n",
       "13        Delhi\n",
       "14      Belgaum\n",
       "15     Gurugram\n",
       "16    Bangalore\n",
       "17        Delhi\n",
       "18        Noida\n",
       "19        Delhi\n",
       "20    Bangalore\n",
       "21    Hyderabad\n",
       "22       Mumbai\n",
       "23    Bangalore\n",
       "24     Gurugram\n",
       "25       Mumbai\n",
       "26    Bangalore\n",
       "27    Bangalore\n",
       "28    Bangalore\n",
       "29     Gurugram\n",
       "Name: HeadQuarter, dtype: object"
      ]
     },
     "execution_count": 350,
     "metadata": {},
     "output_type": "execute_result"
    }
   ],
   "source": [
    "df['HeadQuarter'] = df['HeadQuarter'].apply(pick_first)\n",
    "\n",
    "# now take another look at the unique values\n",
    "df['HeadQuarter'].head(30)"
   ]
  },
  {
   "cell_type": "code",
   "execution_count": 351,
   "metadata": {},
   "outputs": [
    {
     "data": {
      "text/plain": [
       "116"
      ]
     },
     "execution_count": 351,
     "metadata": {},
     "output_type": "execute_result"
    }
   ],
   "source": [
    "# now dealing with missing values\n",
    "df['HeadQuarter'].isna().sum()"
   ]
  },
  {
   "cell_type": "markdown",
   "metadata": {},
   "source": [
    "Due to the huge number of missing values, I am going to search through the column, return the 10 most occuring entries and randomly fill the missing values with any of the 10"
   ]
  },
  {
   "cell_type": "code",
   "execution_count": 352,
   "metadata": {},
   "outputs": [],
   "source": [
    "\n",
    "from collections import Counter\n",
    "import random\n",
    "\n",
    "def most_occuring_and_fill(column):\n",
    "    # Convert the column to a list for processing\n",
    "    x = column.tolist()\n",
    "    \n",
    "    # Count the frequency of each element in the list (ignoring None values)\n",
    "    counter = Counter([item for item in x if pd.notna(item)])\n",
    "    \n",
    "    # Get the 10 most common elements\n",
    "    most_common = counter.most_common(10)\n",
    "    \n",
    "    # Extract the elements (ignoring their counts)\n",
    "    most_common_elements = [item for item, count in most_common]\n",
    "    # Create a new list where missing values are filled\n",
    "    filled_list = [\n",
    "        item if pd.notna(item) else random.choice(most_common_elements) \n",
    "        for item in x\n",
    "    ]\n",
    "    \n",
    "    return filled_list\n"
   ]
  },
  {
   "cell_type": "code",
   "execution_count": 353,
   "metadata": {},
   "outputs": [],
   "source": [
    "# fill in missing values with a random value from the 10 most occuring values\n",
    "df['HeadQuarter']= most_occuring_and_fill(df['HeadQuarter'])"
   ]
  },
  {
   "cell_type": "markdown",
   "metadata": {},
   "source": []
  },
  {
   "cell_type": "markdown",
   "metadata": {},
   "source": [
    "#### Cleaning the 'Sector' column"
   ]
  },
  {
   "cell_type": "markdown",
   "metadata": {},
   "source": [
    "First we have a look at the missing values in the column and the unique values"
   ]
  },
  {
   "cell_type": "code",
   "execution_count": 354,
   "metadata": {},
   "outputs": [
    {
     "data": {
      "text/plain": [
       "18"
      ]
     },
     "execution_count": 354,
     "metadata": {},
     "output_type": "execute_result"
    }
   ],
   "source": [
    "df['Sector'].isna().sum()"
   ]
  },
  {
   "cell_type": "markdown",
   "metadata": {},
   "source": [
    "This column definitely has issues that have to be dealt with, some of these issues are\n",
    "\n",
    "- Range of values to wide and diverse\n",
    "- Double Sectors\n",
    "- dash entries ('-')\n",
    "- missing values"
   ]
  },
  {
   "cell_type": "code",
   "execution_count": 355,
   "metadata": {},
   "outputs": [],
   "source": [
    "\n",
    "# Define your lists of substrings\n",
    "tech = ['Mobile','Technology', 'Internet', 'Software', 'Hardware','SaaS','Blockchain','Apps','Information Services','SEM',\n",
    "        'Artificial Intelligence','CleanTech','Aerospace','Robotics','Ai','PaaS','Medtech','Agritech','HR tech',\n",
    "       'Tech','FoodTech','Safety tech','IoT','Legal tech','Infratech','Netwokring platform','Telecommunication','Cloud','Aero',\n",
    "       'Virtual','Content','Photonics','app','Proptech','Deeptech','AR','VR','Agri tech','-Tech','AgriTech','IT','Network',\n",
    "        'Data','HrTech','Foodtech','Spacetech','E-mobility','Automation','Logitech','HRTech','Drone','MLOps','Innovation',\n",
    "       'BioTechnology','TaaS','network','equipment','SpaceTech','CRM','MarTech','Nanotechnology','Femtech','startup','AI']\n",
    "fin = ['Lending','Finance','Insurance', 'Payments','Financial Services','Credit','Credit Cards','Mutual Funds',\n",
    "       'Banking','Escrow','Venture','financial','Taxation','Capital','firm','Equity']\n",
    "fint = ['NFT','Virtual Banking','FinTech','Fintech','Cryptocurrency','Crypto','Insurtech','InsurTech']\n",
    "health = ['Health', 'Medical','Pharmaceutical','Health Diagnotics','Health Care','Hospital','Biotechnology','Biopharma',\n",
    "         'Hygiene management','HealthTech','Healthcare','HealthCare','laboratory','Biotech','Healthtech','HeathTech',\n",
    "         'Helathcare','Veterinary']\n",
    "mkt = ['Brand Marketing','Marketing','Event Promotion','Market']\n",
    "agric = ['Farming','Agriculture','Nutrition','Hauz Khas','Fishery']\n",
    "con = ['Food','Food and Beverages','Dairy','Beverages','Beer','FMCG']\n",
    "econ = ['B2B','Shopping','E-Commerce','Trading Platform','E-commerce','E-marketplace','marketplace','e-commerce','Ecommerce',\n",
    "        'E-market','Commerce','Trading platform']\n",
    "cons = ['Wholesale','Consumer','Shoes','Packaging','Retail','Consulting','Food Delivery']\n",
    "edu = ['E-Learning','EdTech','Education','Communities','Edtech','Preschool','School']\n",
    "welln = ['Lifestyle','Beauty','Wellness','Cosmetics','Yoga','Skincare','D2C','Fitness','Lifestyle','Training']\n",
    "real_est = ['Real Estate','Home Decor','Accomodation','Interior design','Home Design','Home interior','Co-living',\n",
    "          'Construction']\n",
    "log = ['Logistics','Rental','Tourism','Travel','TravelTech','Transport','Transportation','Aviation','Mobility']\n",
    "auto = ['Automotive','Electric vehicle','Industrial Automation','Vehicles','Automotive tech','Automobile','Tyre','car','Car',\n",
    "       'Vehicle','Mechanical']\n",
    "manu = ['Manufacturing']\n",
    "ener = ['Renewable Energy','Solar','Energy','Energy Storage','Battery','Oil and Gas','Renewable','EV','Electricity',\n",
    "       'purification','Renewables']\n",
    "medi = ['Entertainment','Media','News','Video','Digital Media','FM','Publication','OTT','Social Network','Music',\n",
    "        'Digital platform','Podcast','publishing','Blogging']\n",
    "game = ['Gaming','Games','Sports']\n",
    "style = ['Fashion','Jewelry','Eyeglasses','Eye Wear','Apparel','Dating','Celebrity','Eyewear','D2C Fashion','Matrimony',\n",
    "         'Textiles','D2C jewellery','Foootwear','Arts']\n",
    "hos = ['Hospitality','Hotel','Leisure']\n",
    "\n",
    "\n",
    "# drop missing values\n",
    "df['Sector'].fillna('', inplace=True)\n",
    "\n",
    "# Define the general pattern for symbols\n",
    "symbols_pattern = r'[^a-zA-Z0-9\\s]'\n",
    "df['Sector'] = df['Sector'].replace(symbols_pattern, 'Not Specified')\n",
    "\n",
    "df['new_sector'] = 'Other'\n",
    "df.loc[df['Sector'].str.contains('|'.join(tech)), 'new_sector'] = 'Technology'\n",
    "df.loc[df['Sector'].str.contains('|'.join(fin)), 'new_sector'] = 'Finance'\n",
    "df.loc[df['Sector'].str.contains('|'.join(health)), 'new_sector'] = 'Healthcare'\n",
    "df.loc[df['Sector'].str.contains('|'.join(mkt)), 'new_sector'] = 'Marketing'\n",
    "df.loc[df['Sector'].str.contains('|'.join(agric)), 'new_sector'] = 'Agriculture'\n",
    "df.loc[df['Sector'].str.contains('|'.join(econ)), 'new_sector'] = 'E-Commerce'\n",
    "df.loc[df['Sector'].str.contains('|'.join(edu)), 'new_sector'] = 'Education'\n",
    "df.loc[df['Sector'].str.contains('|'.join(welln)), 'new_sector'] = 'Wellness/Beauty'\n",
    "df.loc[df['Sector'].str.contains('|'.join(real_est)), 'new_sector'] = 'Real Estate'\n",
    "df.loc[df['Sector'].str.contains('|'.join(log)), 'new_sector'] = 'Logistics'\n",
    "\n",
    "df.loc[df['Sector'].str.contains('|'.join(auto)), 'new_sector'] = 'Automotive'\n",
    "df.loc[df['Sector'].str.contains('|'.join(manu)), 'new_sector'] = 'Manufacture'\n",
    "df.loc[df['Sector'].str.contains('|'.join(ener)), 'new_sector'] = 'Energy'\n",
    "df.loc[df['Sector'].str.contains('|'.join(medi)), 'new_sector'] = 'Media/Entertainment'\n",
    "df.loc[df['Sector'].str.contains('|'.join(hos)), 'new_sector'] = 'Hospitality'\n",
    "df.loc[df['Sector'].str.contains('|'.join(style)), 'new_sector'] = 'Lifestyle'\n",
    "df.loc[df['Sector'].str.contains('|'.join(cons)), 'new_sector'] = 'Consumer Services'\n",
    "df.loc[df['Sector'].str.contains('|'.join(game)), 'new_sector'] = 'Gaming'\n",
    "df.loc[df['Sector'].str.contains('|'.join(fint)), 'new_sector'] = 'FinTech'\n",
    "df.loc[df['Sector'].str.contains('|'.join(con)), 'new_sector'] = 'Consumables'\n",
    "\n"
   ]
  },
  {
   "cell_type": "code",
   "execution_count": 356,
   "metadata": {},
   "outputs": [
    {
     "data": {
      "text/plain": [
       "array(['Technology', 'Education', 'Healthcare', 'Finance', 'FinTech',\n",
       "       'Other', 'Consumables', 'Lifestyle', 'E-Commerce', 'Gaming',\n",
       "       'Logistics', 'Consumer Services', 'Automotive', 'Energy',\n",
       "       'Marketing', 'Media/Entertainment', 'Real Estate', 'Hospitality',\n",
       "       'Wellness/Beauty', 'Agriculture', 'Manufacture'], dtype=object)"
      ]
     },
     "execution_count": 356,
     "metadata": {},
     "output_type": "execute_result"
    }
   ],
   "source": [
    "df['new_sector'].unique()"
   ]
  },
  {
   "cell_type": "markdown",
   "metadata": {},
   "source": [
    "now I will go ahead an rename the drop the 'Sector' column and have the 'new_sector' column changed to 'Sector'"
   ]
  },
  {
   "cell_type": "code",
   "execution_count": 357,
   "metadata": {},
   "outputs": [],
   "source": [
    "# drop the old sector\n",
    "df.drop(columns=['Sector'], inplace=True)"
   ]
  },
  {
   "cell_type": "code",
   "execution_count": 358,
   "metadata": {},
   "outputs": [],
   "source": [
    "df.rename(columns={ 'new_sector': 'Sector'}, inplace=True)"
   ]
  },
  {
   "cell_type": "code",
   "execution_count": 359,
   "metadata": {},
   "outputs": [
    {
     "data": {
      "text/html": [
       "<div>\n",
       "<style scoped>\n",
       "    .dataframe tbody tr th:only-of-type {\n",
       "        vertical-align: middle;\n",
       "    }\n",
       "\n",
       "    .dataframe tbody tr th {\n",
       "        vertical-align: top;\n",
       "    }\n",
       "\n",
       "    .dataframe thead th {\n",
       "        text-align: right;\n",
       "    }\n",
       "</style>\n",
       "<table border=\"1\" class=\"dataframe\">\n",
       "  <thead>\n",
       "    <tr style=\"text-align: right;\">\n",
       "      <th></th>\n",
       "      <th>Company_Brand</th>\n",
       "      <th>Founded</th>\n",
       "      <th>HeadQuarter</th>\n",
       "      <th>What_it_does</th>\n",
       "      <th>Investor</th>\n",
       "      <th>Amount</th>\n",
       "      <th>Stage</th>\n",
       "      <th>Year</th>\n",
       "      <th>Num_of_Investors</th>\n",
       "      <th>Num_of_Founders</th>\n",
       "      <th>Sector</th>\n",
       "    </tr>\n",
       "  </thead>\n",
       "  <tbody>\n",
       "    <tr>\n",
       "      <th>0</th>\n",
       "      <td>Aqgromalin</td>\n",
       "      <td>2019.00</td>\n",
       "      <td>Chennai</td>\n",
       "      <td>Cultivating Ideas for Profit</td>\n",
       "      <td>Angel investors</td>\n",
       "      <td>200000.00</td>\n",
       "      <td>None</td>\n",
       "      <td>2020</td>\n",
       "      <td>1.00</td>\n",
       "      <td>2.00</td>\n",
       "      <td>Technology</td>\n",
       "    </tr>\n",
       "    <tr>\n",
       "      <th>1</th>\n",
       "      <td>Krayonnz</td>\n",
       "      <td>2019.00</td>\n",
       "      <td>Bangalore</td>\n",
       "      <td>An academy-guardian-scholar centric ecosystem which provides state of the art technological solutions.</td>\n",
       "      <td>GSF Accelerator</td>\n",
       "      <td>100000.00</td>\n",
       "      <td>Pre-seed</td>\n",
       "      <td>2020</td>\n",
       "      <td>1.00</td>\n",
       "      <td>2.00</td>\n",
       "      <td>Education</td>\n",
       "    </tr>\n",
       "    <tr>\n",
       "      <th>2</th>\n",
       "      <td>PadCare Labs</td>\n",
       "      <td>2018.00</td>\n",
       "      <td>Pune</td>\n",
       "      <td>Converting bio-hazardous waste to harmless waste</td>\n",
       "      <td>Venture Center</td>\n",
       "      <td>NaN</td>\n",
       "      <td>Pre-seed</td>\n",
       "      <td>2020</td>\n",
       "      <td>1.00</td>\n",
       "      <td>1.00</td>\n",
       "      <td>Healthcare</td>\n",
       "    </tr>\n",
       "    <tr>\n",
       "      <th>3</th>\n",
       "      <td>NCOME</td>\n",
       "      <td>2020.00</td>\n",
       "      <td>Delhi</td>\n",
       "      <td>Escrow-as-a-service platform</td>\n",
       "      <td>Venture Catalysts, PointOne Capital</td>\n",
       "      <td>400000.00</td>\n",
       "      <td>None</td>\n",
       "      <td>2020</td>\n",
       "      <td>2.00</td>\n",
       "      <td>1.00</td>\n",
       "      <td>Finance</td>\n",
       "    </tr>\n",
       "    <tr>\n",
       "      <th>4</th>\n",
       "      <td>Gramophone</td>\n",
       "      <td>2016.00</td>\n",
       "      <td>Indore</td>\n",
       "      <td>Gramophone is an AgTech platform enabling access to agri inputs and powering efficient farm management.</td>\n",
       "      <td>Siana Capital Management, Info Edge</td>\n",
       "      <td>340000.00</td>\n",
       "      <td>None</td>\n",
       "      <td>2020</td>\n",
       "      <td>2.00</td>\n",
       "      <td>4.00</td>\n",
       "      <td>Technology</td>\n",
       "    </tr>\n",
       "  </tbody>\n",
       "</table>\n",
       "</div>"
      ],
      "text/plain": [
       "  Company_Brand  Founded HeadQuarter  \\\n",
       "0    Aqgromalin  2019.00     Chennai   \n",
       "1      Krayonnz  2019.00   Bangalore   \n",
       "2  PadCare Labs  2018.00        Pune   \n",
       "3         NCOME  2020.00       Delhi   \n",
       "4    Gramophone  2016.00      Indore   \n",
       "\n",
       "                                                                                              What_it_does  \\\n",
       "0                                                                             Cultivating Ideas for Profit   \n",
       "1   An academy-guardian-scholar centric ecosystem which provides state of the art technological solutions.   \n",
       "2                                                         Converting bio-hazardous waste to harmless waste   \n",
       "3                                                                             Escrow-as-a-service platform   \n",
       "4  Gramophone is an AgTech platform enabling access to agri inputs and powering efficient farm management.   \n",
       "\n",
       "                              Investor    Amount     Stage  Year  \\\n",
       "0                      Angel investors 200000.00      None  2020   \n",
       "1                      GSF Accelerator 100000.00  Pre-seed  2020   \n",
       "2                       Venture Center       NaN  Pre-seed  2020   \n",
       "3  Venture Catalysts, PointOne Capital 400000.00      None  2020   \n",
       "4  Siana Capital Management, Info Edge 340000.00      None  2020   \n",
       "\n",
       "   Num_of_Investors  Num_of_Founders      Sector  \n",
       "0              1.00             2.00  Technology  \n",
       "1              1.00             2.00   Education  \n",
       "2              1.00             1.00  Healthcare  \n",
       "3              2.00             1.00     Finance  \n",
       "4              2.00             4.00  Technology  "
      ]
     },
     "execution_count": 359,
     "metadata": {},
     "output_type": "execute_result"
    }
   ],
   "source": [
    "df.head()"
   ]
  },
  {
   "cell_type": "code",
   "execution_count": null,
   "metadata": {},
   "outputs": [],
   "source": []
  },
  {
   "cell_type": "markdown",
   "metadata": {},
   "source": [
    "#### Cleaning the 'Amount' Column"
   ]
  },
  {
   "cell_type": "code",
   "execution_count": 360,
   "metadata": {},
   "outputs": [
    {
     "data": {
      "text/plain": [
       "array([200000.0, 100000.0, nan, 400000.0, 340000.0, 600000.0, 45000000.0,\n",
       "       1000000.0, 2000000.0, 1200000.0, 660000000.0, 120000.0, 7500000.0,\n",
       "       5000000.0, 500000.0, 3000000.0, 10000000.0, 145000000.0,\n",
       "       100000000.0, 21000000.0, 4000000.0, 20000000.0, 560000.0, 275000.0,\n",
       "       4500000.0, 15000000.0, 390000000.0, 7000000.0, 5100000.0,\n",
       "       700000000.0, 2300000.0, 700000.0, 19000000.0, 9000000.0,\n",
       "       40000000.0, 750000.0, 1500000.0, 7800000.0, 50000000.0, 80000000.0,\n",
       "       30000000.0, 1700000.0, 2500000.0, 40000.0, 33000000.0, 35000000.0,\n",
       "       300000.0, 25000000.0, 3500000.0, 200000000.0, 6000000.0, 1300000.0,\n",
       "       4100000.0, 575000.0, 800000.0, 28000000.0, 18000000.0, 3200000.0,\n",
       "       900000.0, 250000.0, 4700000.0, 75000000.0, 8000000.0, 121000000.0,\n",
       "       55000000.0, 3300000.0, 11000000.0, 16000000.0, 5400000.0,\n",
       "       150000000.0, 4200000.0, 22000000.0, 52000000.0, 1100000.0,\n",
       "       118000000.0, 1600000.0, 18500000.0, 70000000000.0, 800000000.0,\n",
       "       400000000.0, 150000.0, 176000000.0, 60000000.0, 470000.0, 240000.0,\n",
       "       3000000000.0, 74000000.0, 62000000.0, 2100000.0, 500000000.0,\n",
       "       12500000.0, 2200000000.0, 5060000.0, 225000000.0, 24700000.0,\n",
       "       7700000.0, 19067328.0, 51000000.0, 115000.0, 54000.0, 20000.0,\n",
       "       803146.0, 238000.0, 10220000.0, 1020000.0, 12000000.0, 13400000.0,\n",
       "       170000000.0, 2900000.0, 543000.0, 90000000.0, 3400000.0,\n",
       "       23000000.0, 8090000.0, 1030000.0, 5040000.0, 360000.0, 1400000.0,\n",
       "       650000.0, 54000000.0, 42500000.0, 11370000.0, 325000.0, 410000.0,\n",
       "       450000.0, 682000.0, 4050000.0, 1050000.0, 1080000.0, 4300000.0,\n",
       "       6800000.0, 2110000.0, 764000.0, 603000.0, 409000.0, 292000.0,\n",
       "       286000.0, 136000.0, 546000.0, 887000.0, 43000.0, 40900.0,\n",
       "       2200000.0, 5660000.0, 350000.0, 110000.0, 122000000.0, 11635000.0,\n",
       "       2800000.0, 1065000.0, 669000.0, 16076000.0, 649600.0, 6700000.0,\n",
       "       220000.0, 266500.0, 2879000.0, 26500000.0, 351000.0, 46761000.0,\n",
       "       175000.0, 11241000.0, 804000.0, 1340000.0, 467000.0, 133000.0,\n",
       "       3823000.0, 934000.0, 293000.0, 198000.0, 927000.0, 971000.0,\n",
       "       3060000.0, 1862000.0, 232000.0, 2888000.0, 1328000.0, 15500000.0,\n",
       "       56000000.0, 2250000.0, 16753000.0, 3700000.0, 1470000.0, 530000.0,\n",
       "       267000.0, 3344000.0, 7200000.0, 2743000.0, 6082000.0, 6609000.0,\n",
       "       27700000.0, 5940000.0, 3964000.0, 5500000.0, 197000.0, 4327000.0,\n",
       "       459000.0, 3937000.0, 1313500.0, 229800.0, 5305000.0, 264000.0,\n",
       "       1750000.0, 5967000.0, 2980000.0, 323000.0, 1326000.0, 27000000.0,\n",
       "       5200000.0, 2530000.0, 792000.0, 11363000.0, 1715000.0, 329000.0,\n",
       "       5271000.0, 8700000.0, 3226000.0, 5900000.0, 44000000.0, 3879000.0,\n",
       "       13000000.0, 8800000.0, 9500000.0, 920000.0, 35600000.0, 9400000.0,\n",
       "       790000.0, 480000.0, 160000.0, 8200000.0, 4257000.0, 1410000.0,\n",
       "       349800.0, 786000.0, 2004000.0, 123000000.0, 248000.0, 24000000.0,\n",
       "       14259000.0, 24500000.0, 3800000.0, 18370000.0, 68525000.0,\n",
       "       4800000.0, 1834000.0, 23850000.0, 43000000.0, 21600000.0,\n",
       "       4598000.0, 13137000.0, 115000000.0, 3900000.0, 670000.0, 8500000.0,\n",
       "       3148000.0, 2600000.0, 4049500.0, 10500000.0, 6500000.0, 43700000.0,\n",
       "       13800000.0, 306900.0, 420000.0, 627300.0, 113000000.0, 32000000.0,\n",
       "       110000000.0, 1397000.0, 448500.0, 7975700.0, 330000.0, 5600000.0,\n",
       "       1402000.0, 21500000.0, 296000000.0, 4900000.0, 1402400.0,\n",
       "       12618300.0, 9900000.0, 982530.0, 70185200.0, 210000000.0,\n",
       "       84000000.0, 39000000.0, 2700000.0, 1403400.0, 105000000.0,\n",
       "       103000000.0, 281300.0, 12700.0, 25000.0, 97500000.0, 507000.0,\n",
       "       8400000.0, 18300000.0, 125000000.0, 181000.0, 280000.0, 14700000.0,\n",
       "       13200000.0, 8043000.0, '$1,200,000', '$120,000,000', '$30,000,000',\n",
       "       '$51,000,000', '$2,000,000', '$188,000,000', '$200,000',\n",
       "       'Undisclosed', '$1,000,000', '$3,000,000', '$100,000', '$700,000',\n",
       "       '$9,000,000', '$40,000,000', '$49,000,000', '$400,000', '$300,000',\n",
       "       '$25,000,000', '$160,000,000', '$150,000', '$1,800,000',\n",
       "       '$5,000,000', '$850,000', '$53,000,000', '$500,000', '$1,100,000',\n",
       "       '$6,000,000', '$800,000', '$10,000,000', '$21,000,000',\n",
       "       '$7,500,000', '$26,000,000', '$7,400,000', '$1,500,000',\n",
       "       '$600,000', '$800,000,000', '$17,000,000', '$3,500,000',\n",
       "       '$15,000,000', '$215,000,000', '$2,500,000', '$350,000,000',\n",
       "       '$5,500,000', '$83,000,000', '$110,000,000', '$500,000,000',\n",
       "       '$65,000,000', '$150,000,000,000', '$300,000,000', '$2,200,000',\n",
       "       '$35,000,000', '$140,000,000', '$4,000,000', '$13,000,000', None,\n",
       "       '$Undisclosed', '$2000000', '$800000', '$6000000', '$2500000',\n",
       "       '$9500000', '$13000000', '$5000000', '$8000000', '$1000000',\n",
       "       'Upsparks', '$200000', '$12000000', '$1500000', '$1700000',\n",
       "       '$5500000', '$400000', '$150000000', '$4000000', '$100000000',\n",
       "       '$500000', '$15000000', '$10000000', '$40000000', '$225000000',\n",
       "       '$6700000', '$1300000', '$20000000', '$250000', '$21000000',\n",
       "       '$1200000', '$52000000', '$3800000', '$17500000', '$42000000',\n",
       "       '$2300000', '$7000000', '$30000000', '$450000000', '$28000000',\n",
       "       '$300000', '$3500000', '$8500000', '$25000000', '$3000000',\n",
       "       '$37000000', '$370000000', '$700000', '$16000000', '$100000',\n",
       "       '$44000000', '$770000', '$125000000', '$35000000', '$50000000',\n",
       "       '$4900000', '$145000000', '$22000000', '$70000000', '$6600000',\n",
       "       '$32000000', '$24000000', '$725000', '$461000', 'Series C', 'Seed',\n",
       "       '$96000000', '$60000000', '$500000000', '$266000000', '$4500000',\n",
       "       '$325000000', '$6500000', '$1600000', '$150000', '$225000',\n",
       "       '$85000000', '$235000', '$260000', '$2900000', '$53000000',\n",
       "       '$1100000', '$86000000', '$130000', '$$100,00', '$111000000',\n",
       "       '$265000', '$76000000', '$100,000,000', '$75,000,000',\n",
       "       '$3,800,000', '$12,000,000', '$1,600,000', '$260,000',\n",
       "       '$1,000,000,000', '$18,000,000', '$20,000,000', '$350,000',\n",
       "       '$95,000,000', '$4,100,000', '$5,200,000', '$8,000,000',\n",
       "       '$1,400,000', '$2,600,000', '$900,000', '$250,000', '$16,000,000',\n",
       "       '$7,000,000', '$11,000,000', '$280,000,000', '$50,000,000',\n",
       "       '$14,300,000', '$81,000,000', '$1,300,000', '$8,200,000',\n",
       "       '$70,000,000', '$720,000', '$600000', '$9000000', '$1800000',\n",
       "       '$330000', '$undisclosed', '$200000000', '$36000000', '$67000000',\n",
       "       '$10200000', '$220000000', '$108000000', '$75000000', '$450000',\n",
       "       '$660000000', 'ah! Ventures', '$45000000', '$3200000', '$370000',\n",
       "       'Pre-series A', 'ITO Angel Network, LetsVenture', '$48000000',\n",
       "       '$3600000', '$11000000', '$192000000', '$65000000', '$1400000',\n",
       "       '$1900000', '$41000000', '$144000000', '$5200000', '$270000000',\n",
       "       '$140000', '$250000000', '$320000', '$350000000', '$4800000',\n",
       "       '$38000000', '$125000', '$26000000', '$64000000', '$620000',\n",
       "       '$900000', 'JITO Angel Network, LetsVenture', '$2600000',\n",
       "       '$1,250,000', '$400,000,000', '$1,700,000', '$27,000,000',\n",
       "       '$234,000,000', '$460,000,000', '$13,500,000', '$5,100,000',\n",
       "       '$195,000,000', '$125,000', '$45,000,000', '$200,000,000',\n",
       "       '$7,300,000', '$6,300,000', '$12,500,000', '$24,000,000',\n",
       "       '$140,000', '$16,500,000', '$340,000', '$43,000,000',\n",
       "       '$150,000,000', '$3300000', '$92000000', '$17000000', '$135000000',\n",
       "       '$$1,55,000', '$2100000', '$840000000', '$248000000', '$4300000',\n",
       "       '$570000', '$2200000', '$4700000', '$300000000', '$260000000',\n",
       "       '$140000000', '$175000000', '$19000000', '$810000', '$7500000',\n",
       "       '$600000000', '$90000000', '$5700000', '$6750000', '$78000000',\n",
       "       '$5400000', '$115000000', '$255000000', '$18000000', '$570000000',\n",
       "       '$550000', '$2700000', '$4200000', '$31000000', '$540000',\n",
       "       '$14000000', '$340000', '$', '$6200000', '$750000', '$6300000',\n",
       "       '$23000000', '$55000000', '250000', '₹40,000,000', '₹65,000,000',\n",
       "       '2000000', '—', '1600000', '₹16,000,000', '₹50,000,000',\n",
       "       '₹100,000,000', '150000', '1100000', '₹500,000', '6000000',\n",
       "       '650000', '₹35,000,000', '₹64,000,000', '₹20,000,000', '1000000',\n",
       "       '5000000', '4000000', '₹30,000,000', '2800000', '1700000',\n",
       "       '1300000', '₹5,000,000', '₹12,500,000', '₹15,000,000', '500000',\n",
       "       '₹104,000,000', '₹45,000,000', '13400000', '₹25,000,000',\n",
       "       '₹26,400,000', '₹8,000,000', '₹60,000', '9000000', '100000',\n",
       "       '20000', '120000', '₹34,000,000', '₹342,000,000', '$143,145',\n",
       "       '₹600,000,000', '$742,000,000', '₹1,000,000,000', '₹2,000,000,000',\n",
       "       '$3,980,000', '$10,000', '₹100,000', '₹250,000,000',\n",
       "       '₹550,000,000', '$28,500,000', '₹240,000,000', '₹120,000,000',\n",
       "       '$2,400,000', '₹2,500,000,000', '$23,000,000', '₹44,000,000',\n",
       "       '$3,240,000', '₹60,000,000', '$540,000,000', '₹650,000,000',\n",
       "       '₹1,600,000,000', '₹70,000,000', '$14,000,000', '₹102,500,000',\n",
       "       '₹1,200,000', '₹5,200,000,000', '$1,041,000', '$15,000', '1400000',\n",
       "       '1200000', '2200000', '1800000', '3600000', '₹9,500,000', '300000',\n",
       "       '6830000', '200000', '₹150,000,000', '4300000', '364846', '400000',\n",
       "       '1500000', '₹7,000,000', '₹1,400,000', '₹10,000,000',\n",
       "       '₹22,500,000', '13200000', '50000', '₹140,200,000', '3000000',\n",
       "       '1250000', '180000', '₹19,200,000', '₹103,000,000', '4200000',\n",
       "       '175000', '1450000', '₹200,000', '4500000', '600000',\n",
       "       '₹16,600,000', '₹12,000,000', '15000000', '₹33,000,000', '125000',\n",
       "       '130000', '₹34,900,000', '₹72,000,000', '17200000', '₹32,000,000',\n",
       "       '3500000', '₹135,000,000', '12000000', '₹1,540,000,000',\n",
       "       '₹140,000,000', '$41,900,000', '₹1,410,000,000', '$3,530,000',\n",
       "       '$3,300,000', '₹580,000,000', '₹36,000,000', '₹340,000,000',\n",
       "       '$210,000,000', '$37,680,000', '$20,000', '₹510,000,000',\n",
       "       '₹2,200,000,000', '22000000', '70000', '10000000',\n",
       "       '₹15,392,000,000', '₹20,000,000,000', '₹4,000,000,000',\n",
       "       '185000000', '65000000', '₹165,000,000', '700000', '30000000',\n",
       "       '₹210,000,000', '210000000', '₹2,029,600,000', '75000000',\n",
       "       '₹80,000,000', '1760000', '2700000', '₹280,000,000',\n",
       "       '₹800,000,000', '750000', '2500000', '80000000', '25000000',\n",
       "       '₹730,000,000', '₹400,000,000', '3700000', '5600000',\n",
       "       '₹260,000,000', '99230000', '70000000', '40000', '550000',\n",
       "       '50000000', '365000000', '₹8,750,000', '₹78,000,000', '28000000',\n",
       "       '₹264,000,000', '100000000', '₹1,130,000,000', '₹810,000,000',\n",
       "       '₹1,400,000,000', '14900000', '225000000', '7500', '35000000',\n",
       "       '$6,300,000 ', '$150,000,000 ', '$28,000,000 ', '$30,000,000 ',\n",
       "       '$6,000,000 ', '$1,000,000 ', '$20,000,000 ', '$275,000,000 ',\n",
       "       '$22,000,000 ', '$5,000,000 ', '$140,500 ', '$540,000,000 ',\n",
       "       '$15,000,000 ', '$182,700 ', '$12,000,000 ', '$11,000,000 ',\n",
       "       '$15,500,000 ', '$1,500,000 ', '$5,500,000 ', '$2,500,000 ',\n",
       "       '$140,000 ', '$230,000,000 ', '$49,400,000 ', '$32,000,000 ',\n",
       "       '$26,000,000 ', '$150,000 ', '$400,000 ', '$2,000,000 ',\n",
       "       '$100,000,000 ', '$8,000,000 ', '$100,000 ', '$50,000,000 ',\n",
       "       '$120,000,000 ', '$4,000,000 ', '$6,800,000 ', '$36,000,000 ',\n",
       "       '$5,700,000 ', '$25,000,000 ', '$600,000 ', '$70,000,000 ',\n",
       "       '$60,000,000 ', '$220,000 ', '$2,800,000 ', '$2,100,000 ',\n",
       "       '$7,000,000 ', '$311,000,000 ', '$4,800,000 ', '$693,000,000 ',\n",
       "       '$33,000,000 '], dtype=object)"
      ]
     },
     "execution_count": 360,
     "metadata": {},
     "output_type": "execute_result"
    }
   ],
   "source": [
    "df['Amount'].unique()"
   ]
  },
  {
   "cell_type": "markdown",
   "metadata": {},
   "source": [
    "There are a lot of inconsistencies in the column, some examples are;\n",
    "\n",
    "- missing values\n",
    "- currency mix-up\n",
    "- figures without currencies\n",
    "- invalid entries(Seed, $, Undisclosed)"
   ]
  },
  {
   "cell_type": "code",
   "execution_count": 361,
   "metadata": {},
   "outputs": [],
   "source": [
    "# first convert every value in the 'Amount' column to string so string function can be run on it\n",
    "df['Amount'] = df['Amount'].apply(lambda x: str(x))\n",
    "\n",
    "# Write a function that determines currency\n",
    "def determine_currency(value):\n",
    "    if ('$' in value) or (value.isdigit()) :\n",
    "        return 'Dollars'\n",
    "    elif '₹' in value:\n",
    "        return 'Rupees'\n",
    "    else:\n",
    "        return 'Not Specified'\n",
    "\n",
    "# Add new column 'Currency' by applying the function to 'Amount'\n",
    "df['Currency'] = [determine_currency(value) for value in df['Amount']]"
   ]
  },
  {
   "cell_type": "markdown",
   "metadata": {},
   "source": [
    "Before I go ahead to convert these conflicting currencies into one, I will go ahead have a look at how many rows were in dollars and how many were in Rupees so have an idea which currency to use."
   ]
  },
  {
   "cell_type": "code",
   "execution_count": 362,
   "metadata": {},
   "outputs": [
    {
     "data": {
      "text/plain": [
       "Currency\n",
       "Dollars          1446\n",
       "Not Specified    1266\n",
       "Rupees            144\n",
       "Name: count, dtype: int64"
      ]
     },
     "execution_count": 362,
     "metadata": {},
     "output_type": "execute_result"
    }
   ],
   "source": [
    "df['Currency'].value_counts()"
   ]
  },
  {
   "cell_type": "markdown",
   "metadata": {},
   "source": [
    "Looking at the output of the value counts for each currency, It is wise to assume a lot of the figures that doesn't have any currency should be in Dollars and convert every amount that is in Rupees to Dollars. Also if the value doesn.t have a currency, I assume it already in Dollars."
   ]
  },
  {
   "cell_type": "code",
   "execution_count": 363,
   "metadata": {},
   "outputs": [],
   "source": [
    "# The below function takes in an argument 'amt'\n",
    "\n",
    "def clean_amount(amt):\n",
    "    if (pd.isnull(amt)) or (amt in ['—', 'Seed', '$', 'Undisclosed', 'undisclosed']):\n",
    "        return np.nan\n",
    "    elif isinstance(amt, str):\n",
    "        if '$' in amt:\n",
    "            # Remove any non-numeric characters and return the numeric part\n",
    "            return ''.join(filter(str.isdigit, amt))\n",
    "        elif '₹' in amt:\n",
    "            # Convert to dollars with the appropriate exchange rate\n",
    "            return str(round(float(amt.replace('₹', '').replace(',', '')) / 68.41, 2))\n",
    "    try:\n",
    "        # Convert the value to a float and back to string then to string\n",
    "        return str(float(amt))\n",
    "    except ValueError:\n",
    "        return np.nan"
   ]
  },
  {
   "cell_type": "code",
   "execution_count": 364,
   "metadata": {},
   "outputs": [],
   "source": [
    "# Apply the function to amount\n",
    "df['new_amount'] = df['Amount'].apply(clean_amount)"
   ]
  },
  {
   "cell_type": "code",
   "execution_count": 365,
   "metadata": {},
   "outputs": [],
   "source": [
    "# Convert to numeric, forcing errors to NaN\n",
    "df['new_amount'] = pd.to_numeric(df['new_amount'], errors='coerce')\n"
   ]
  },
  {
   "cell_type": "code",
   "execution_count": 366,
   "metadata": {},
   "outputs": [
    {
     "data": {
      "text/plain": [
       "563"
      ]
     },
     "execution_count": 366,
     "metadata": {},
     "output_type": "execute_result"
    }
   ],
   "source": [
    "# check for empty values in the 'new_amount' column\n",
    "df['new_amount'].isna().sum()"
   ]
  },
  {
   "cell_type": "markdown",
   "metadata": {},
   "source": [
    "The highest total funding ever received by an indian startup is $16bn, received by Flipkart while the lowest funding received is estimated around $80,000, therefore I will filter my dataframe to capture numbers outside this range as outliers rather than using a statistical method.\n",
    "\n",
    "sources: \n",
    "\n",
    "- [Statista](https://www.statista.com/topics/5415/startup-funding-in-india/#editorsPicks)\n",
    "\n",
    "- [StartupTalky](https://startuptalky.com/top-unicorn-startups-india/)\n",
    "\n",
    "- [Entrackr](https://entrackr.com/2023/11/indian-startups-raised-over-1-2-bn-funding-in-october-entrackr-report/)\n",
    "\n",
    "- [Growthlist](https://growthlist.co/india-startups/)\n",
    "\n",
    "For the sake of change of figures with time, I will stretch this range by a billion"
   ]
  },
  {
   "cell_type": "code",
   "execution_count": 367,
   "metadata": {},
   "outputs": [
    {
     "data": {
      "text/html": [
       "<div>\n",
       "<style scoped>\n",
       "    .dataframe tbody tr th:only-of-type {\n",
       "        vertical-align: middle;\n",
       "    }\n",
       "\n",
       "    .dataframe tbody tr th {\n",
       "        vertical-align: top;\n",
       "    }\n",
       "\n",
       "    .dataframe thead th {\n",
       "        text-align: right;\n",
       "    }\n",
       "</style>\n",
       "<table border=\"1\" class=\"dataframe\">\n",
       "  <thead>\n",
       "    <tr style=\"text-align: right;\">\n",
       "      <th></th>\n",
       "      <th>Company_Brand</th>\n",
       "      <th>Founded</th>\n",
       "      <th>HeadQuarter</th>\n",
       "      <th>What_it_does</th>\n",
       "      <th>Investor</th>\n",
       "      <th>Amount</th>\n",
       "      <th>Stage</th>\n",
       "      <th>Year</th>\n",
       "      <th>Num_of_Investors</th>\n",
       "      <th>Num_of_Founders</th>\n",
       "      <th>Sector</th>\n",
       "      <th>Currency</th>\n",
       "      <th>new_amount</th>\n",
       "    </tr>\n",
       "  </thead>\n",
       "  <tbody>\n",
       "    <tr>\n",
       "      <th>93</th>\n",
       "      <td>GetWork</td>\n",
       "      <td>2019.00</td>\n",
       "      <td>Gurugram</td>\n",
       "      <td>GetWork is a campus recruiting platform to post your jobs and hire across dozens of colleges at once.</td>\n",
       "      <td>India Accelerator</td>\n",
       "      <td>40000.0</td>\n",
       "      <td>Pre-seed</td>\n",
       "      <td>2020</td>\n",
       "      <td>1.00</td>\n",
       "      <td>1.00</td>\n",
       "      <td>Technology</td>\n",
       "      <td>Not Specified</td>\n",
       "      <td>40000.00</td>\n",
       "    </tr>\n",
       "    <tr>\n",
       "      <th>280</th>\n",
       "      <td>Reliance Retail Ventures Ltd</td>\n",
       "      <td>2006.00</td>\n",
       "      <td>Mumbai</td>\n",
       "      <td>Reliance Retail offers online shopping and a chain of neighborhood stores, supermarkets, and wholesale/specialty stores.</td>\n",
       "      <td>Silver Lake, Mubadala Investment Company</td>\n",
       "      <td>70000000000.0</td>\n",
       "      <td>None</td>\n",
       "      <td>2020</td>\n",
       "      <td>2.00</td>\n",
       "      <td>1.00</td>\n",
       "      <td>Consumer Services</td>\n",
       "      <td>Not Specified</td>\n",
       "      <td>70000000000.00</td>\n",
       "    </tr>\n",
       "    <tr>\n",
       "      <th>353</th>\n",
       "      <td>Odwen</td>\n",
       "      <td>2018.00</td>\n",
       "      <td>Noida</td>\n",
       "      <td>India's first do-it-yourself warehouse management system.</td>\n",
       "      <td>Prospect Partners.</td>\n",
       "      <td>54000.0</td>\n",
       "      <td>None</td>\n",
       "      <td>2020</td>\n",
       "      <td>1.00</td>\n",
       "      <td>1.00</td>\n",
       "      <td>Other</td>\n",
       "      <td>Not Specified</td>\n",
       "      <td>54000.00</td>\n",
       "    </tr>\n",
       "    <tr>\n",
       "      <th>354</th>\n",
       "      <td>Fasal</td>\n",
       "      <td>2018.00</td>\n",
       "      <td>Bangalore</td>\n",
       "      <td>Captures real-time data on crop growth conditions using on-farm sensors and delivers advisories to farmers in Indian languages</td>\n",
       "      <td>Omnivore, Zeroth.AI</td>\n",
       "      <td>20000.0</td>\n",
       "      <td>None</td>\n",
       "      <td>2020</td>\n",
       "      <td>2.00</td>\n",
       "      <td>2.00</td>\n",
       "      <td>Technology</td>\n",
       "      <td>Not Specified</td>\n",
       "      <td>20000.00</td>\n",
       "    </tr>\n",
       "    <tr>\n",
       "      <th>475</th>\n",
       "      <td>Purple Style Labs</td>\n",
       "      <td>2015.00</td>\n",
       "      <td>Mumbai</td>\n",
       "      <td>Shopping experience and foster the growth of Indian brands and designers.</td>\n",
       "      <td>Jitendra Gupta, Astarc Ventures.</td>\n",
       "      <td>43000.0</td>\n",
       "      <td>None</td>\n",
       "      <td>2020</td>\n",
       "      <td>2.00</td>\n",
       "      <td>1.00</td>\n",
       "      <td>Lifestyle</td>\n",
       "      <td>Not Specified</td>\n",
       "      <td>43000.00</td>\n",
       "    </tr>\n",
       "    <tr>\n",
       "      <th>476</th>\n",
       "      <td>ProPhysio</td>\n",
       "      <td>2016.00</td>\n",
       "      <td>Bangalore</td>\n",
       "      <td>The largest provider of physiotherapy and rehabilitation services</td>\n",
       "      <td>Nestavera Ventures.</td>\n",
       "      <td>40900.0</td>\n",
       "      <td>None</td>\n",
       "      <td>2020</td>\n",
       "      <td>1.00</td>\n",
       "      <td>1.00</td>\n",
       "      <td>Healthcare</td>\n",
       "      <td>Not Specified</td>\n",
       "      <td>40900.00</td>\n",
       "    </tr>\n",
       "    <tr>\n",
       "      <th>477</th>\n",
       "      <td>Flickstree</td>\n",
       "      <td>2014.00</td>\n",
       "      <td>Mumbai</td>\n",
       "      <td>World's largest video publisher</td>\n",
       "      <td>MOX, Venture Catalysts</td>\n",
       "      <td>40900.0</td>\n",
       "      <td>None</td>\n",
       "      <td>2020</td>\n",
       "      <td>2.00</td>\n",
       "      <td>3.00</td>\n",
       "      <td>Technology</td>\n",
       "      <td>Not Specified</td>\n",
       "      <td>40900.00</td>\n",
       "    </tr>\n",
       "    <tr>\n",
       "      <th>941</th>\n",
       "      <td>Krimanshi</td>\n",
       "      <td>NaN</td>\n",
       "      <td>Jodhpur</td>\n",
       "      <td>Sustainable system to feed animals by valorizing food residues and surplus into highly nutritious feeds</td>\n",
       "      <td>Arunachal Pradesh Social Entrepreneurship Meet</td>\n",
       "      <td>20000.0</td>\n",
       "      <td>None</td>\n",
       "      <td>2020</td>\n",
       "      <td>1.00</td>\n",
       "      <td>1.00</td>\n",
       "      <td>Technology</td>\n",
       "      <td>Not Specified</td>\n",
       "      <td>20000.00</td>\n",
       "    </tr>\n",
       "    <tr>\n",
       "      <th>1000</th>\n",
       "      <td>Medicus</td>\n",
       "      <td>NaN</td>\n",
       "      <td>Mumbai</td>\n",
       "      <td>AI-based platform that explains and interprets blood tests and medical reports</td>\n",
       "      <td>Angel investors</td>\n",
       "      <td>12700.0</td>\n",
       "      <td>None</td>\n",
       "      <td>2020</td>\n",
       "      <td>1.00</td>\n",
       "      <td>2.00</td>\n",
       "      <td>Healthcare</td>\n",
       "      <td>Not Specified</td>\n",
       "      <td>12700.00</td>\n",
       "    </tr>\n",
       "    <tr>\n",
       "      <th>1001</th>\n",
       "      <td>Monech</td>\n",
       "      <td>NaN</td>\n",
       "      <td>Mumbai</td>\n",
       "      <td>Automated platform which will help users to take their financial decisions</td>\n",
       "      <td>Angel investors</td>\n",
       "      <td>12700.0</td>\n",
       "      <td>Seed Round</td>\n",
       "      <td>2020</td>\n",
       "      <td>1.00</td>\n",
       "      <td>NaN</td>\n",
       "      <td>FinTech</td>\n",
       "      <td>Not Specified</td>\n",
       "      <td>12700.00</td>\n",
       "    </tr>\n",
       "    <tr>\n",
       "      <th>1002</th>\n",
       "      <td>Teach Us</td>\n",
       "      <td>NaN</td>\n",
       "      <td>Chennai</td>\n",
       "      <td>Educational portal which enables the students to access information related to education at one common platform</td>\n",
       "      <td>Angel investors</td>\n",
       "      <td>12700.0</td>\n",
       "      <td>Seed Round</td>\n",
       "      <td>2020</td>\n",
       "      <td>1.00</td>\n",
       "      <td>NaN</td>\n",
       "      <td>Education</td>\n",
       "      <td>Not Specified</td>\n",
       "      <td>12700.00</td>\n",
       "    </tr>\n",
       "    <tr>\n",
       "      <th>1007</th>\n",
       "      <td>Karfa</td>\n",
       "      <td>NaN</td>\n",
       "      <td>Delhi</td>\n",
       "      <td>It sells products crafted by artisans</td>\n",
       "      <td>Undisclosed</td>\n",
       "      <td>25000.0</td>\n",
       "      <td>Seed Round</td>\n",
       "      <td>2020</td>\n",
       "      <td>1.00</td>\n",
       "      <td>1.00</td>\n",
       "      <td>E-Commerce</td>\n",
       "      <td>Not Specified</td>\n",
       "      <td>25000.00</td>\n",
       "    </tr>\n",
       "    <tr>\n",
       "      <th>1128</th>\n",
       "      <td>Alteria Capital</td>\n",
       "      <td>2018.00</td>\n",
       "      <td>Mumbai</td>\n",
       "      <td>Alteria Capital is a Venture debt firm .</td>\n",
       "      <td>Not Specified</td>\n",
       "      <td>$150,000,000,000</td>\n",
       "      <td>Debt</td>\n",
       "      <td>2021</td>\n",
       "      <td>NaN</td>\n",
       "      <td>1.00</td>\n",
       "      <td>FinTech</td>\n",
       "      <td>Dollars</td>\n",
       "      <td>150000000000.00</td>\n",
       "    </tr>\n",
       "    <tr>\n",
       "      <th>1363</th>\n",
       "      <td>Glii</td>\n",
       "      <td>2020.00</td>\n",
       "      <td>Noida</td>\n",
       "      <td>India’s finest dating companionship application</td>\n",
       "      <td>We Founder Circle</td>\n",
       "      <td>$$100,00</td>\n",
       "      <td>Seed</td>\n",
       "      <td>2021</td>\n",
       "      <td>1.00</td>\n",
       "      <td>1.00</td>\n",
       "      <td>Lifestyle</td>\n",
       "      <td>Dollars</td>\n",
       "      <td>10000.00</td>\n",
       "    </tr>\n",
       "    <tr>\n",
       "      <th>2283</th>\n",
       "      <td>Antariksh Waste Ventures Pvt ltd</td>\n",
       "      <td>NaN</td>\n",
       "      <td>Chennai</td>\n",
       "      <td>Waste Management for Smart Cities</td>\n",
       "      <td>Not Specified</td>\n",
       "      <td>₹500,000</td>\n",
       "      <td>Seed</td>\n",
       "      <td>2018</td>\n",
       "      <td>NaN</td>\n",
       "      <td>NaN</td>\n",
       "      <td>Technology</td>\n",
       "      <td>Rupees</td>\n",
       "      <td>7308.87</td>\n",
       "    </tr>\n",
       "    <tr>\n",
       "      <th>2313</th>\n",
       "      <td>Tolet for Students</td>\n",
       "      <td>NaN</td>\n",
       "      <td>Jodhpur</td>\n",
       "      <td>Reserve your Room, Hostel or Paying Guest, while relocating for higher education.</td>\n",
       "      <td>Not Specified</td>\n",
       "      <td>₹5,000,000</td>\n",
       "      <td>Seed</td>\n",
       "      <td>2018</td>\n",
       "      <td>NaN</td>\n",
       "      <td>NaN</td>\n",
       "      <td>Hospitality</td>\n",
       "      <td>Rupees</td>\n",
       "      <td>73088.73</td>\n",
       "    </tr>\n",
       "    <tr>\n",
       "      <th>2334</th>\n",
       "      <td>Ultraviolette Automotive</td>\n",
       "      <td>NaN</td>\n",
       "      <td>Bangalore</td>\n",
       "      <td>Ultraviolette is a startup working on electric two-wheelers and energy infrastructure.</td>\n",
       "      <td>Not Specified</td>\n",
       "      <td>₹60,000</td>\n",
       "      <td>Series A</td>\n",
       "      <td>2018</td>\n",
       "      <td>NaN</td>\n",
       "      <td>NaN</td>\n",
       "      <td>Energy</td>\n",
       "      <td>Rupees</td>\n",
       "      <td>877.06</td>\n",
       "    </tr>\n",
       "    <tr>\n",
       "      <th>2339</th>\n",
       "      <td>Wimoxez</td>\n",
       "      <td>NaN</td>\n",
       "      <td>Hyderabad</td>\n",
       "      <td>Data Intelligence Publishing Platform, We bring the best resources to learn valuable technologies which will shape tomorrow.</td>\n",
       "      <td>Not Specified</td>\n",
       "      <td>20000</td>\n",
       "      <td>Seed</td>\n",
       "      <td>2018</td>\n",
       "      <td>NaN</td>\n",
       "      <td>NaN</td>\n",
       "      <td>Technology</td>\n",
       "      <td>Dollars</td>\n",
       "      <td>20000.00</td>\n",
       "    </tr>\n",
       "    <tr>\n",
       "      <th>2359</th>\n",
       "      <td>AuthMetrik</td>\n",
       "      <td>NaN</td>\n",
       "      <td>Gurugram</td>\n",
       "      <td>SaaS, B2B, Security, Stop account sharing, Fraud Detection</td>\n",
       "      <td>Not Specified</td>\n",
       "      <td>$10,000</td>\n",
       "      <td>Grant</td>\n",
       "      <td>2018</td>\n",
       "      <td>NaN</td>\n",
       "      <td>NaN</td>\n",
       "      <td>E-Commerce</td>\n",
       "      <td>Dollars</td>\n",
       "      <td>10000.00</td>\n",
       "    </tr>\n",
       "    <tr>\n",
       "      <th>2362</th>\n",
       "      <td>Next Digital Solutions</td>\n",
       "      <td>NaN</td>\n",
       "      <td>Kota</td>\n",
       "      <td>Next Digital Solutions is website design &amp; Digital Marketing development company.</td>\n",
       "      <td>Not Specified</td>\n",
       "      <td>₹100,000</td>\n",
       "      <td>Angel</td>\n",
       "      <td>2018</td>\n",
       "      <td>NaN</td>\n",
       "      <td>NaN</td>\n",
       "      <td>Marketing</td>\n",
       "      <td>Rupees</td>\n",
       "      <td>1461.77</td>\n",
       "    </tr>\n",
       "    <tr>\n",
       "      <th>2418</th>\n",
       "      <td>Articbot</td>\n",
       "      <td>NaN</td>\n",
       "      <td>Kannur</td>\n",
       "      <td>Articbot is a conversational AI platform for automated customer support and lead generation</td>\n",
       "      <td>Not Specified</td>\n",
       "      <td>₹1,200,000</td>\n",
       "      <td>Grant</td>\n",
       "      <td>2018</td>\n",
       "      <td>NaN</td>\n",
       "      <td>NaN</td>\n",
       "      <td>Technology</td>\n",
       "      <td>Rupees</td>\n",
       "      <td>17541.30</td>\n",
       "    </tr>\n",
       "    <tr>\n",
       "      <th>2428</th>\n",
       "      <td>Classworks India</td>\n",
       "      <td>NaN</td>\n",
       "      <td>Chennai</td>\n",
       "      <td>Saas, Web App, Mobile App, School Education</td>\n",
       "      <td>Not Specified</td>\n",
       "      <td>₹100,000</td>\n",
       "      <td>Undisclosed</td>\n",
       "      <td>2018</td>\n",
       "      <td>NaN</td>\n",
       "      <td>NaN</td>\n",
       "      <td>Education</td>\n",
       "      <td>Rupees</td>\n",
       "      <td>1461.77</td>\n",
       "    </tr>\n",
       "    <tr>\n",
       "      <th>2430</th>\n",
       "      <td>artbandhu</td>\n",
       "      <td>NaN</td>\n",
       "      <td>Bangalore</td>\n",
       "      <td>Ai platform for Art and Creative Community</td>\n",
       "      <td>Not Specified</td>\n",
       "      <td>$15,000</td>\n",
       "      <td>Pre-Seed</td>\n",
       "      <td>2018</td>\n",
       "      <td>NaN</td>\n",
       "      <td>NaN</td>\n",
       "      <td>Media/Entertainment</td>\n",
       "      <td>Dollars</td>\n",
       "      <td>15000.00</td>\n",
       "    </tr>\n",
       "    <tr>\n",
       "      <th>2475</th>\n",
       "      <td>Chezuba</td>\n",
       "      <td>NaN</td>\n",
       "      <td>Hyderabad</td>\n",
       "      <td>Chezuba is a web-based platform enabling skilled professionals to volunteer online with Non-profits worldwide</td>\n",
       "      <td>Not Specified</td>\n",
       "      <td>₹1,400,000</td>\n",
       "      <td>Angel</td>\n",
       "      <td>2018</td>\n",
       "      <td>NaN</td>\n",
       "      <td>NaN</td>\n",
       "      <td>Technology</td>\n",
       "      <td>Rupees</td>\n",
       "      <td>20464.84</td>\n",
       "    </tr>\n",
       "    <tr>\n",
       "      <th>2486</th>\n",
       "      <td>Kuants</td>\n",
       "      <td>NaN</td>\n",
       "      <td>Gurugram</td>\n",
       "      <td>Algorithmic trading platform.</td>\n",
       "      <td>Not Specified</td>\n",
       "      <td>₹5,000,000</td>\n",
       "      <td>Seed</td>\n",
       "      <td>2018</td>\n",
       "      <td>NaN</td>\n",
       "      <td>NaN</td>\n",
       "      <td>Finance</td>\n",
       "      <td>Rupees</td>\n",
       "      <td>73088.73</td>\n",
       "    </tr>\n",
       "    <tr>\n",
       "      <th>2494</th>\n",
       "      <td>Flathalt</td>\n",
       "      <td>NaN</td>\n",
       "      <td>Gurugram</td>\n",
       "      <td>FInd your Customized Home here.</td>\n",
       "      <td>Not Specified</td>\n",
       "      <td>50000</td>\n",
       "      <td>Angel</td>\n",
       "      <td>2018</td>\n",
       "      <td>NaN</td>\n",
       "      <td>NaN</td>\n",
       "      <td>Other</td>\n",
       "      <td>Dollars</td>\n",
       "      <td>50000.00</td>\n",
       "    </tr>\n",
       "    <tr>\n",
       "      <th>2522</th>\n",
       "      <td>ENLYFT DIGITAL SOLUTIONS PRIVATE LIMITED</td>\n",
       "      <td>NaN</td>\n",
       "      <td>Pune</td>\n",
       "      <td>Digital Marketing Agency</td>\n",
       "      <td>Not Specified</td>\n",
       "      <td>₹200,000</td>\n",
       "      <td>Seed</td>\n",
       "      <td>2018</td>\n",
       "      <td>NaN</td>\n",
       "      <td>NaN</td>\n",
       "      <td>Other</td>\n",
       "      <td>Rupees</td>\n",
       "      <td>2923.55</td>\n",
       "    </tr>\n",
       "    <tr>\n",
       "      <th>2539</th>\n",
       "      <td>Pixr8</td>\n",
       "      <td>NaN</td>\n",
       "      <td>Ghaziabad</td>\n",
       "      <td>Pixr8 is a global media platform dedicated to Start-ups and business organisations for promoting entrepreneurship work.</td>\n",
       "      <td>Not Specified</td>\n",
       "      <td>50000</td>\n",
       "      <td>Seed</td>\n",
       "      <td>2018</td>\n",
       "      <td>NaN</td>\n",
       "      <td>NaN</td>\n",
       "      <td>Media/Entertainment</td>\n",
       "      <td>Dollars</td>\n",
       "      <td>50000.00</td>\n",
       "    </tr>\n",
       "    <tr>\n",
       "      <th>2632</th>\n",
       "      <td>Idha Skin Clinic</td>\n",
       "      <td>NaN</td>\n",
       "      <td>Bangalore</td>\n",
       "      <td>Idha skin clinic jayanagar is dedicated to restore health and natural beauty to your skin.</td>\n",
       "      <td>Not Specified</td>\n",
       "      <td>₹5,000,000</td>\n",
       "      <td>Seed</td>\n",
       "      <td>2018</td>\n",
       "      <td>NaN</td>\n",
       "      <td>NaN</td>\n",
       "      <td>Automotive</td>\n",
       "      <td>Rupees</td>\n",
       "      <td>73088.73</td>\n",
       "    </tr>\n",
       "    <tr>\n",
       "      <th>2667</th>\n",
       "      <td>Vizzbee</td>\n",
       "      <td>NaN</td>\n",
       "      <td>Bhopal</td>\n",
       "      <td>Autonomous Drone Solutions for last mile delivery as well as search and rescue</td>\n",
       "      <td>Not Specified</td>\n",
       "      <td>$20,000</td>\n",
       "      <td>Pre-Seed</td>\n",
       "      <td>2018</td>\n",
       "      <td>NaN</td>\n",
       "      <td>NaN</td>\n",
       "      <td>Consumer Services</td>\n",
       "      <td>Dollars</td>\n",
       "      <td>20000.00</td>\n",
       "    </tr>\n",
       "    <tr>\n",
       "      <th>2670</th>\n",
       "      <td>Traveo Soft Pvt. Ltd.</td>\n",
       "      <td>NaN</td>\n",
       "      <td>Bangalore</td>\n",
       "      <td>AI based Business Travel &amp; Expense management</td>\n",
       "      <td>Not Specified</td>\n",
       "      <td>₹1,200,000</td>\n",
       "      <td>Undisclosed</td>\n",
       "      <td>2018</td>\n",
       "      <td>NaN</td>\n",
       "      <td>NaN</td>\n",
       "      <td>Logistics</td>\n",
       "      <td>Rupees</td>\n",
       "      <td>17541.30</td>\n",
       "    </tr>\n",
       "    <tr>\n",
       "      <th>2681</th>\n",
       "      <td>Jetbrain Robotics</td>\n",
       "      <td>NaN</td>\n",
       "      <td>Gurugram</td>\n",
       "      <td>Jetbrain Robotics is Hong Kong / Gurgaon based company, building advanced robotic transportation solutions for multi speciality hospitals.</td>\n",
       "      <td>Not Specified</td>\n",
       "      <td>70000</td>\n",
       "      <td>Seed</td>\n",
       "      <td>2018</td>\n",
       "      <td>NaN</td>\n",
       "      <td>NaN</td>\n",
       "      <td>Automotive</td>\n",
       "      <td>Dollars</td>\n",
       "      <td>70000.00</td>\n",
       "    </tr>\n",
       "    <tr>\n",
       "      <th>2753</th>\n",
       "      <td>GoGaga</td>\n",
       "      <td>NaN</td>\n",
       "      <td>Bangalore</td>\n",
       "      <td>GoGaga is a new age dating app that has removed the mindless swiping on strangers and connects users through their network and find matches.</td>\n",
       "      <td>Not Specified</td>\n",
       "      <td>40000</td>\n",
       "      <td>Non-equity Assistance</td>\n",
       "      <td>2018</td>\n",
       "      <td>NaN</td>\n",
       "      <td>NaN</td>\n",
       "      <td>Lifestyle</td>\n",
       "      <td>Dollars</td>\n",
       "      <td>40000.00</td>\n",
       "    </tr>\n",
       "    <tr>\n",
       "      <th>2787</th>\n",
       "      <td>Mombay</td>\n",
       "      <td>NaN</td>\n",
       "      <td>Mumbai</td>\n",
       "      <td>Mombay is a unique opportunity for housewives to start household food business and avail everyone with their homemade healthy dishes.</td>\n",
       "      <td>Not Specified</td>\n",
       "      <td>7500</td>\n",
       "      <td>Seed</td>\n",
       "      <td>2018</td>\n",
       "      <td>NaN</td>\n",
       "      <td>NaN</td>\n",
       "      <td>Consumables</td>\n",
       "      <td>Dollars</td>\n",
       "      <td>7500.00</td>\n",
       "    </tr>\n",
       "  </tbody>\n",
       "</table>\n",
       "</div>"
      ],
      "text/plain": [
       "                                 Company_Brand  Founded HeadQuarter  \\\n",
       "93                                     GetWork  2019.00    Gurugram   \n",
       "280               Reliance Retail Ventures Ltd  2006.00      Mumbai   \n",
       "353                                      Odwen  2018.00       Noida   \n",
       "354                                      Fasal  2018.00   Bangalore   \n",
       "475                          Purple Style Labs  2015.00      Mumbai   \n",
       "476                                  ProPhysio  2016.00   Bangalore   \n",
       "477                                 Flickstree  2014.00      Mumbai   \n",
       "941                                  Krimanshi      NaN     Jodhpur   \n",
       "1000                                   Medicus      NaN      Mumbai   \n",
       "1001                                    Monech      NaN      Mumbai   \n",
       "1002                                  Teach Us      NaN     Chennai   \n",
       "1007                                     Karfa      NaN       Delhi   \n",
       "1128                           Alteria Capital  2018.00      Mumbai   \n",
       "1363                                      Glii  2020.00       Noida   \n",
       "2283          Antariksh Waste Ventures Pvt ltd      NaN     Chennai   \n",
       "2313                        Tolet for Students      NaN     Jodhpur   \n",
       "2334                  Ultraviolette Automotive      NaN   Bangalore   \n",
       "2339                                   Wimoxez      NaN   Hyderabad   \n",
       "2359                                AuthMetrik      NaN    Gurugram   \n",
       "2362                    Next Digital Solutions      NaN        Kota   \n",
       "2418                                  Articbot      NaN      Kannur   \n",
       "2428                          Classworks India      NaN     Chennai   \n",
       "2430                                 artbandhu      NaN   Bangalore   \n",
       "2475                                   Chezuba      NaN   Hyderabad   \n",
       "2486                                    Kuants      NaN    Gurugram   \n",
       "2494                                  Flathalt      NaN    Gurugram   \n",
       "2522  ENLYFT DIGITAL SOLUTIONS PRIVATE LIMITED      NaN        Pune   \n",
       "2539                                     Pixr8      NaN   Ghaziabad   \n",
       "2632                          Idha Skin Clinic      NaN   Bangalore   \n",
       "2667                                   Vizzbee      NaN      Bhopal   \n",
       "2670                     Traveo Soft Pvt. Ltd.      NaN   Bangalore   \n",
       "2681                         Jetbrain Robotics      NaN    Gurugram   \n",
       "2753                                    GoGaga      NaN   Bangalore   \n",
       "2787                                    Mombay      NaN      Mumbai   \n",
       "\n",
       "                                                                                                                                      What_it_does  \\\n",
       "93                                           GetWork is a campus recruiting platform to post your jobs and hire across dozens of colleges at once.   \n",
       "280                       Reliance Retail offers online shopping and a chain of neighborhood stores, supermarkets, and wholesale/specialty stores.   \n",
       "353                                                                                      India's first do-it-yourself warehouse management system.   \n",
       "354                 Captures real-time data on crop growth conditions using on-farm sensors and delivers advisories to farmers in Indian languages   \n",
       "475                                                                      Shopping experience and foster the growth of Indian brands and designers.   \n",
       "476                                                                              The largest provider of physiotherapy and rehabilitation services   \n",
       "477                                                                                                                World's largest video publisher   \n",
       "941                                        Sustainable system to feed animals by valorizing food residues and surplus into highly nutritious feeds   \n",
       "1000                                                                AI-based platform that explains and interprets blood tests and medical reports   \n",
       "1001                                                                    Automated platform which will help users to take their financial decisions   \n",
       "1002                               Educational portal which enables the students to access information related to education at one common platform   \n",
       "1007                                                                                                         It sells products crafted by artisans   \n",
       "1128                                                                                                      Alteria Capital is a Venture debt firm .   \n",
       "1363                                                                                               India’s finest dating companionship application   \n",
       "2283                                                                                                             Waste Management for Smart Cities   \n",
       "2313                                                             Reserve your Room, Hostel or Paying Guest, while relocating for higher education.   \n",
       "2334                                                        Ultraviolette is a startup working on electric two-wheelers and energy infrastructure.   \n",
       "2339                  Data Intelligence Publishing Platform, We bring the best resources to learn valuable technologies which will shape tomorrow.   \n",
       "2359                                                                                    SaaS, B2B, Security, Stop account sharing, Fraud Detection   \n",
       "2362                                                             Next Digital Solutions is website design & Digital Marketing development company.   \n",
       "2418                                                   Articbot is a conversational AI platform for automated customer support and lead generation   \n",
       "2428                                                                                                   Saas, Web App, Mobile App, School Education   \n",
       "2430                                                                                                    Ai platform for Art and Creative Community   \n",
       "2475                                 Chezuba is a web-based platform enabling skilled professionals to volunteer online with Non-profits worldwide   \n",
       "2486                                                                                                                 Algorithmic trading platform.   \n",
       "2494                                                                                                               FInd your Customized Home here.   \n",
       "2522                                                                                                                      Digital Marketing Agency   \n",
       "2539                       Pixr8 is a global media platform dedicated to Start-ups and business organisations for promoting entrepreneurship work.   \n",
       "2632                                                    Idha skin clinic jayanagar is dedicated to restore health and natural beauty to your skin.   \n",
       "2667                                                                Autonomous Drone Solutions for last mile delivery as well as search and rescue   \n",
       "2670                                                                                                 AI based Business Travel & Expense management   \n",
       "2681    Jetbrain Robotics is Hong Kong / Gurgaon based company, building advanced robotic transportation solutions for multi speciality hospitals.   \n",
       "2753  GoGaga is a new age dating app that has removed the mindless swiping on strangers and connects users through their network and find matches.   \n",
       "2787         Mombay is a unique opportunity for housewives to start household food business and avail everyone with their homemade healthy dishes.   \n",
       "\n",
       "                                            Investor            Amount  \\\n",
       "93                                 India Accelerator           40000.0   \n",
       "280         Silver Lake, Mubadala Investment Company     70000000000.0   \n",
       "353                               Prospect Partners.           54000.0   \n",
       "354                              Omnivore, Zeroth.AI           20000.0   \n",
       "475                 Jitendra Gupta, Astarc Ventures.           43000.0   \n",
       "476                              Nestavera Ventures.           40900.0   \n",
       "477                           MOX, Venture Catalysts           40900.0   \n",
       "941   Arunachal Pradesh Social Entrepreneurship Meet           20000.0   \n",
       "1000                                 Angel investors           12700.0   \n",
       "1001                                 Angel investors           12700.0   \n",
       "1002                                 Angel investors           12700.0   \n",
       "1007                                     Undisclosed           25000.0   \n",
       "1128                                   Not Specified  $150,000,000,000   \n",
       "1363                               We Founder Circle          $$100,00   \n",
       "2283                                   Not Specified          ₹500,000   \n",
       "2313                                   Not Specified        ₹5,000,000   \n",
       "2334                                   Not Specified           ₹60,000   \n",
       "2339                                   Not Specified             20000   \n",
       "2359                                   Not Specified           $10,000   \n",
       "2362                                   Not Specified          ₹100,000   \n",
       "2418                                   Not Specified        ₹1,200,000   \n",
       "2428                                   Not Specified          ₹100,000   \n",
       "2430                                   Not Specified           $15,000   \n",
       "2475                                   Not Specified        ₹1,400,000   \n",
       "2486                                   Not Specified        ₹5,000,000   \n",
       "2494                                   Not Specified             50000   \n",
       "2522                                   Not Specified          ₹200,000   \n",
       "2539                                   Not Specified             50000   \n",
       "2632                                   Not Specified        ₹5,000,000   \n",
       "2667                                   Not Specified           $20,000   \n",
       "2670                                   Not Specified        ₹1,200,000   \n",
       "2681                                   Not Specified             70000   \n",
       "2753                                   Not Specified             40000   \n",
       "2787                                   Not Specified              7500   \n",
       "\n",
       "                      Stage  Year  Num_of_Investors  Num_of_Founders  \\\n",
       "93                 Pre-seed  2020              1.00             1.00   \n",
       "280                    None  2020              2.00             1.00   \n",
       "353                    None  2020              1.00             1.00   \n",
       "354                    None  2020              2.00             2.00   \n",
       "475                    None  2020              2.00             1.00   \n",
       "476                    None  2020              1.00             1.00   \n",
       "477                    None  2020              2.00             3.00   \n",
       "941                    None  2020              1.00             1.00   \n",
       "1000                   None  2020              1.00             2.00   \n",
       "1001             Seed Round  2020              1.00              NaN   \n",
       "1002             Seed Round  2020              1.00              NaN   \n",
       "1007             Seed Round  2020              1.00             1.00   \n",
       "1128                   Debt  2021               NaN             1.00   \n",
       "1363                   Seed  2021              1.00             1.00   \n",
       "2283                   Seed  2018               NaN              NaN   \n",
       "2313                   Seed  2018               NaN              NaN   \n",
       "2334               Series A  2018               NaN              NaN   \n",
       "2339                   Seed  2018               NaN              NaN   \n",
       "2359                  Grant  2018               NaN              NaN   \n",
       "2362                  Angel  2018               NaN              NaN   \n",
       "2418                  Grant  2018               NaN              NaN   \n",
       "2428            Undisclosed  2018               NaN              NaN   \n",
       "2430               Pre-Seed  2018               NaN              NaN   \n",
       "2475                  Angel  2018               NaN              NaN   \n",
       "2486                   Seed  2018               NaN              NaN   \n",
       "2494                  Angel  2018               NaN              NaN   \n",
       "2522                   Seed  2018               NaN              NaN   \n",
       "2539                   Seed  2018               NaN              NaN   \n",
       "2632                   Seed  2018               NaN              NaN   \n",
       "2667               Pre-Seed  2018               NaN              NaN   \n",
       "2670            Undisclosed  2018               NaN              NaN   \n",
       "2681                   Seed  2018               NaN              NaN   \n",
       "2753  Non-equity Assistance  2018               NaN              NaN   \n",
       "2787                   Seed  2018               NaN              NaN   \n",
       "\n",
       "                   Sector       Currency      new_amount  \n",
       "93             Technology  Not Specified        40000.00  \n",
       "280     Consumer Services  Not Specified  70000000000.00  \n",
       "353                 Other  Not Specified        54000.00  \n",
       "354            Technology  Not Specified        20000.00  \n",
       "475             Lifestyle  Not Specified        43000.00  \n",
       "476            Healthcare  Not Specified        40900.00  \n",
       "477            Technology  Not Specified        40900.00  \n",
       "941            Technology  Not Specified        20000.00  \n",
       "1000           Healthcare  Not Specified        12700.00  \n",
       "1001              FinTech  Not Specified        12700.00  \n",
       "1002            Education  Not Specified        12700.00  \n",
       "1007           E-Commerce  Not Specified        25000.00  \n",
       "1128              FinTech        Dollars 150000000000.00  \n",
       "1363            Lifestyle        Dollars        10000.00  \n",
       "2283           Technology         Rupees         7308.87  \n",
       "2313          Hospitality         Rupees        73088.73  \n",
       "2334               Energy         Rupees          877.06  \n",
       "2339           Technology        Dollars        20000.00  \n",
       "2359           E-Commerce        Dollars        10000.00  \n",
       "2362            Marketing         Rupees         1461.77  \n",
       "2418           Technology         Rupees        17541.30  \n",
       "2428            Education         Rupees         1461.77  \n",
       "2430  Media/Entertainment        Dollars        15000.00  \n",
       "2475           Technology         Rupees        20464.84  \n",
       "2486              Finance         Rupees        73088.73  \n",
       "2494                Other        Dollars        50000.00  \n",
       "2522                Other         Rupees         2923.55  \n",
       "2539  Media/Entertainment        Dollars        50000.00  \n",
       "2632           Automotive         Rupees        73088.73  \n",
       "2667    Consumer Services        Dollars        20000.00  \n",
       "2670            Logistics         Rupees        17541.30  \n",
       "2681           Automotive        Dollars        70000.00  \n",
       "2753            Lifestyle        Dollars        40000.00  \n",
       "2787          Consumables        Dollars         7500.00  "
      ]
     },
     "execution_count": 367,
     "metadata": {},
     "output_type": "execute_result"
    }
   ],
   "source": [
    "\n",
    "filtered_df = df.loc[(df['new_amount'] > 17000000000) | (df['new_amount'] < 80000)]\n",
    "filtered_df"
   ]
  },
  {
   "cell_type": "code",
   "execution_count": 368,
   "metadata": {},
   "outputs": [],
   "source": [
    "# drop them from the dataframe\n",
    "df = df.drop(filtered_df.index)"
   ]
  },
  {
   "cell_type": "code",
   "execution_count": 369,
   "metadata": {},
   "outputs": [
    {
     "data": {
      "text/plain": [
       "563"
      ]
     },
     "execution_count": 369,
     "metadata": {},
     "output_type": "execute_result"
    }
   ],
   "source": [
    "df['new_amount'].isna().sum()"
   ]
  },
  {
   "cell_type": "markdown",
   "metadata": {},
   "source": [
    "Before I go ahead and impute the missing values, I must check the distribution and boxplot of the 'new_amount' column for outliers and choose the appropriate central tendency value to impute with"
   ]
  },
  {
   "cell_type": "code",
   "execution_count": 370,
   "metadata": {},
   "outputs": [
    {
     "data": {
      "image/png": "[encoded data removed]",
      "text/plain": [
       "<Figure size 1200x600 with 2 Axes>"
      ]
     },
     "metadata": {},
     "output_type": "display_data"
    }
   ],
   "source": [
    "# Create a figure and axis objects\n",
    "fig, axes = plt.subplots(1, 2, figsize=(12, 6))\n",
    "\n",
    "# Plot a box plot on the first axis\n",
    "sns.boxplot(data=np.log1p(df['new_amount']), ax=axes[0])\n",
    "axes[0].set_title('Box Plot of Amount')\n",
    "\n",
    "# Plot a histogram on the second axis\n",
    "sns.histplot(data=np.log1p(df['new_amount']), bins=20, ax=axes[1], kde=True)  # kde=True adds a kernel density estimate line\n",
    "axes[1].set_title('Histogram of Amount')\n",
    "\n",
    "# Adjust layout\n",
    "plt.tight_layout()\n",
    "\n",
    "# show plot\n",
    "plt.show()"
   ]
  },
  {
   "cell_type": "markdown",
   "metadata": {},
   "source": [
    "As seen from the box plot, there are outliers in the 'new_amount' column that the histogram plot doesn't really show. The histogram shows a normal distribution therefore, for the purpose of getting an outcome that is closer to the real figures and metrics from the indian startups ecosystem, I will impute with the mean of the funding amount for their respective years."
   ]
  },
  {
   "cell_type": "code",
   "execution_count": 371,
   "metadata": {},
   "outputs": [],
   "source": [
    "# function to impute the missing values with mean amounts of their respective years\n",
    "def fill_with_year_mean(df, year_col='Year', amount_col='new_amount'):\n",
    "        # Group by year and calculate the mean amount\n",
    "    year_mean = df.groupby(year_col)[amount_col].mean()\n",
    "\n",
    "    # Iterate through rows\n",
    "    for index, row in df.iterrows():\n",
    "        if pd.isnull(row[amount_col]):\n",
    "            year = row[year_col]\n",
    "            if year in year_mean.index:\n",
    "                df.at[index, amount_col] = year_mean[year]\n",
    "\n",
    "    return df[amount_col]\n"
   ]
  },
  {
   "cell_type": "code",
   "execution_count": 372,
   "metadata": {},
   "outputs": [],
   "source": [
    "df['new_amount'] = fill_with_year_mean(df)"
   ]
  },
  {
   "cell_type": "markdown",
   "metadata": {},
   "source": [
    "#### Cleaning the 'Stage' column"
   ]
  },
  {
   "cell_type": "code",
   "execution_count": 373,
   "metadata": {},
   "outputs": [
    {
     "data": {
      "text/plain": [
       "array([None, 'Pre-seed', 'Seed', 'Pre-series A', 'Pre-series', 'Series C',\n",
       "       'Series A', 'Series B', 'Debt', 'Pre-series C', 'Pre-series B',\n",
       "       'Series E', 'Bridge', 'Series D', 'Series B2', 'Series F',\n",
       "       'Pre- series A', 'Edge', 'Series H', 'Pre-Series B', 'Seed A',\n",
       "       'Series A-1', 'Seed Funding', 'Pre-Seed', 'Seed round',\n",
       "       'Pre-seed Round', 'Seed Round & Series A', 'Pre Series A',\n",
       "       'Pre seed Round', 'Angel Round', 'Pre series A1', 'Series E2',\n",
       "       'Pre series A', 'Seed Round', 'Bridge Round', 'Pre seed round',\n",
       "       'Pre series B', 'Pre series C', 'Seed Investment', 'Series D1',\n",
       "       'Mid series', 'Series C, D', 'Seed funding', '$1200000', 'Seed+',\n",
       "       'Series F2', 'Series A+', 'Series G', 'Series B3', 'PE',\n",
       "       'Series F1', 'Pre-series A1', '$300000', 'Early seed', '$6000000',\n",
       "       '$1000000', 'Seies A', 'Series A2', 'Series I', 'Angel',\n",
       "       'Private Equity', 'Venture - Series Unknown', 'Debt Financing',\n",
       "       'Post-IPO Debt', 'Grant', 'Corporate Round',\n",
       "       'https://docs.google.com/spreadsheets/d/1x9ziNeaz6auNChIHnMI8U6kS7knTr3byy_YBGfQaoUA/edit#gid=1861303593',\n",
       "       'Secondary Market', 'Post-IPO Equity', 'Funding Round', nan,\n",
       "       'Fresh funding', 'Post series A', 'Seed fund', 'Series B+'],\n",
       "      dtype=object)"
      ]
     },
     "execution_count": 373,
     "metadata": {},
     "output_type": "execute_result"
    }
   ],
   "source": [
    "df['Stage'].unique()"
   ]
  },
  {
   "cell_type": "markdown",
   "metadata": {},
   "source": [
    "As seen there a lot of invalid values that need to be taken care of\n",
    "\n",
    "- Invalid stages\n",
    "- url links as entries\n",
    "- missing values"
   ]
  },
  {
   "cell_type": "code",
   "execution_count": 374,
   "metadata": {},
   "outputs": [],
   "source": [
    "# list of valid development stages of start-ups\n",
    "valid_stages = ['Venture - Series Unknown','Seed', 'Angel', 'Series A', 'Series B', 'Pre-Seed', 'Grant', 'Series H', \n",
    "                'Series A', 'Series C', 'Series E', 'Corporate Round','Series D','Debt financing','Post-IPO Equity']\n",
    "\n",
    "# if the value in 'Stage' is not one of the values in the valid_stages list, return null value for that row\n",
    "df.loc[~df['Stage'].isin(valid_stages), 'Stage'] = np.nan"
   ]
  },
  {
   "cell_type": "code",
   "execution_count": 375,
   "metadata": {},
   "outputs": [
    {
     "data": {
      "text/plain": [
       "1510"
      ]
     },
     "execution_count": 375,
     "metadata": {},
     "output_type": "execute_result"
    }
   ],
   "source": [
    "# Number of missing values in the 'Stage' column\n",
    "df['Stage'].isna().sum()"
   ]
  },
  {
   "cell_type": "code",
   "execution_count": 376,
   "metadata": {},
   "outputs": [],
   "source": [
    "# fill in randomly from the list of 10 most occuring values\n",
    "df['Stage'] = most_occuring_and_fill(df['Stage'])"
   ]
  },
  {
   "cell_type": "code",
   "execution_count": 377,
   "metadata": {},
   "outputs": [
    {
     "data": {
      "text/html": [
       "<div>\n",
       "<style scoped>\n",
       "    .dataframe tbody tr th:only-of-type {\n",
       "        vertical-align: middle;\n",
       "    }\n",
       "\n",
       "    .dataframe tbody tr th {\n",
       "        vertical-align: top;\n",
       "    }\n",
       "\n",
       "    .dataframe thead th {\n",
       "        text-align: right;\n",
       "    }\n",
       "</style>\n",
       "<table border=\"1\" class=\"dataframe\">\n",
       "  <thead>\n",
       "    <tr style=\"text-align: right;\">\n",
       "      <th></th>\n",
       "      <th>Company_Brand</th>\n",
       "      <th>Founded</th>\n",
       "      <th>HeadQuarter</th>\n",
       "      <th>What_it_does</th>\n",
       "      <th>Investor</th>\n",
       "      <th>Amount</th>\n",
       "      <th>Stage</th>\n",
       "      <th>Year</th>\n",
       "      <th>Num_of_Investors</th>\n",
       "      <th>Num_of_Founders</th>\n",
       "      <th>Sector</th>\n",
       "      <th>Currency</th>\n",
       "      <th>new_amount</th>\n",
       "    </tr>\n",
       "  </thead>\n",
       "  <tbody>\n",
       "    <tr>\n",
       "      <th>0</th>\n",
       "      <td>Aqgromalin</td>\n",
       "      <td>2019.00</td>\n",
       "      <td>Chennai</td>\n",
       "      <td>Cultivating Ideas for Profit</td>\n",
       "      <td>Angel investors</td>\n",
       "      <td>200000.0</td>\n",
       "      <td>Series B</td>\n",
       "      <td>2020</td>\n",
       "      <td>1.00</td>\n",
       "      <td>2.00</td>\n",
       "      <td>Technology</td>\n",
       "      <td>Not Specified</td>\n",
       "      <td>200000.00</td>\n",
       "    </tr>\n",
       "    <tr>\n",
       "      <th>1</th>\n",
       "      <td>Krayonnz</td>\n",
       "      <td>2019.00</td>\n",
       "      <td>Bangalore</td>\n",
       "      <td>An academy-guardian-scholar centric ecosystem which provides state of the art technological solutions.</td>\n",
       "      <td>GSF Accelerator</td>\n",
       "      <td>100000.0</td>\n",
       "      <td>Pre-Seed</td>\n",
       "      <td>2020</td>\n",
       "      <td>1.00</td>\n",
       "      <td>2.00</td>\n",
       "      <td>Education</td>\n",
       "      <td>Not Specified</td>\n",
       "      <td>100000.00</td>\n",
       "    </tr>\n",
       "    <tr>\n",
       "      <th>2</th>\n",
       "      <td>PadCare Labs</td>\n",
       "      <td>2018.00</td>\n",
       "      <td>Pune</td>\n",
       "      <td>Converting bio-hazardous waste to harmless waste</td>\n",
       "      <td>Venture Center</td>\n",
       "      <td>nan</td>\n",
       "      <td>Series B</td>\n",
       "      <td>2020</td>\n",
       "      <td>1.00</td>\n",
       "      <td>1.00</td>\n",
       "      <td>Healthcare</td>\n",
       "      <td>Not Specified</td>\n",
       "      <td>25472041.56</td>\n",
       "    </tr>\n",
       "    <tr>\n",
       "      <th>3</th>\n",
       "      <td>NCOME</td>\n",
       "      <td>2020.00</td>\n",
       "      <td>Delhi</td>\n",
       "      <td>Escrow-as-a-service platform</td>\n",
       "      <td>Venture Catalysts, PointOne Capital</td>\n",
       "      <td>400000.0</td>\n",
       "      <td>Seed</td>\n",
       "      <td>2020</td>\n",
       "      <td>2.00</td>\n",
       "      <td>1.00</td>\n",
       "      <td>Finance</td>\n",
       "      <td>Not Specified</td>\n",
       "      <td>400000.00</td>\n",
       "    </tr>\n",
       "    <tr>\n",
       "      <th>4</th>\n",
       "      <td>Gramophone</td>\n",
       "      <td>2016.00</td>\n",
       "      <td>Indore</td>\n",
       "      <td>Gramophone is an AgTech platform enabling access to agri inputs and powering efficient farm management.</td>\n",
       "      <td>Siana Capital Management, Info Edge</td>\n",
       "      <td>340000.0</td>\n",
       "      <td>Angel</td>\n",
       "      <td>2020</td>\n",
       "      <td>2.00</td>\n",
       "      <td>4.00</td>\n",
       "      <td>Technology</td>\n",
       "      <td>Not Specified</td>\n",
       "      <td>340000.00</td>\n",
       "    </tr>\n",
       "  </tbody>\n",
       "</table>\n",
       "</div>"
      ],
      "text/plain": [
       "  Company_Brand  Founded HeadQuarter  \\\n",
       "0    Aqgromalin  2019.00     Chennai   \n",
       "1      Krayonnz  2019.00   Bangalore   \n",
       "2  PadCare Labs  2018.00        Pune   \n",
       "3         NCOME  2020.00       Delhi   \n",
       "4    Gramophone  2016.00      Indore   \n",
       "\n",
       "                                                                                              What_it_does  \\\n",
       "0                                                                             Cultivating Ideas for Profit   \n",
       "1   An academy-guardian-scholar centric ecosystem which provides state of the art technological solutions.   \n",
       "2                                                         Converting bio-hazardous waste to harmless waste   \n",
       "3                                                                             Escrow-as-a-service platform   \n",
       "4  Gramophone is an AgTech platform enabling access to agri inputs and powering efficient farm management.   \n",
       "\n",
       "                              Investor    Amount     Stage  Year  \\\n",
       "0                      Angel investors  200000.0  Series B  2020   \n",
       "1                      GSF Accelerator  100000.0  Pre-Seed  2020   \n",
       "2                       Venture Center       nan  Series B  2020   \n",
       "3  Venture Catalysts, PointOne Capital  400000.0      Seed  2020   \n",
       "4  Siana Capital Management, Info Edge  340000.0     Angel  2020   \n",
       "\n",
       "   Num_of_Investors  Num_of_Founders      Sector       Currency  new_amount  \n",
       "0              1.00             2.00  Technology  Not Specified   200000.00  \n",
       "1              1.00             2.00   Education  Not Specified   100000.00  \n",
       "2              1.00             1.00  Healthcare  Not Specified 25472041.56  \n",
       "3              2.00             1.00     Finance  Not Specified   400000.00  \n",
       "4              2.00             4.00  Technology  Not Specified   340000.00  "
      ]
     },
     "execution_count": 377,
     "metadata": {},
     "output_type": "execute_result"
    }
   ],
   "source": [
    "df.head()"
   ]
  },
  {
   "cell_type": "code",
   "execution_count": 378,
   "metadata": {},
   "outputs": [
    {
     "data": {
      "text/plain": [
       "Company_Brand         0\n",
       "Founded             743\n",
       "HeadQuarter           0\n",
       "What_it_does          0\n",
       "Investor              0\n",
       "Amount                0\n",
       "Stage                 0\n",
       "Year                  0\n",
       "Num_of_Investors    603\n",
       "Num_of_Founders     522\n",
       "Sector                0\n",
       "Currency              0\n",
       "new_amount            0\n",
       "dtype: int64"
      ]
     },
     "execution_count": 378,
     "metadata": {},
     "output_type": "execute_result"
    }
   ],
   "source": [
    "df.isna().sum()"
   ]
  },
  {
   "cell_type": "markdown",
   "metadata": {},
   "source": [
    "#### Cleaning the 'Founded' Column"
   ]
  },
  {
   "cell_type": "code",
   "execution_count": 379,
   "metadata": {},
   "outputs": [
    {
     "data": {
      "text/plain": [
       "array([2019., 2018., 2020., 2016., 2008., 2015., 2017., 2014., 1998.,\n",
       "       2007., 2011., 1982., 2013., 2009., 2012., 1995., 2010., 2006.,\n",
       "       1978.,   nan, 1999., 1994., 2005., 1973., 2002., 2004., 2001.,\n",
       "       2021., 1993., 1989., 2000., 2003., 1991., 1984., 1963.])"
      ]
     },
     "execution_count": 379,
     "metadata": {},
     "output_type": "execute_result"
    }
   ],
   "source": [
    "df['Founded'].unique()"
   ]
  },
  {
   "cell_type": "code",
   "execution_count": 380,
   "metadata": {},
   "outputs": [
    {
     "data": {
      "image/png": "[encoded data removed]",
      "text/plain": [
       "<Figure size 640x480 with 1 Axes>"
      ]
     },
     "metadata": {},
     "output_type": "display_data"
    }
   ],
   "source": [
    "sns.histplot(df['Founded'])\n",
    "plt.show()"
   ]
  },
  {
   "cell_type": "code",
   "execution_count": 381,
   "metadata": {},
   "outputs": [],
   "source": [
    "# Will treat this as a categorical column and rather fill in with the mode\n",
    "df['Founded'].fillna(df['Founded'].mode()[0], inplace=True)"
   ]
  },
  {
   "cell_type": "markdown",
   "metadata": {},
   "source": [
    "#### Cleaning 'Num_of_Investors' Column"
   ]
  },
  {
   "cell_type": "markdown",
   "metadata": {},
   "source": [
    "This is one of the columns added to the original dataset. Due to the missing values in the column used to create this new column, there are some missing values that need to be filled in, but before I will have a look at the distribution of this column."
   ]
  },
  {
   "cell_type": "code",
   "execution_count": 382,
   "metadata": {},
   "outputs": [
    {
     "data": {
      "image/png": "[encoded data removed]",
      "text/plain": [
       "<Figure size 640x480 with 1 Axes>"
      ]
     },
     "metadata": {},
     "output_type": "display_data"
    }
   ],
   "source": [
    "# Plotting the distribution of this column\n",
    "sns.histplot(df['Num_of_Investors'], bins=5, kde=True)\n",
    "plt.title('Distribution of Number of Investors')\n",
    "plt.xlabel('Number of investors')\n",
    "plt.show()"
   ]
  },
  {
   "cell_type": "markdown",
   "metadata": {},
   "source": [
    "Due to it's skewness, it is advisable to use a central tendency value which is immune to skewness and outliers."
   ]
  },
  {
   "cell_type": "code",
   "execution_count": 383,
   "metadata": {},
   "outputs": [],
   "source": [
    "# impute with the median\n",
    "df['Num_of_Investors'].fillna(df['Num_of_Investors'].median(), inplace=True)"
   ]
  },
  {
   "cell_type": "code",
   "execution_count": 384,
   "metadata": {},
   "outputs": [
    {
     "data": {
      "text/plain": [
       "False"
      ]
     },
     "execution_count": 384,
     "metadata": {},
     "output_type": "execute_result"
    }
   ],
   "source": [
    "# recheck for any missing values\n",
    "df['Num_of_Investors'].isna().any()"
   ]
  },
  {
   "cell_type": "code",
   "execution_count": 385,
   "metadata": {},
   "outputs": [],
   "source": [
    "# convert column to integer data type\n",
    "df['Num_of_Investors'] = df['Num_of_Investors'].astype(int)"
   ]
  },
  {
   "cell_type": "markdown",
   "metadata": {},
   "source": [
    "#### Cleaning 'Num_of_Founders' Column"
   ]
  },
  {
   "cell_type": "markdown",
   "metadata": {},
   "source": [
    "I will go ahead and do same like I did for the previous one"
   ]
  },
  {
   "cell_type": "code",
   "execution_count": 386,
   "metadata": {},
   "outputs": [
    {
     "data": {
      "image/png": "[encoded data removed]",
      "text/plain": [
       "<Figure size 640x480 with 1 Axes>"
      ]
     },
     "metadata": {},
     "output_type": "display_data"
    }
   ],
   "source": [
    "# Plotting the distribution of this column\n",
    "sns.histplot(df['Num_of_Founders'], bins=5, kde=True)\n",
    "plt.title('Distribution of Number of Founders')\n",
    "plt.xlabel('Number of Founders')\n",
    "plt.show()"
   ]
  },
  {
   "cell_type": "code",
   "execution_count": 387,
   "metadata": {},
   "outputs": [],
   "source": [
    "# impute with the median\n",
    "df['Num_of_Founders'].fillna(df['Num_of_Founders'].median(), inplace=True)"
   ]
  },
  {
   "cell_type": "code",
   "execution_count": 388,
   "metadata": {},
   "outputs": [],
   "source": [
    "# convert column to integer data type\n",
    "df['Num_of_Founders'] = df['Num_of_Founders'].astype(int)"
   ]
  },
  {
   "cell_type": "markdown",
   "metadata": {},
   "source": []
  },
  {
   "cell_type": "markdown",
   "metadata": {},
   "source": []
  },
  {
   "cell_type": "code",
   "execution_count": 389,
   "metadata": {},
   "outputs": [
    {
     "data": {
      "text/html": [
       "<div>\n",
       "<style scoped>\n",
       "    .dataframe tbody tr th:only-of-type {\n",
       "        vertical-align: middle;\n",
       "    }\n",
       "\n",
       "    .dataframe tbody tr th {\n",
       "        vertical-align: top;\n",
       "    }\n",
       "\n",
       "    .dataframe thead th {\n",
       "        text-align: right;\n",
       "    }\n",
       "</style>\n",
       "<table border=\"1\" class=\"dataframe\">\n",
       "  <thead>\n",
       "    <tr style=\"text-align: right;\">\n",
       "      <th></th>\n",
       "      <th>Founded</th>\n",
       "      <th>Year</th>\n",
       "      <th>Num_of_Investors</th>\n",
       "      <th>Num_of_Founders</th>\n",
       "      <th>new_amount</th>\n",
       "    </tr>\n",
       "  </thead>\n",
       "  <tbody>\n",
       "    <tr>\n",
       "      <th>count</th>\n",
       "      <td>2822.00</td>\n",
       "      <td>2822.00</td>\n",
       "      <td>2822.00</td>\n",
       "      <td>2822.00</td>\n",
       "      <td>2822.00</td>\n",
       "    </tr>\n",
       "    <tr>\n",
       "      <th>mean</th>\n",
       "      <td>2016.84</td>\n",
       "      <td>2020.03</td>\n",
       "      <td>1.78</td>\n",
       "      <td>1.95</td>\n",
       "      <td>26076349.49</td>\n",
       "    </tr>\n",
       "    <tr>\n",
       "      <th>std</th>\n",
       "      <td>3.97</td>\n",
       "      <td>1.08</td>\n",
       "      <td>0.83</td>\n",
       "      <td>0.86</td>\n",
       "      <td>97130536.06</td>\n",
       "    </tr>\n",
       "    <tr>\n",
       "      <th>min</th>\n",
       "      <td>1963.00</td>\n",
       "      <td>2018.00</td>\n",
       "      <td>1.00</td>\n",
       "      <td>1.00</td>\n",
       "      <td>100000.00</td>\n",
       "    </tr>\n",
       "    <tr>\n",
       "      <th>25%</th>\n",
       "      <td>2015.00</td>\n",
       "      <td>2020.00</td>\n",
       "      <td>1.00</td>\n",
       "      <td>1.00</td>\n",
       "      <td>1043250.00</td>\n",
       "    </tr>\n",
       "    <tr>\n",
       "      <th>50%</th>\n",
       "      <td>2018.00</td>\n",
       "      <td>2020.00</td>\n",
       "      <td>2.00</td>\n",
       "      <td>2.00</td>\n",
       "      <td>5500000.00</td>\n",
       "    </tr>\n",
       "    <tr>\n",
       "      <th>75%</th>\n",
       "      <td>2019.00</td>\n",
       "      <td>2021.00</td>\n",
       "      <td>2.00</td>\n",
       "      <td>2.00</td>\n",
       "      <td>25472041.56</td>\n",
       "    </tr>\n",
       "    <tr>\n",
       "      <th>max</th>\n",
       "      <td>2021.00</td>\n",
       "      <td>2021.00</td>\n",
       "      <td>8.00</td>\n",
       "      <td>8.00</td>\n",
       "      <td>3000000000.00</td>\n",
       "    </tr>\n",
       "  </tbody>\n",
       "</table>\n",
       "</div>"
      ],
      "text/plain": [
       "       Founded    Year  Num_of_Investors  Num_of_Founders    new_amount\n",
       "count  2822.00 2822.00           2822.00          2822.00       2822.00\n",
       "mean   2016.84 2020.03              1.78             1.95   26076349.49\n",
       "std       3.97    1.08              0.83             0.86   97130536.06\n",
       "min    1963.00 2018.00              1.00             1.00     100000.00\n",
       "25%    2015.00 2020.00              1.00             1.00    1043250.00\n",
       "50%    2018.00 2020.00              2.00             2.00    5500000.00\n",
       "75%    2019.00 2021.00              2.00             2.00   25472041.56\n",
       "max    2021.00 2021.00              8.00             8.00 3000000000.00"
      ]
     },
     "execution_count": 389,
     "metadata": {},
     "output_type": "execute_result"
    }
   ],
   "source": [
    "# Summary Statistics\n",
    "df.describe()"
   ]
  },
  {
   "cell_type": "code",
   "execution_count": 390,
   "metadata": {},
   "outputs": [
    {
     "data": {
      "text/html": [
       "<div>\n",
       "<style scoped>\n",
       "    .dataframe tbody tr th:only-of-type {\n",
       "        vertical-align: middle;\n",
       "    }\n",
       "\n",
       "    .dataframe tbody tr th {\n",
       "        vertical-align: top;\n",
       "    }\n",
       "\n",
       "    .dataframe thead th {\n",
       "        text-align: right;\n",
       "    }\n",
       "</style>\n",
       "<table border=\"1\" class=\"dataframe\">\n",
       "  <thead>\n",
       "    <tr style=\"text-align: right;\">\n",
       "      <th></th>\n",
       "      <th>Num_of_Founders</th>\n",
       "      <th>Num_of_Investors</th>\n",
       "      <th>new_amount</th>\n",
       "    </tr>\n",
       "  </thead>\n",
       "  <tbody>\n",
       "    <tr>\n",
       "      <th>Num_of_Founders</th>\n",
       "      <td>1.00</td>\n",
       "      <td>0.09</td>\n",
       "      <td>0.01</td>\n",
       "    </tr>\n",
       "    <tr>\n",
       "      <th>Num_of_Investors</th>\n",
       "      <td>0.09</td>\n",
       "      <td>1.00</td>\n",
       "      <td>0.05</td>\n",
       "    </tr>\n",
       "    <tr>\n",
       "      <th>new_amount</th>\n",
       "      <td>0.01</td>\n",
       "      <td>0.05</td>\n",
       "      <td>1.00</td>\n",
       "    </tr>\n",
       "  </tbody>\n",
       "</table>\n",
       "</div>"
      ],
      "text/plain": [
       "                  Num_of_Founders  Num_of_Investors  new_amount\n",
       "Num_of_Founders              1.00              0.09        0.01\n",
       "Num_of_Investors             0.09              1.00        0.05\n",
       "new_amount                   0.01              0.05        1.00"
      ]
     },
     "execution_count": 390,
     "metadata": {},
     "output_type": "execute_result"
    }
   ],
   "source": [
    "# Checking for correlation coefficients between the Numerical columns\n",
    "num_columns = ['Num_of_Founders', 'Num_of_Investors', 'new_amount']\n",
    "df[num_columns].corr()"
   ]
  },
  {
   "cell_type": "code",
   "execution_count": 391,
   "metadata": {},
   "outputs": [
    {
     "data": {
      "text/plain": [
       "HeadQuarter\n",
       "Bangalore    928\n",
       "Mumbai       469\n",
       "Delhi        329\n",
       "Gurugram     328\n",
       "Pune         120\n",
       "Chennai      114\n",
       "Noida         92\n",
       "Hyderabad     86\n",
       "Haryana       40\n",
       "Ahmedabad     38\n",
       "Name: count, dtype: int64"
      ]
     },
     "execution_count": 391,
     "metadata": {},
     "output_type": "execute_result"
    }
   ],
   "source": [
    "# Number of Startups by location (Top 10)\n",
    "\n",
    "location_count = df['HeadQuarter'].value_counts().sort_values(ascending=False)[:10]\n",
    "location_count"
   ]
  },
  {
   "cell_type": "code",
   "execution_count": 392,
   "metadata": {},
   "outputs": [
    {
     "data": {
      "image/png": "[encoded data removed]",
      "text/plain": [
       "<Figure size 640x480 with 1 Axes>"
      ]
     },
     "metadata": {},
     "output_type": "display_data"
    }
   ],
   "source": [
    "# Plotting location count \n",
    "sns.countplot(data=df, y='HeadQuarter', order=location_count.index, palette='Set1')\n",
    "plt.title('Top 10 HQ Locations by count of startups')\n",
    "plt.show()"
   ]
  },
  {
   "cell_type": "code",
   "execution_count": 393,
   "metadata": {},
   "outputs": [
    {
     "data": {
      "text/plain": [
       "Sector\n",
       "Technology           548\n",
       "FinTech              293\n",
       "Education            260\n",
       "Automotive           241\n",
       "Other                236\n",
       "Finance              152\n",
       "E-Commerce           150\n",
       "Consumables          144\n",
       "Logistics            132\n",
       "Consumer Services    110\n",
       "Name: count, dtype: int64"
      ]
     },
     "execution_count": 393,
     "metadata": {},
     "output_type": "execute_result"
    }
   ],
   "source": [
    "# Number of Startups by Sectors (Top 10)\n",
    "sectors_count = df['Sector'].value_counts().sort_values(ascending=False)[:10]\n",
    "sectors_count"
   ]
  },
  {
   "cell_type": "code",
   "execution_count": 394,
   "metadata": {},
   "outputs": [
    {
     "data": {
      "image/png": "[encoded data removed]",
      "text/plain": [
       "<Figure size 640x480 with 1 Axes>"
      ]
     },
     "metadata": {},
     "output_type": "display_data"
    }
   ],
   "source": [
    "# Plotting sector count \n",
    "sns.countplot(data=df, y='Sector', order=sectors_count.index, palette='Set1')\n",
    "plt.title('Top 10 Sectors by count of startups')\n",
    "plt.show()"
   ]
  },
  {
   "cell_type": "code",
   "execution_count": 395,
   "metadata": {},
   "outputs": [
    {
     "data": {
      "text/plain": [
       "Stage\n",
       "Seed                        756\n",
       "Series A                    452\n",
       "Series B                    281\n",
       "Series C                    251\n",
       "Corporate Round             198\n",
       "Series D                    198\n",
       "Venture - Series Unknown    190\n",
       "Series E                    176\n",
       "Angel                       175\n",
       "Pre-Seed                    136\n",
       "Name: count, dtype: int64"
      ]
     },
     "execution_count": 395,
     "metadata": {},
     "output_type": "execute_result"
    }
   ],
   "source": [
    "# Number of Startups by Sectors (Top 10)\n",
    "stages_count = df['Stage'].value_counts().sort_values(ascending=False)[:10]\n",
    "stages_count"
   ]
  },
  {
   "cell_type": "code",
   "execution_count": 396,
   "metadata": {},
   "outputs": [
    {
     "data": {
      "image/png": "[encoded data removed]",
      "text/plain": [
       "<Figure size 640x480 with 1 Axes>"
      ]
     },
     "metadata": {},
     "output_type": "display_data"
    }
   ],
   "source": [
    "# Plotting stages count \n",
    "sns.countplot(data=df, y='Stage', order=stages_count.index, palette='Set1')\n",
    "plt.title('Top 10 Stages by count of startups')\n",
    "plt.show()"
   ]
  },
  {
   "cell_type": "code",
   "execution_count": 397,
   "metadata": {},
   "outputs": [
    {
     "data": {
      "image/png": "[encoded data removed]",
      "text/plain": [
       "<Figure size 640x480 with 1 Axes>"
      ]
     },
     "metadata": {},
     "output_type": "display_data"
    }
   ],
   "source": [
    "# Relationship between Number of founders and funding amount\n",
    "# Create scatter plot\n",
    "plt.scatter(df['Num_of_Founders'], df['new_amount'])\n",
    "plt.yscale('log')\n",
    "plt.title('Correlation Between Number of Founders and Funding Amount for Indian Startups')\n",
    "plt.xlabel('Number of Founders')\n",
    "plt.ylabel('Funding Amount')\n",
    "plt.show()\n",
    "\n"
   ]
  },
  {
   "cell_type": "markdown",
   "metadata": {},
   "source": [
    "## Data Analysis\n",
    "\n",
    "In this section of the project, I will test my Hypothesis and go ahead to answer the business questions asked, which will also be visualized for better communication."
   ]
  },
  {
   "cell_type": "markdown",
   "metadata": {},
   "source": [
    "### Hypothesis Testing\n",
    "\n",
    "Hypothesis testing is a statistical method used to make inferences about population parameters based on sample data. It involves the formulation of null and alternative hypotheses, the calculation of a test statistic from the sample data, and the comparison of the test statistic to a critical value or p-value to a significance level to make a decision.\n",
    "\n",
    "Since I have stated 3 hypothesis for this project, I will be testing each hypothesis using the appropriate method.\n",
    "\n"
   ]
  },
  {
   "cell_type": "markdown",
   "metadata": {},
   "source": [
    "#### Hypothesis 1: Startups headquartered in major metropolitan areas of India likely to receive higher funding amounts than other areas\n",
    "\n",
    "Null Hypothesis (H0) : the funding amount between the two regions (metropolitan areas and other areas) doesn't vary significantly.\n",
    "\n",
    "Alternate Hypothesis (H0) : the funding amount between the two regions (metropolitan areas and other areas) vary significantly.\n",
    "\n"
   ]
  },
  {
   "cell_type": "markdown",
   "metadata": {},
   "source": []
  },
  {
   "cell_type": "markdown",
   "metadata": {},
   "source": [
    "But before I go ahead to test this hypothesis, I'll go ahead and look at the distribution, just to get a hint or an idea of what I might be expecting"
   ]
  },
  {
   "cell_type": "code",
   "execution_count": 398,
   "metadata": {},
   "outputs": [],
   "source": [
    "# Separate the data into two groups: major metropolitan areas and other areas\n",
    "metropolitan = df[df['HeadQuarter'].isin(['Mumbai', 'Bangalore', 'Delhi'])]['new_amount']\n",
    "other_areas = df[~df['HeadQuarter'].isin(['Mumbai', 'Bangalore', 'Delhi'])]['new_amount']\n"
   ]
  },
  {
   "cell_type": "code",
   "execution_count": 399,
   "metadata": {},
   "outputs": [],
   "source": [
    "# convert to pandas dataframe so as to access the 'new_amount' column for histogram plot\n",
    "metro = pd.DataFrame(metropolitan)\n",
    "other = pd.DataFrame(other_areas)"
   ]
  },
  {
   "cell_type": "code",
   "execution_count": 400,
   "metadata": {},
   "outputs": [
    {
     "data": {
      "image/png": "[encoded data removed]",
      "text/plain": [
       "<Figure size 640x480 with 1 Axes>"
      ]
     },
     "metadata": {},
     "output_type": "display_data"
    }
   ],
   "source": [
    "# Create the histograms\n",
    "sns.histplot(np.log1p(metro['new_amount']), color='blue', label='Metro', kde=True, bins=20)\n",
    "sns.histplot(np.log1p(other['new_amount']), color='orange', label='Other', kde=True, bins= 20)\n",
    "\n",
    "# Add a legend\n",
    "plt.legend()\n",
    "\n",
    "# Add labels and title\n",
    "plt.xlabel('Amount')\n",
    "plt.ylabel('Frequency')\n",
    "plt.title('Histograms of Metropolitan Areas and Other Areas')\n",
    "\n",
    "# Show the plot\n",
    "plt.show()"
   ]
  },
  {
   "cell_type": "code",
   "execution_count": 401,
   "metadata": {},
   "outputs": [
    {
     "name": "stdout",
     "output_type": "stream",
     "text": [
      "Hypothesis Testing Using the Independent sample t-test\n",
      "-----------------------------------------------------\n",
      "T-statistic: 1.30\n",
      "P-value: 0.19\n",
      "Failed to reject the null hypothesis\n"
     ]
    }
   ],
   "source": [
    "\n",
    "# Perform the t-test\n",
    "t_statistic, p_value = stats.ttest_ind(metropolitan, other_areas)\n",
    "\n",
    "\n",
    "print('Hypothesis Testing Using the Independent sample t-test\\n-----------------------------------------------------')\n",
    "\n",
    "# Print the results\n",
    "print(f\"T-statistic: {t_statistic:.2f}\")\n",
    "print(f\"P-value: {p_value:.2f}\")\n",
    "\n",
    "# Interpret the results\n",
    "alpha = 0.05\n",
    "if p_value < alpha:\n",
    "    print(\"Reject the null hypothesis\")\n",
    "else:\n",
    "    print(\"Failed to reject the null hypothesis\")"
   ]
  },
  {
   "cell_type": "markdown",
   "metadata": {},
   "source": [
    "Therefore, at a significance level of 5%, there is enough evidence to conclude that the funding amount between metropolitan areas and other regions doesn't really vary significantly."
   ]
  },
  {
   "cell_type": "markdown",
   "metadata": {},
   "source": [
    "#### Hypothesis 2: Startups with multiple investors are likely to receive higher amounts of funding.\n",
    "\n",
    "Null hypothesis(H0): There is no strong positive correlation between the number of investors and the funding amount.\n",
    "\n",
    "Alternate hypothesis(H0): There is a strong positive correlation between the number of investors and the funding amount."
   ]
  },
  {
   "cell_type": "code",
   "execution_count": 402,
   "metadata": {},
   "outputs": [
    {
     "data": {
      "image/png": "[encoded data removed]",
      "text/plain": [
       "<Figure size 640x480 with 1 Axes>"
      ]
     },
     "metadata": {},
     "output_type": "display_data"
    }
   ],
   "source": [
    "# Relationship between Number of Investors and funding amount\n",
    "sns.scatterplot(x = df['Num_of_Investors'], y = df['new_amount'])\n",
    "plt.yscale('log')\n",
    "plt.title('Relationship Between Number of Investors and Funding Amount for Indian Startups')\n",
    "plt.xlabel('Number of Investors')\n",
    "plt.ylabel('Funding Amount')\n",
    "plt.show()"
   ]
  },
  {
   "cell_type": "markdown",
   "metadata": {},
   "source": [
    "Looking at the scatter plot, the pattern doesn't really show any strong relationship whether positive or negative between number of investors and funding amount. I will go ahead and test my hypothesis to make decision "
   ]
  },
  {
   "cell_type": "code",
   "execution_count": 403,
   "metadata": {},
   "outputs": [
    {
     "name": "stdout",
     "output_type": "stream",
     "text": [
      "Hypothesis Testing Using the Pearson's Correlation test\n",
      "--------------------------------------------------------\n",
      "Pearson correlation coefficient: 0.047844389942548755\n",
      "P-value: 0.011023806558262407\n",
      "Reject null hypothesis and conclude that there is a significant linear relationship between the variables.\n"
     ]
    }
   ],
   "source": [
    "# Define variables\n",
    "x = df['Num_of_Investors']\n",
    "y = df['new_amount']\n",
    "\n",
    "# Calculate Pearson correlation coefficient and p-value\n",
    "correlation_coefficient, p_value = stats.pearsonr(x, y)\n",
    "\n",
    "print(\"Hypothesis Testing Using the Pearson's Correlation test\\n--------------------------------------------------------\")\n",
    "\n",
    "# Print results\n",
    "print(f\"Pearson correlation coefficient: {correlation_coefficient}\")\n",
    "print(f\"P-value: {p_value}\")\n",
    "\n",
    "# Interpret results\n",
    "alpha = 0.05\n",
    "if p_value < alpha:\n",
    "    print(\"Reject null hypothesis and conclude that there is a significant linear relationship between the variables.\")\n",
    "else:\n",
    "    print(\"Fail to reject null hypothesis and conclude that there is no significant linear relationship between the variables.\")"
   ]
  },
  {
   "cell_type": "markdown",
   "metadata": {},
   "source": [
    "Therefore, at a 5% significant level, there is enough evidence to conclude that there is significant linear relationship between the number of investors and the funding amount though it is a weak relationship."
   ]
  },
  {
   "cell_type": "markdown",
   "metadata": {},
   "source": [
    "#### Hypothesis 3: Funding amounts vary significantly across sectors.\n",
    "\n",
    "Null Hypothesis(H0): The average funding amount across regions are equal.\n",
    "\n",
    "Alternate Hypothesis(H0): The average funding amount across regions are not equal (At least, one differs from the others)."
   ]
  },
  {
   "cell_type": "code",
   "execution_count": 404,
   "metadata": {},
   "outputs": [
    {
     "name": "stdout",
     "output_type": "stream",
     "text": [
      "Hypothesis Testing Using the ANOVA test\n",
      "-----------------------------------------------\n",
      "                           sum_sq      df    F  PR(>F)\n",
      "C(Sector)   147972806030663520.00   20.00 0.78    0.74\n",
      "Residual  26466303253964812288.00 2801.00  NaN     NaN\n",
      "Fail to reject null hypothesis and conclude that the average funding amounts doesn't significantly differ across sectors.\n"
     ]
    }
   ],
   "source": [
    "import statsmodels.api as sm\n",
    "from statsmodels.formula.api import ols\n",
    "\n",
    "# Fit the model\n",
    "model = ols('new_amount ~ C(Sector)', data=df).fit()\n",
    "anova_table = sm.stats.anova_lm(model, typ=2)\n",
    "\n",
    "\n",
    "print('Hypothesis Testing Using the ANOVA test\\n-----------------------------------------------')\n",
    "# Print ANOVA table\n",
    "print(anova_table)\n",
    "\n",
    "# Interpret results\n",
    "p_value = anova_table['PR(>F)'][0]\n",
    "alpha = 0.05\n",
    "if p_value < alpha:\n",
    "    print(\"Reject null hypothesis and conclude that the average funding amounts vary across sectors.\")\n",
    "else:\n",
    "    print(\"Fail to reject null hypothesis and conclude that the average funding amounts doesn't significantly differ across sectors.\")"
   ]
  },
  {
   "cell_type": "markdown",
   "metadata": {},
   "source": [
    "Therefore, at a significance level of 5%, there is enough evidence to conclude that the funding amount across different sectors doesn't vary significantly."
   ]
  },
  {
   "cell_type": "markdown",
   "metadata": {},
   "source": [
    "#### Answering Business Questions\n",
    "\n",
    "In this section, I am going to be answering some of the business questions that were asked at the beginning of the project.\n",
    "\n",
    "\n",
    "1. what is the overall trend in funding amounts over the specified time period? \n",
    "   - Total and average funding amounts over the years?\n",
    "\n",
    "2. Which year had the most investors?\n",
    "\n",
    "3. Which startups received the highest funding amount for each year?\n",
    "   - Which sectors are those companies from?\n",
    "   - What does these companies do?\n",
    "\n",
    "4. What are the top 5 and bottom 5 start-ups according to funding amount and Which sectors are they from?\n",
    "\n",
    "5. What are the top 5 and bottom 5 sectors by Total Funding amount received?\n",
    "\n",
    "6. Top 10 HQ locations by average funding amounts.\n",
    "   \n",
    "7. What is the number of funding deals per HQ locations?\n",
    "\n",
    "8. What is the average amount of funds received by startups at different stages?\n",
    "\n",
    "9. What is the average number of founders per startup?\n",
    "    - Show a distribution plot of the number of founders."
   ]
  },
  {
   "cell_type": "markdown",
   "metadata": {},
   "source": []
  },
  {
   "cell_type": "markdown",
   "metadata": {},
   "source": [
    "1. what is the overall trend in funding amounts over the specified time period? \n",
    "   - Total and average funding amounts over the years?"
   ]
  },
  {
   "cell_type": "code",
   "execution_count": 405,
   "metadata": {},
   "outputs": [],
   "source": [
    "# Set display options to avoid scientific notation\n",
    "pd.set_option('display.float_format', '{:.2f}'.format)"
   ]
  },
  {
   "cell_type": "code",
   "execution_count": 406,
   "metadata": {},
   "outputs": [
    {
     "data": {
      "text/html": [
       "<div>\n",
       "<style scoped>\n",
       "    .dataframe tbody tr th:only-of-type {\n",
       "        vertical-align: middle;\n",
       "    }\n",
       "\n",
       "    .dataframe tbody tr th {\n",
       "        vertical-align: top;\n",
       "    }\n",
       "\n",
       "    .dataframe thead th {\n",
       "        text-align: right;\n",
       "    }\n",
       "</style>\n",
       "<table border=\"1\" class=\"dataframe\">\n",
       "  <thead>\n",
       "    <tr style=\"text-align: right;\">\n",
       "      <th></th>\n",
       "      <th>Year</th>\n",
       "      <th>new_amount</th>\n",
       "    </tr>\n",
       "  </thead>\n",
       "  <tbody>\n",
       "    <tr>\n",
       "      <th>0</th>\n",
       "      <td>2018</td>\n",
       "      <td>9396197375.33</td>\n",
       "    </tr>\n",
       "    <tr>\n",
       "      <th>1</th>\n",
       "      <td>2019</td>\n",
       "      <td>3856396815.58</td>\n",
       "    </tr>\n",
       "    <tr>\n",
       "      <th>2</th>\n",
       "      <td>2020</td>\n",
       "      <td>26490923217.48</td>\n",
       "    </tr>\n",
       "    <tr>\n",
       "      <th>3</th>\n",
       "      <td>2021</td>\n",
       "      <td>33843940855.49</td>\n",
       "    </tr>\n",
       "  </tbody>\n",
       "</table>\n",
       "</div>"
      ],
      "text/plain": [
       "   Year     new_amount\n",
       "0  2018  9396197375.33\n",
       "1  2019  3856396815.58\n",
       "2  2020 26490923217.48\n",
       "3  2021 33843940855.49"
      ]
     },
     "execution_count": 406,
     "metadata": {},
     "output_type": "execute_result"
    }
   ],
   "source": [
    "# calculating total amount across different years\n",
    "total_amt_per_year = df.groupby('Year')['new_amount'].sum().reset_index()\n",
    "total_amt_per_year"
   ]
  },
  {
   "cell_type": "code",
   "execution_count": 407,
   "metadata": {},
   "outputs": [
    {
     "data": {
      "text/html": [
       "<div>\n",
       "<style scoped>\n",
       "    .dataframe tbody tr th:only-of-type {\n",
       "        vertical-align: middle;\n",
       "    }\n",
       "\n",
       "    .dataframe tbody tr th {\n",
       "        vertical-align: top;\n",
       "    }\n",
       "\n",
       "    .dataframe thead th {\n",
       "        text-align: right;\n",
       "    }\n",
       "</style>\n",
       "<table border=\"1\" class=\"dataframe\">\n",
       "  <thead>\n",
       "    <tr style=\"text-align: right;\">\n",
       "      <th></th>\n",
       "      <th>Year</th>\n",
       "      <th>new_amount</th>\n",
       "    </tr>\n",
       "  </thead>\n",
       "  <tbody>\n",
       "    <tr>\n",
       "      <th>0</th>\n",
       "      <td>2018</td>\n",
       "      <td>18606331.44</td>\n",
       "    </tr>\n",
       "    <tr>\n",
       "      <th>1</th>\n",
       "      <td>2019</td>\n",
       "      <td>43330301.30</td>\n",
       "    </tr>\n",
       "    <tr>\n",
       "      <th>2</th>\n",
       "      <td>2020</td>\n",
       "      <td>25472041.56</td>\n",
       "    </tr>\n",
       "    <tr>\n",
       "      <th>3</th>\n",
       "      <td>2021</td>\n",
       "      <td>28488165.70</td>\n",
       "    </tr>\n",
       "  </tbody>\n",
       "</table>\n",
       "</div>"
      ],
      "text/plain": [
       "   Year  new_amount\n",
       "0  2018 18606331.44\n",
       "1  2019 43330301.30\n",
       "2  2020 25472041.56\n",
       "3  2021 28488165.70"
      ]
     },
     "execution_count": 407,
     "metadata": {},
     "output_type": "execute_result"
    }
   ],
   "source": [
    "avg_amt_per_year = df.groupby('Year')['new_amount'].mean().reset_index()\n",
    "avg_amt_per_year"
   ]
  },
  {
   "cell_type": "code",
   "execution_count": 408,
   "metadata": {},
   "outputs": [
    {
     "data": {
      "image/png": "[encoded data removed]",
      "text/plain": [
       "<Figure size 1200x600 with 1 Axes>"
      ]
     },
     "metadata": {},
     "output_type": "display_data"
    }
   ],
   "source": [
    "# Bar plot for total amount\n",
    "plt.figure(figsize=(12, 6))\n",
    "bar_plot = sns.barplot(x='Year', y='new_amount', data=total_amt_per_year, color='b', alpha=0.6)\n",
    "\n",
    "#Add values on top of bar graph\n",
    "for p in bar_plot.patches:\n",
    "    bar_plot.annotate('{:,.0f}'.format(p.get_height()),  # Format the value with thousand comma separator\n",
    "                      (p.get_x() + p.get_width() / 2., p.get_height()),\n",
    "                      ha='center', va='center',\n",
    "                      xytext=(0, 9), textcoords='offset points')\n",
    "\n",
    "plt.title('Total Funding received each years')\n",
    "plt.xlabel('Year')\n",
    "plt.ylabel('Total Funding')\n",
    "plt.show()\n"
   ]
  },
  {
   "cell_type": "markdown",
   "metadata": {},
   "source": [
    "As seen in the diagram, 2021 comes in first as the year with the highest total funding amount with $34bn while 2019 is the year with the lowest total funding amount with $3.9bn"
   ]
  },
  {
   "cell_type": "code",
   "execution_count": 409,
   "metadata": {},
   "outputs": [
    {
     "data": {
      "image/png": "[encoded data removed]",
      "text/plain": [
       "<Figure size 1200x600 with 1 Axes>"
      ]
     },
     "metadata": {},
     "output_type": "display_data"
    }
   ],
   "source": [
    "\n",
    "# lineplot of Median funding across years\n",
    "plt.figure(figsize=(12, 6))\n",
    "sns.lineplot(x='Year', y='new_amount', data=avg_amt_per_year, color='r', marker='o')\n",
    "# Set custom x-axis ticks (only whole years)\n",
    "plt.xticks(avg_amt_per_year['Year'])\n",
    "\n",
    "plt.title('Average Funding across years')\n",
    "plt.xlabel('Year')\n",
    "plt.ylabel('Average Funding')\n",
    "plt.show()\n"
   ]
  },
  {
   "cell_type": "markdown",
   "metadata": {},
   "source": [
    "The trend shows an increase from 2018 to 2019, a huge dip in 2020 and a little increase in 2021."
   ]
  },
  {
   "cell_type": "markdown",
   "metadata": {},
   "source": [
    "2. Which year had the most investors?"
   ]
  },
  {
   "cell_type": "code",
   "execution_count": 410,
   "metadata": {},
   "outputs": [
    {
     "data": {
      "text/plain": [
       "Year\n",
       "2021    2038\n",
       "2020    1794\n",
       "2018    1010\n",
       "2019     171\n",
       "Name: Num_of_Investors, dtype: int32"
      ]
     },
     "execution_count": 410,
     "metadata": {},
     "output_type": "execute_result"
    }
   ],
   "source": [
    "Total_investors_by_years = df.groupby('Year')['Num_of_Investors'].sum().sort_values(ascending=False)\n",
    "Total_investors_by_years"
   ]
  },
  {
   "cell_type": "code",
   "execution_count": 411,
   "metadata": {},
   "outputs": [
    {
     "data": {
      "image/png": "[encoded data removed]",
      "text/plain": [
       "<Figure size 1200x600 with 1 Axes>"
      ]
     },
     "metadata": {},
     "output_type": "display_data"
    }
   ],
   "source": [
    "plt.figure(figsize=(12, 6))\n",
    "plot = sns.barplot(Total_investors_by_years, palette='viridis')\n",
    "\n",
    "#Add values on top of bar graph\n",
    "for p in plot.patches:\n",
    "    plot.annotate('{:,.0f}'.format(p.get_height()),  # Format the value with thousand comma separator\n",
    "                      (p.get_x() + p.get_width() / 2., p.get_height()),\n",
    "                      ha='center', va='center',\n",
    "                      xytext=(0, 9), textcoords='offset points')\n",
    "plt.title('Total Investors by Year')\n",
    "plt.xlabel('Year')\n",
    "plt.ylabel('Total Investors')\n",
    "plt.show()"
   ]
  },
  {
   "cell_type": "markdown",
   "metadata": {},
   "source": [
    "As seen in  the plot above, investors swarmed the indian startup ecosystem in 2021 with 2,038 investors."
   ]
  },
  {
   "cell_type": "markdown",
   "metadata": {},
   "source": [
    "3. Which startups received the highest funding amount for each year?\n",
    "   - Which sectors are those companies from?\n",
    "   - Who were their Investors?\n",
    "   - What does these companies do?\n",
    "   "
   ]
  },
  {
   "cell_type": "code",
   "execution_count": 412,
   "metadata": {},
   "outputs": [
    {
     "data": {
      "text/html": [
       "<div>\n",
       "<style scoped>\n",
       "    .dataframe tbody tr th:only-of-type {\n",
       "        vertical-align: middle;\n",
       "    }\n",
       "\n",
       "    .dataframe tbody tr th {\n",
       "        vertical-align: top;\n",
       "    }\n",
       "\n",
       "    .dataframe thead th {\n",
       "        text-align: right;\n",
       "    }\n",
       "</style>\n",
       "<table border=\"1\" class=\"dataframe\">\n",
       "  <thead>\n",
       "    <tr style=\"text-align: right;\">\n",
       "      <th></th>\n",
       "      <th>Year</th>\n",
       "      <th>Company_Brand</th>\n",
       "      <th>new_amount</th>\n",
       "      <th>Sector</th>\n",
       "      <th>Investor</th>\n",
       "    </tr>\n",
       "  </thead>\n",
       "  <tbody>\n",
       "    <tr>\n",
       "      <th>2365</th>\n",
       "      <td>2018</td>\n",
       "      <td>Swiggy</td>\n",
       "      <td>1000000000.00</td>\n",
       "      <td>Consumables</td>\n",
       "      <td>Not Specified</td>\n",
       "    </tr>\n",
       "    <tr>\n",
       "      <th>2875</th>\n",
       "      <td>2019</td>\n",
       "      <td>Oyo</td>\n",
       "      <td>693000000.00</td>\n",
       "      <td>Hospitality</td>\n",
       "      <td>MyPreferred Transformation, Avendus Finance, SoftBank</td>\n",
       "    </tr>\n",
       "    <tr>\n",
       "      <th>317</th>\n",
       "      <td>2020</td>\n",
       "      <td>Snowflake</td>\n",
       "      <td>3000000000.00</td>\n",
       "      <td>Technology</td>\n",
       "      <td>Salesforce Ventures, Dragoneer Investment Group</td>\n",
       "    </tr>\n",
       "    <tr>\n",
       "      <th>1401</th>\n",
       "      <td>2021</td>\n",
       "      <td>VerSe Innovation</td>\n",
       "      <td>1000000000.00</td>\n",
       "      <td>Technology</td>\n",
       "      <td>Canaan Valley Capital, Glade Brook Capital Partners</td>\n",
       "    </tr>\n",
       "  </tbody>\n",
       "</table>\n",
       "</div>"
      ],
      "text/plain": [
       "      Year     Company_Brand    new_amount       Sector  \\\n",
       "2365  2018            Swiggy 1000000000.00  Consumables   \n",
       "2875  2019               Oyo  693000000.00  Hospitality   \n",
       "317   2020         Snowflake 3000000000.00   Technology   \n",
       "1401  2021  VerSe Innovation 1000000000.00   Technology   \n",
       "\n",
       "                                                   Investor  \n",
       "2365                                          Not Specified  \n",
       "2875  MyPreferred Transformation, Avendus Finance, SoftBank  \n",
       "317         Salesforce Ventures, Dragoneer Investment Group  \n",
       "1401    Canaan Valley Capital, Glade Brook Capital Partners  "
      ]
     },
     "execution_count": 412,
     "metadata": {},
     "output_type": "execute_result"
    }
   ],
   "source": [
    "\n",
    "# Find the startups with the highest funding amount for each year\n",
    "idx = df.groupby('Year').new_amount.idxmax()\n",
    "highest_funding_df = df.loc[idx]\n",
    "\n",
    "# Display the result\n",
    "highest_funding_df[['Year', 'Company_Brand','new_amount', 'Sector', 'Investor']]"
   ]
  },
  {
   "cell_type": "code",
   "execution_count": 413,
   "metadata": {},
   "outputs": [
    {
     "data": {
      "text/html": [
       "<div>\n",
       "<style scoped>\n",
       "    .dataframe tbody tr th:only-of-type {\n",
       "        vertical-align: middle;\n",
       "    }\n",
       "\n",
       "    .dataframe tbody tr th {\n",
       "        vertical-align: top;\n",
       "    }\n",
       "\n",
       "    .dataframe thead th {\n",
       "        text-align: right;\n",
       "    }\n",
       "</style>\n",
       "<table border=\"1\" class=\"dataframe\">\n",
       "  <thead>\n",
       "    <tr style=\"text-align: right;\">\n",
       "      <th></th>\n",
       "      <th>Company_Brand</th>\n",
       "      <th>What_it_does</th>\n",
       "    </tr>\n",
       "  </thead>\n",
       "  <tbody>\n",
       "    <tr>\n",
       "      <th>2365</th>\n",
       "      <td>Swiggy</td>\n",
       "      <td>Swiggy is a food ordering and delivery company that provides food service solutions for restaurants.</td>\n",
       "    </tr>\n",
       "    <tr>\n",
       "      <th>2875</th>\n",
       "      <td>Oyo</td>\n",
       "      <td>Provides rooms for comfortable stay</td>\n",
       "    </tr>\n",
       "    <tr>\n",
       "      <th>317</th>\n",
       "      <td>Snowflake</td>\n",
       "      <td>Snowflake is a cloud data platform that provides a data warehouse-as-a-service designed for the cloud.</td>\n",
       "    </tr>\n",
       "    <tr>\n",
       "      <th>1401</th>\n",
       "      <td>VerSe Innovation</td>\n",
       "      <td>Owner of Dailyhunt App and I-Pay</td>\n",
       "    </tr>\n",
       "  </tbody>\n",
       "</table>\n",
       "</div>"
      ],
      "text/plain": [
       "         Company_Brand  \\\n",
       "2365            Swiggy   \n",
       "2875               Oyo   \n",
       "317          Snowflake   \n",
       "1401  VerSe Innovation   \n",
       "\n",
       "                                                                                                What_it_does  \n",
       "2365    Swiggy is a food ordering and delivery company that provides food service solutions for restaurants.  \n",
       "2875                                                                     Provides rooms for comfortable stay  \n",
       "317   Snowflake is a cloud data platform that provides a data warehouse-as-a-service designed for the cloud.  \n",
       "1401                                                                        Owner of Dailyhunt App and I-Pay  "
      ]
     },
     "execution_count": 413,
     "metadata": {},
     "output_type": "execute_result"
    }
   ],
   "source": [
    "pd.set_option('display.max_colwidth', None) # so I can see everything in the 'What_it_does' column\n",
    "highest_funding_df[['Company_Brand','What_it_does']]"
   ]
  },
  {
   "cell_type": "markdown",
   "metadata": {},
   "source": [
    "From the above findings;\n",
    "\n",
    "- A startup called Swiggy got the highest funding in 2018. They received $1bn from an anonymous investor.\n",
    "- A startup that provides room for comfortable stay, called Oyo, received a fund of $693M in 2019 which was the highest for that year.\n",
    "- Snowflake, which is a startup in the Technology sector that received the highest funding in 2020, an amount of $3bn.\n",
    "- VerSe Innovation is a Technology startup that received the highest funding in 2021. They received a huge fund of $1bn."
   ]
  },
  {
   "cell_type": "code",
   "execution_count": null,
   "metadata": {},
   "outputs": [],
   "source": []
  },
  {
   "cell_type": "markdown",
   "metadata": {},
   "source": [
    "4. What are the top 5 and bottom 5 start-ups according to funding amount and Which sectors are they from?"
   ]
  },
  {
   "cell_type": "code",
   "execution_count": 414,
   "metadata": {},
   "outputs": [
    {
     "data": {
      "text/html": [
       "<div>\n",
       "<style scoped>\n",
       "    .dataframe tbody tr th:only-of-type {\n",
       "        vertical-align: middle;\n",
       "    }\n",
       "\n",
       "    .dataframe tbody tr th {\n",
       "        vertical-align: top;\n",
       "    }\n",
       "\n",
       "    .dataframe thead th {\n",
       "        text-align: right;\n",
       "    }\n",
       "</style>\n",
       "<table border=\"1\" class=\"dataframe\">\n",
       "  <thead>\n",
       "    <tr style=\"text-align: right;\">\n",
       "      <th></th>\n",
       "      <th>Company_Brand</th>\n",
       "      <th>Sector</th>\n",
       "      <th>new_amount</th>\n",
       "    </tr>\n",
       "  </thead>\n",
       "  <tbody>\n",
       "    <tr>\n",
       "      <th>317</th>\n",
       "      <td>Snowflake</td>\n",
       "      <td>Technology</td>\n",
       "      <td>3000000000.00</td>\n",
       "    </tr>\n",
       "    <tr>\n",
       "      <th>328</th>\n",
       "      <td>Reliance</td>\n",
       "      <td>Other</td>\n",
       "      <td>2200000000.00</td>\n",
       "    </tr>\n",
       "    <tr>\n",
       "      <th>1401</th>\n",
       "      <td>VerSe Innovation</td>\n",
       "      <td>Technology</td>\n",
       "      <td>1000000000.00</td>\n",
       "    </tr>\n",
       "    <tr>\n",
       "      <th>2365</th>\n",
       "      <td>Swiggy</td>\n",
       "      <td>Consumables</td>\n",
       "      <td>1000000000.00</td>\n",
       "    </tr>\n",
       "    <tr>\n",
       "      <th>1990</th>\n",
       "      <td>Dream Sports</td>\n",
       "      <td>Gaming</td>\n",
       "      <td>840000000.00</td>\n",
       "    </tr>\n",
       "  </tbody>\n",
       "</table>\n",
       "</div>"
      ],
      "text/plain": [
       "         Company_Brand       Sector    new_amount\n",
       "317          Snowflake   Technology 3000000000.00\n",
       "328           Reliance        Other 2200000000.00\n",
       "1401  VerSe Innovation   Technology 1000000000.00\n",
       "2365            Swiggy  Consumables 1000000000.00\n",
       "1990      Dream Sports       Gaming  840000000.00"
      ]
     },
     "execution_count": 414,
     "metadata": {},
     "output_type": "execute_result"
    }
   ],
   "source": [
    "# Top 5 Startups by funding amount\n",
    "top_5_companies = df.sort_values(by='new_amount', ascending=False).head(5)\n",
    "\n",
    "\n",
    "\n",
    "top_5 = top_5_companies[['Company_Brand', 'Sector', 'new_amount']]\n",
    "top_5"
   ]
  },
  {
   "cell_type": "code",
   "execution_count": 415,
   "metadata": {},
   "outputs": [
    {
     "data": {
      "image/png": "[encoded data removed]",
      "text/plain": [
       "<Figure size 640x480 with 1 Axes>"
      ]
     },
     "metadata": {},
     "output_type": "display_data"
    }
   ],
   "source": [
    "\n",
    "# Add labels and a title\n",
    "sns.barplot(x = top_5['new_amount'], y = top_5['Company_Brand'], palette='viridis')\n",
    "plt.xlabel('Amount')\n",
    "plt.ylabel('Startup Company')\n",
    "plt.title('Top 5 Startups by Total Funding amount received')\n",
    "plt.show()"
   ]
  },
  {
   "cell_type": "code",
   "execution_count": 416,
   "metadata": {},
   "outputs": [
    {
     "data": {
      "text/html": [
       "<div>\n",
       "<style scoped>\n",
       "    .dataframe tbody tr th:only-of-type {\n",
       "        vertical-align: middle;\n",
       "    }\n",
       "\n",
       "    .dataframe tbody tr th {\n",
       "        vertical-align: top;\n",
       "    }\n",
       "\n",
       "    .dataframe thead th {\n",
       "        text-align: right;\n",
       "    }\n",
       "</style>\n",
       "<table border=\"1\" class=\"dataframe\">\n",
       "  <thead>\n",
       "    <tr style=\"text-align: right;\">\n",
       "      <th></th>\n",
       "      <th>Company_Brand</th>\n",
       "      <th>Sector</th>\n",
       "      <th>new_amount</th>\n",
       "    </tr>\n",
       "  </thead>\n",
       "  <tbody>\n",
       "    <tr>\n",
       "      <th>2425</th>\n",
       "      <td>UnoTag</td>\n",
       "      <td>Technology</td>\n",
       "      <td>100000.00</td>\n",
       "    </tr>\n",
       "    <tr>\n",
       "      <th>2426</th>\n",
       "      <td>CivilCops</td>\n",
       "      <td>Technology</td>\n",
       "      <td>100000.00</td>\n",
       "    </tr>\n",
       "    <tr>\n",
       "      <th>2649</th>\n",
       "      <td>TECHBOOZE</td>\n",
       "      <td>Education</td>\n",
       "      <td>100000.00</td>\n",
       "    </tr>\n",
       "    <tr>\n",
       "      <th>416</th>\n",
       "      <td>Illumnus</td>\n",
       "      <td>Education</td>\n",
       "      <td>100000.00</td>\n",
       "    </tr>\n",
       "    <tr>\n",
       "      <th>139</th>\n",
       "      <td>Prescribe</td>\n",
       "      <td>Healthcare</td>\n",
       "      <td>100000.00</td>\n",
       "    </tr>\n",
       "  </tbody>\n",
       "</table>\n",
       "</div>"
      ],
      "text/plain": [
       "     Company_Brand      Sector  new_amount\n",
       "2425        UnoTag  Technology   100000.00\n",
       "2426     CivilCops  Technology   100000.00\n",
       "2649     TECHBOOZE   Education   100000.00\n",
       "416       Illumnus   Education   100000.00\n",
       "139      Prescribe  Healthcare   100000.00"
      ]
     },
     "execution_count": 416,
     "metadata": {},
     "output_type": "execute_result"
    }
   ],
   "source": [
    "# Top 5 Startups by funding amount\n",
    "bottom_5_companies = df.sort_values(by='new_amount', ascending=False).tail(5)\n",
    "\n",
    "\n",
    "\n",
    "bottom_5 = bottom_5_companies[['Company_Brand', 'Sector', 'new_amount']]\n",
    "bottom_5"
   ]
  },
  {
   "cell_type": "code",
   "execution_count": 417,
   "metadata": {},
   "outputs": [
    {
     "data": {
      "image/png": "[encoded data removed]",
      "text/plain": [
       "<Figure size 640x480 with 1 Axes>"
      ]
     },
     "metadata": {},
     "output_type": "display_data"
    }
   ],
   "source": [
    "# Add labels and a title\n",
    "sns.barplot(x = bottom_5['new_amount'], y = bottom_5['Company_Brand'], palette='viridis')\n",
    "plt.xlabel('Amount')\n",
    "plt.ylabel('Startup Company')\n",
    "plt.title('Bottom 5 Startups by Funding amount')\n",
    "plt.show()"
   ]
  },
  {
   "cell_type": "markdown",
   "metadata": {},
   "source": [
    "5. What are the top 5 and bottom 5 by Total Funding amount received?"
   ]
  },
  {
   "cell_type": "code",
   "execution_count": 418,
   "metadata": {},
   "outputs": [
    {
     "data": {
      "text/plain": [
       "Sector\n",
       "Technology   13002386504.34\n",
       "Education     7420709632.97\n",
       "Other         6969672607.13\n",
       "Automotive    6480211333.51\n",
       "FinTech       6443416165.73\n",
       "Name: new_amount, dtype: float64"
      ]
     },
     "execution_count": 418,
     "metadata": {},
     "output_type": "execute_result"
    }
   ],
   "source": [
    "# Top 5 sectors by Total Funding\n",
    "top_5_sectors = df.groupby('Sector')['new_amount'].sum().sort_values(ascending=False).head(5)\n",
    "top_5_sectors"
   ]
  },
  {
   "cell_type": "code",
   "execution_count": 419,
   "metadata": {},
   "outputs": [
    {
     "data": {
      "image/png": "[encoded data removed]",
      "text/plain": [
       "<Figure size 640x480 with 1 Axes>"
      ]
     },
     "metadata": {},
     "output_type": "display_data"
    }
   ],
   "source": [
    "sns.barplot(x = top_5_sectors.values , y = top_5_sectors.index)\n",
    "plt.title('Top 5 Sectors by Total Funding received')\n",
    "plt.show()"
   ]
  },
  {
   "cell_type": "code",
   "execution_count": 420,
   "metadata": {},
   "outputs": [
    {
     "data": {
      "text/plain": [
       "Sector\n",
       "Lifestyle     859354559.58\n",
       "Real Estate   617004505.19\n",
       "Agriculture   249622742.75\n",
       "Marketing     147754481.62\n",
       "Manufacture   136559222.09\n",
       "Name: new_amount, dtype: float64"
      ]
     },
     "execution_count": 420,
     "metadata": {},
     "output_type": "execute_result"
    }
   ],
   "source": [
    "# Bottom 5 sectors by Total Funding\n",
    "bottom_5_sectors = df.groupby('Sector')['new_amount'].sum().sort_values(ascending=False).tail(5)\n",
    "bottom_5_sectors"
   ]
  },
  {
   "cell_type": "code",
   "execution_count": 421,
   "metadata": {},
   "outputs": [
    {
     "data": {
      "image/png": "[encoded data removed]",
      "text/plain": [
       "<Figure size 640x480 with 1 Axes>"
      ]
     },
     "metadata": {},
     "output_type": "display_data"
    }
   ],
   "source": [
    "sns.barplot(x = bottom_5_sectors.values , y = bottom_5_sectors.index)\n",
    "plt.title('Bottom 5 Sectors by Total Funding received')\n",
    "plt.show()"
   ]
  },
  {
   "cell_type": "markdown",
   "metadata": {},
   "source": [
    "\n",
    "6. Top 10 HQ locations by average funding amounts."
   ]
  },
  {
   "cell_type": "code",
   "execution_count": 422,
   "metadata": {},
   "outputs": [
    {
     "data": {
      "text/html": [
       "<div>\n",
       "<style scoped>\n",
       "    .dataframe tbody tr th:only-of-type {\n",
       "        vertical-align: middle;\n",
       "    }\n",
       "\n",
       "    .dataframe tbody tr th {\n",
       "        vertical-align: top;\n",
       "    }\n",
       "\n",
       "    .dataframe thead th {\n",
       "        text-align: right;\n",
       "    }\n",
       "</style>\n",
       "<table border=\"1\" class=\"dataframe\">\n",
       "  <thead>\n",
       "    <tr style=\"text-align: right;\">\n",
       "      <th></th>\n",
       "      <th>new_amount</th>\n",
       "    </tr>\n",
       "    <tr>\n",
       "      <th>HeadQuarter</th>\n",
       "      <th></th>\n",
       "    </tr>\n",
       "  </thead>\n",
       "  <tbody>\n",
       "    <tr>\n",
       "      <th>California</th>\n",
       "      <td>447537172.47</td>\n",
       "    </tr>\n",
       "    <tr>\n",
       "      <th>Shanghai</th>\n",
       "      <td>400000000.00</td>\n",
       "    </tr>\n",
       "    <tr>\n",
       "      <th>Kalpakkam</th>\n",
       "      <td>210000000.00</td>\n",
       "    </tr>\n",
       "    <tr>\n",
       "      <th>Beijing</th>\n",
       "      <td>200000000.00</td>\n",
       "    </tr>\n",
       "    <tr>\n",
       "      <th>Jiaxing</th>\n",
       "      <td>176000000.00</td>\n",
       "    </tr>\n",
       "    <tr>\n",
       "      <th>Berlin</th>\n",
       "      <td>170000000.00</td>\n",
       "    </tr>\n",
       "    <tr>\n",
       "      <th>San Ramon</th>\n",
       "      <td>150000000.00</td>\n",
       "    </tr>\n",
       "    <tr>\n",
       "      <th>Faridabad</th>\n",
       "      <td>117308872.97</td>\n",
       "    </tr>\n",
       "    <tr>\n",
       "      <th>Manchester</th>\n",
       "      <td>75000000.00</td>\n",
       "    </tr>\n",
       "    <tr>\n",
       "      <th>London</th>\n",
       "      <td>48066666.67</td>\n",
       "    </tr>\n",
       "  </tbody>\n",
       "</table>\n",
       "</div>"
      ],
      "text/plain": [
       "              new_amount\n",
       "HeadQuarter             \n",
       "California  447537172.47\n",
       "Shanghai    400000000.00\n",
       "Kalpakkam   210000000.00\n",
       "Beijing     200000000.00\n",
       "Jiaxing     176000000.00\n",
       "Berlin      170000000.00\n",
       "San Ramon   150000000.00\n",
       "Faridabad   117308872.97\n",
       "Manchester   75000000.00\n",
       "London       48066666.67"
      ]
     },
     "execution_count": 422,
     "metadata": {},
     "output_type": "execute_result"
    }
   ],
   "source": [
    "top_10_HQ = df.groupby('HeadQuarter')['new_amount'].mean().sort_values(ascending=False).head(10)\n",
    "top_10_HQ = pd.DataFrame(top_10_HQ)\n",
    "top_10_HQ"
   ]
  },
  {
   "cell_type": "code",
   "execution_count": 423,
   "metadata": {},
   "outputs": [
    {
     "data": {
      "text/plain": [
       "Text(0.5, 1.0, 'Top 10 HQ Locations by Average Funding')"
      ]
     },
     "execution_count": 423,
     "metadata": {},
     "output_type": "execute_result"
    },
    {
     "data": {
      "image/png": "[encoded data removed]",
      "text/plain": [
       "<Figure size 1200x500 with 1 Axes>"
      ]
     },
     "metadata": {},
     "output_type": "display_data"
    }
   ],
   "source": [
    "plt.figure(figsize=(12, 5))\n",
    "sns.barplot(x = top_10_HQ.new_amount, y = top_10_HQ.index, data = top_10_HQ, palette = \"Spectral\")\n",
    "plt.xlabel('Amount')\n",
    "plt.title('Top 10 HQ Locations by Average Funding')"
   ]
  },
  {
   "cell_type": "markdown",
   "metadata": {},
   "source": [
    "7. What is the number of funding deals per HQ locations?"
   ]
  },
  {
   "cell_type": "code",
   "execution_count": 424,
   "metadata": {},
   "outputs": [
    {
     "data": {
      "text/html": [
       "<div>\n",
       "<style scoped>\n",
       "    .dataframe tbody tr th:only-of-type {\n",
       "        vertical-align: middle;\n",
       "    }\n",
       "\n",
       "    .dataframe tbody tr th {\n",
       "        vertical-align: top;\n",
       "    }\n",
       "\n",
       "    .dataframe thead th {\n",
       "        text-align: right;\n",
       "    }\n",
       "</style>\n",
       "<table border=\"1\" class=\"dataframe\">\n",
       "  <thead>\n",
       "    <tr style=\"text-align: right;\">\n",
       "      <th></th>\n",
       "      <th>count</th>\n",
       "    </tr>\n",
       "    <tr>\n",
       "      <th>HeadQuarter</th>\n",
       "      <th></th>\n",
       "    </tr>\n",
       "  </thead>\n",
       "  <tbody>\n",
       "    <tr>\n",
       "      <th>Bangalore</th>\n",
       "      <td>928</td>\n",
       "    </tr>\n",
       "    <tr>\n",
       "      <th>Mumbai</th>\n",
       "      <td>469</td>\n",
       "    </tr>\n",
       "    <tr>\n",
       "      <th>Delhi</th>\n",
       "      <td>329</td>\n",
       "    </tr>\n",
       "    <tr>\n",
       "      <th>Gurugram</th>\n",
       "      <td>328</td>\n",
       "    </tr>\n",
       "    <tr>\n",
       "      <th>Pune</th>\n",
       "      <td>120</td>\n",
       "    </tr>\n",
       "    <tr>\n",
       "      <th>...</th>\n",
       "      <td>...</td>\n",
       "    </tr>\n",
       "    <tr>\n",
       "      <th>Ranchi</th>\n",
       "      <td>1</td>\n",
       "    </tr>\n",
       "    <tr>\n",
       "      <th>Rajsamand</th>\n",
       "      <td>1</td>\n",
       "    </tr>\n",
       "    <tr>\n",
       "      <th>Andhra Pradesh</th>\n",
       "      <td>1</td>\n",
       "    </tr>\n",
       "    <tr>\n",
       "      <th>Queensland</th>\n",
       "      <td>1</td>\n",
       "    </tr>\n",
       "    <tr>\n",
       "      <th>Rajasthan</th>\n",
       "      <td>1</td>\n",
       "    </tr>\n",
       "  </tbody>\n",
       "</table>\n",
       "<p>118 rows × 1 columns</p>\n",
       "</div>"
      ],
      "text/plain": [
       "                count\n",
       "HeadQuarter          \n",
       "Bangalore         928\n",
       "Mumbai            469\n",
       "Delhi             329\n",
       "Gurugram          328\n",
       "Pune              120\n",
       "...               ...\n",
       "Ranchi              1\n",
       "Rajsamand           1\n",
       "Andhra Pradesh      1\n",
       "Queensland          1\n",
       "Rajasthan           1\n",
       "\n",
       "[118 rows x 1 columns]"
      ]
     },
     "execution_count": 424,
     "metadata": {},
     "output_type": "execute_result"
    }
   ],
   "source": [
    "HQ_count = df['HeadQuarter'].value_counts()\n",
    "pd.DataFrame(HQ_count)"
   ]
  },
  {
   "cell_type": "markdown",
   "metadata": {},
   "source": [
    "8. What is the average amount of funds received by startups at different stages?"
   ]
  },
  {
   "cell_type": "code",
   "execution_count": 425,
   "metadata": {},
   "outputs": [
    {
     "data": {
      "text/html": [
       "<div>\n",
       "<style scoped>\n",
       "    .dataframe tbody tr th:only-of-type {\n",
       "        vertical-align: middle;\n",
       "    }\n",
       "\n",
       "    .dataframe tbody tr th {\n",
       "        vertical-align: top;\n",
       "    }\n",
       "\n",
       "    .dataframe thead th {\n",
       "        text-align: right;\n",
       "    }\n",
       "</style>\n",
       "<table border=\"1\" class=\"dataframe\">\n",
       "  <thead>\n",
       "    <tr style=\"text-align: right;\">\n",
       "      <th></th>\n",
       "      <th>new_amount</th>\n",
       "    </tr>\n",
       "    <tr>\n",
       "      <th>Stage</th>\n",
       "      <th></th>\n",
       "    </tr>\n",
       "  </thead>\n",
       "  <tbody>\n",
       "    <tr>\n",
       "      <th>Series H</th>\n",
       "      <td>578125000.00</td>\n",
       "    </tr>\n",
       "    <tr>\n",
       "      <th>Post-IPO Equity</th>\n",
       "      <td>143487063.29</td>\n",
       "    </tr>\n",
       "    <tr>\n",
       "      <th>Series D</th>\n",
       "      <td>53795820.96</td>\n",
       "    </tr>\n",
       "    <tr>\n",
       "      <th>Pre-Seed</th>\n",
       "      <td>48034149.41</td>\n",
       "    </tr>\n",
       "    <tr>\n",
       "      <th>Series E</th>\n",
       "      <td>39861619.86</td>\n",
       "    </tr>\n",
       "    <tr>\n",
       "      <th>Series C</th>\n",
       "      <td>34473412.68</td>\n",
       "    </tr>\n",
       "    <tr>\n",
       "      <th>Series B</th>\n",
       "      <td>28359505.49</td>\n",
       "    </tr>\n",
       "    <tr>\n",
       "      <th>Angel</th>\n",
       "      <td>27691994.12</td>\n",
       "    </tr>\n",
       "    <tr>\n",
       "      <th>Corporate Round</th>\n",
       "      <td>22780058.15</td>\n",
       "    </tr>\n",
       "    <tr>\n",
       "      <th>Venture - Series Unknown</th>\n",
       "      <td>16917362.75</td>\n",
       "    </tr>\n",
       "    <tr>\n",
       "      <th>Series A</th>\n",
       "      <td>16886417.45</td>\n",
       "    </tr>\n",
       "    <tr>\n",
       "      <th>Seed</th>\n",
       "      <td>12961868.70</td>\n",
       "    </tr>\n",
       "    <tr>\n",
       "      <th>Grant</th>\n",
       "      <td>10052325.20</td>\n",
       "    </tr>\n",
       "  </tbody>\n",
       "</table>\n",
       "</div>"
      ],
      "text/plain": [
       "                           new_amount\n",
       "Stage                                \n",
       "Series H                 578125000.00\n",
       "Post-IPO Equity          143487063.29\n",
       "Series D                  53795820.96\n",
       "Pre-Seed                  48034149.41\n",
       "Series E                  39861619.86\n",
       "Series C                  34473412.68\n",
       "Series B                  28359505.49\n",
       "Angel                     27691994.12\n",
       "Corporate Round           22780058.15\n",
       "Venture - Series Unknown  16917362.75\n",
       "Series A                  16886417.45\n",
       "Seed                      12961868.70\n",
       "Grant                     10052325.20"
      ]
     },
     "execution_count": 425,
     "metadata": {},
     "output_type": "execute_result"
    }
   ],
   "source": [
    "avg_fund_per_stage = df.groupby('Stage')['new_amount'].mean().sort_values(ascending=False)\n",
    "avg_fund_per_stage = pd.DataFrame(avg_fund_per_stage)\n",
    "avg_fund_per_stage"
   ]
  },
  {
   "cell_type": "code",
   "execution_count": 426,
   "metadata": {},
   "outputs": [
    {
     "data": {
      "text/plain": [
       "Text(0.5, 1.0, 'Average Funding Per Stage')"
      ]
     },
     "execution_count": 426,
     "metadata": {},
     "output_type": "execute_result"
    },
    {
     "data": {
      "image/png": "[encoded data removed]",
      "text/plain": [
       "<Figure size 1200x500 with 1 Axes>"
      ]
     },
     "metadata": {},
     "output_type": "display_data"
    }
   ],
   "source": [
    "plt.figure(figsize=(12, 5))\n",
    "sns.barplot(x = avg_fund_per_stage.new_amount, y = avg_fund_per_stage.index, data = avg_fund_per_stage, palette = \"Spectral\")\n",
    "plt.xlabel('Amount')\n",
    "plt.title('Average Funding Per Stage')"
   ]
  },
  {
   "cell_type": "markdown",
   "metadata": {},
   "source": [
    "9. What is the median number of founders per startup?\n",
    "    - Show a distribution plot of the number of founders."
   ]
  },
  {
   "cell_type": "code",
   "execution_count": 427,
   "metadata": {},
   "outputs": [
    {
     "data": {
      "text/plain": [
       "2.0"
      ]
     },
     "execution_count": 427,
     "metadata": {},
     "output_type": "execute_result"
    }
   ],
   "source": [
    "median_num_of_founders = df['Num_of_Founders'].median()\n",
    "median_num_of_founders"
   ]
  },
  {
   "cell_type": "code",
   "execution_count": 428,
   "metadata": {},
   "outputs": [
    {
     "data": {
      "text/plain": [
       "<Axes: xlabel='Num_of_Founders', ylabel='Density'>"
      ]
     },
     "execution_count": 428,
     "metadata": {},
     "output_type": "execute_result"
    },
    {
     "data": {
      "image/png": "[encoded data removed]",
      "text/plain": [
       "<Figure size 640x480 with 1 Axes>"
      ]
     },
     "metadata": {},
     "output_type": "display_data"
    }
   ],
   "source": [
    "sns.kdeplot(df['Num_of_Founders'])"
   ]
  },
  {
   "cell_type": "code",
   "execution_count": 429,
   "metadata": {},
   "outputs": [],
   "source": [
    "df.to_csv('clean_fund_data.csv')"
   ]
  },
  {
   "cell_type": "code",
   "execution_count": null,
   "metadata": {},
   "outputs": [],
   "source": []
  }
 ],
 "metadata": {
  "kernelspec": {
   "display_name": "Python 3 (ipykernel)",
   "language": "python",
   "name": "python3"
  },
  "language_info": {
   "codemirror_mode": {
    "name": "ipython",
    "version": 3
   },
   "file_extension": ".py",
   "mimetype": "text/x-python",
   "name": "python",
   "nbconvert_exporter": "python",
   "pygments_lexer": "ipython3",
   "version": "3.12.1"
  }
 },
 "nbformat": 4,
 "nbformat_minor": 4
}
